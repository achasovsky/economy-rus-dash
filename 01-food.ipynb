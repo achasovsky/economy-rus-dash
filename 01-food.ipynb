{
 "cells": [
  {
   "cell_type": "markdown",
   "id": "dcb349fb-2919-45dc-adae-23a35b98ed65",
   "metadata": {},
   "source": [
    "# Section I. Main"
   ]
  },
  {
   "cell_type": "markdown",
   "id": "24e4ab22-ebd4-4a98-88f6-e90e67f0eaa2",
   "metadata": {},
   "source": [
    "### Load libraries, functions, palette, theme"
   ]
  },
  {
   "cell_type": "raw",
   "id": "501afb18-0e94-45d6-9849-7aa31a5a2c94",
   "metadata": {},
   "source": [
    "import os\n",
    "from pathlib import Path"
   ]
  },
  {
   "cell_type": "code",
   "execution_count": 1,
   "id": "875a8f50-d2bf-4b15-8f8c-bdc0913d6033",
   "metadata": {},
   "outputs": [],
   "source": [
    "# load libraries and palette\n",
    "%run __libraries.ipynb"
   ]
  },
  {
   "cell_type": "code",
   "execution_count": 2,
   "id": "07623594-1404-4900-8760-57cbc4cadcbb",
   "metadata": {},
   "outputs": [],
   "source": [
    "# load functions\n",
    "# from __functions import *\n",
    "%run __functions.ipynb"
   ]
  },
  {
   "cell_type": "code",
   "execution_count": 3,
   "id": "da6c70cf-8594-423a-a08f-c48be160041d",
   "metadata": {},
   "outputs": [],
   "source": [
    "# start stopwatch\n",
    "start = stopwatch_start()"
   ]
  },
  {
   "cell_type": "markdown",
   "id": "fb7ba096-4563-4796-99f7-624e322475c7",
   "metadata": {},
   "source": [
    "### Variables"
   ]
  },
  {
   "cell_type": "code",
   "execution_count": 4,
   "id": "88f78c3d-cce0-46cb-9960-78cdefb6b0ab",
   "metadata": {},
   "outputs": [],
   "source": [
    "path_img = 'docs/img/'"
   ]
  },
  {
   "cell_type": "code",
   "execution_count": 5,
   "id": "2c3553c2-0bc2-4403-a3b0-f1886bc0450a",
   "metadata": {},
   "outputs": [],
   "source": [
    "path_files = 'files'"
   ]
  },
  {
   "cell_type": "code",
   "execution_count": 6,
   "id": "6ccbeaed-676b-4f2b-80a0-fedf317b7c50",
   "metadata": {},
   "outputs": [],
   "source": [
    "path_excel_csv = 'excel-csv'"
   ]
  },
  {
   "cell_type": "markdown",
   "id": "26fd66a0-6311-4f6c-9c4c-50692003606b",
   "metadata": {},
   "source": [
    "### Load Files"
   ]
  },
  {
   "cell_type": "code",
   "execution_count": 7,
   "id": "3400b855-c10d-484f-8678-2c76e0e69f7f",
   "metadata": {},
   "outputs": [],
   "source": [
    "economics_data = loadit('economics_data', path=path_files, create_empty_dict=True)"
   ]
  },
  {
   "cell_type": "markdown",
   "id": "f6229968-6024-434d-801e-f28b3d23902c",
   "metadata": {},
   "source": [
    "# Потребительские цены"
   ]
  },
  {
   "cell_type": "code",
   "execution_count": 8,
   "id": "267b064e-4eac-4365-b236-5a55f6191f5c",
   "metadata": {},
   "outputs": [],
   "source": [
    "prices_producers_agriculture = economics_data['prices_producers_agriculture'].copy()"
   ]
  },
  {
   "cell_type": "code",
   "execution_count": 9,
   "id": "e8be0d2d-8964-462c-a889-5d9800659126",
   "metadata": {},
   "outputs": [],
   "source": [
    "prices_consumers = economics_data['prices_consumers'].copy()"
   ]
  },
  {
   "cell_type": "markdown",
   "id": "b9acc206-d512-4b0a-9a72-f1f0a72f68d1",
   "metadata": {},
   "source": [
    "В 2022 году изменена номенклатура для хлеба.  \n",
    "\n",
    "В 2021:\n",
    "- хлеб и булочные изделия из пшеничной муки 1 и 2 сортов, кг\n",
    "- хлеб и булочные изделия из пшеничной муки высшего сорта, кг\n",
    "\n",
    "\n",
    "В 2022:\n",
    "- хлеб и булочные изделия из пшеничной муки различных сортов, кг\n",
    "\n",
    "В конечном итоге, цена для 2021 года считается как средняя от  'хлеб и булочные изделия из пшеничной муки 1 и 2 сортов, кг' \n",
    "и 'хлеб и булочные изделия из пшеничной муки высшего сорта, кг'. На графике цена за 2021 год обозначены светлым тоном."
   ]
  },
  {
   "cell_type": "code",
   "execution_count": 10,
   "id": "b1dfe0c1-ef68-48ab-a1e1-8f87d48e7e43",
   "metadata": {},
   "outputs": [],
   "source": [
    "prices_producers_columns = [\n",
    "    'пшеница', 'крупный рогатый скот', 'свиньи', 'птица сельскохозяйственная живая',\n",
    "    'молоко сырое крупного рогатого скота', 'овощи', 'яйца куриные в скорлупе свежие'\n",
    "]"
   ]
  },
  {
   "cell_type": "code",
   "execution_count": 11,
   "id": "b949d059-73f1-4e83-90c0-174e6a3fb3b3",
   "metadata": {},
   "outputs": [],
   "source": [
    "prices_consumers_columns = [\n",
    "    'хлеб и булочные изделия из пшеничной муки 1 и 2 сортов, кг', \n",
    "    'хлеб и булочные изделия из пшеничной муки высшего сорта, кг',\n",
    "    'хлеб и булочные изделия из пшеничной муки различных сортов, кг',\n",
    "    'говядина (кроме бескостного мяса), кг', 'говядина бескостная, кг',\n",
    "    'свинина (кроме бескостного мяса), кг', 'свинина бескостная, кг',\n",
    "    'куры охлажденные и мороженые, кг', \n",
    "    'молоко питьевое цельное пастеризованное 2,5-3,2% жирности, л',\n",
    "    'сыры сычужные твердые и мягкие, кг', 'сыры твердые, полутвердые и мягкие, кг',\n",
    "    'сметана, кг', 'йогурт, 125 г', 'йогурт, кг', 'масло сливочное, кг', \n",
    "    'творог нежирный, кг', 'творог жирный, кг',\n",
    "    'картофель, кг', 'огурцы свежие, кг', 'помидоры свежие, кг',\n",
    "    'лук репчатый, кг', 'морковь, кг',\n",
    "    'яйца куриные, 10 шт.'\n",
    "]"
   ]
  },
  {
   "cell_type": "code",
   "execution_count": 12,
   "id": "b9abaf6b-96fb-4dcf-8744-9350fcf53acd",
   "metadata": {},
   "outputs": [],
   "source": [
    "prices_producers_food = prices_producers_agriculture[prices_producers_columns].copy()"
   ]
  },
  {
   "cell_type": "code",
   "execution_count": 13,
   "id": "4cdd45b6-f8b9-41e5-aedb-04c2a07df8c5",
   "metadata": {},
   "outputs": [],
   "source": [
    "prices_consumers_food = prices_consumers[prices_consumers_columns].copy()"
   ]
  },
  {
   "cell_type": "markdown",
   "id": "98ecd6fd-4c99-4f45-be5d-ad0825cc7e09",
   "metadata": {},
   "source": [
    "## Цены - абсолютные"
   ]
  },
  {
   "cell_type": "code",
   "execution_count": 14,
   "id": "6b58413e-f0e2-4ad9-a54f-120495e66b1e",
   "metadata": {},
   "outputs": [],
   "source": [
    "prices_food = pd.DataFrame()"
   ]
  },
  {
   "cell_type": "markdown",
   "id": "60ef91e3-e524-4e6a-a8e5-6ec64412e4d9",
   "metadata": {},
   "source": [
    "### Хлеб"
   ]
  },
  {
   "cell_type": "markdown",
   "id": "a113b5ca-8a36-4c5c-8ca5-55e6ad23f099",
   "metadata": {},
   "source": [
    "##### Производители"
   ]
  },
  {
   "cell_type": "code",
   "execution_count": 15,
   "id": "bf0e7e00-c7ba-4991-836a-1d108e632cd9",
   "metadata": {},
   "outputs": [],
   "source": [
    "# 0.001 - tonns to kilos\n",
    "prices_food = pd.concat(\n",
    "    [prices_food, prices_producers_food['пшеница'] * 0.001], axis=1\n",
    ")"
   ]
  },
  {
   "cell_type": "markdown",
   "id": "8ab051e2-4792-411c-aac5-9ffe51516f53",
   "metadata": {},
   "source": [
    "##### Потребители"
   ]
  },
  {
   "cell_type": "code",
   "execution_count": 16,
   "id": "e2a95899-abd4-461e-a14d-14fa3caa584e",
   "metadata": {},
   "outputs": [],
   "source": [
    "bread_2021 = pd.concat(\n",
    "    [prices_consumers_food['хлеб и булочные изделия из пшеничной муки 1 и 2 сортов, кг'],\n",
    "    prices_consumers_food['хлеб и булочные изделия из пшеничной муки высшего сорта, кг']],\n",
    "    axis=1\n",
    ")\n",
    "bread_2021 = bread_2021.mean(axis=1)"
   ]
  },
  {
   "cell_type": "code",
   "execution_count": 17,
   "id": "d4812c96-5b42-40f9-aa2d-f6ce4d8e8900",
   "metadata": {},
   "outputs": [],
   "source": [
    "bread = pd.concat([\n",
    "    bread_2021.dropna(),\n",
    "    prices_consumers_food['хлеб и булочные изделия из пшеничной муки различных сортов, кг'].dropna()\n",
    "])"
   ]
  },
  {
   "cell_type": "code",
   "execution_count": 18,
   "id": "16b79f8f-a3f5-4269-995e-c8a1261c2406",
   "metadata": {},
   "outputs": [],
   "source": [
    "bread.name = 'хлеб и булочные изделия из пшеничной муки различных сортов, кг'"
   ]
  },
  {
   "cell_type": "code",
   "execution_count": 19,
   "id": "8f04d25f-cd53-4003-bd8d-9e7d69e09998",
   "metadata": {},
   "outputs": [],
   "source": [
    "prices_food = pd.concat(\n",
    "    [prices_food, bread], axis=1\n",
    ")"
   ]
  },
  {
   "cell_type": "markdown",
   "id": "5bb08451-ee9c-4e34-adde-b59b4a80174d",
   "metadata": {},
   "source": [
    "### Говядина"
   ]
  },
  {
   "cell_type": "markdown",
   "id": "527227d8-fd03-461b-964a-bd3a81beb3f5",
   "metadata": {},
   "source": [
    "##### Производители"
   ]
  },
  {
   "cell_type": "code",
   "execution_count": 20,
   "id": "9b77db0e-54f6-4d86-bc0d-4a99636bd313",
   "metadata": {},
   "outputs": [],
   "source": [
    "# 0.001 - tonns to kilos\n",
    "prices_food = pd.concat(\n",
    "    [prices_food, prices_producers_food['крупный рогатый скот'] * 0.001], axis=1\n",
    ")"
   ]
  },
  {
   "cell_type": "markdown",
   "id": "03c532ba-5bf6-4b98-8d61-9c55e3f9dcce",
   "metadata": {},
   "source": [
    "##### Потребители"
   ]
  },
  {
   "cell_type": "code",
   "execution_count": 21,
   "id": "b8a68fad-e9b1-4033-8bb9-1fb89be746c9",
   "metadata": {},
   "outputs": [],
   "source": [
    "prices_food = pd.concat(\n",
    "    [prices_food, prices_consumers['говядина (кроме бескостного мяса), кг']], axis=1\n",
    ")"
   ]
  },
  {
   "cell_type": "code",
   "execution_count": 22,
   "id": "d43b2d7f-4ecf-4eaf-9627-8976c3f96744",
   "metadata": {},
   "outputs": [],
   "source": [
    "prices_food = pd.concat(\n",
    "    [prices_food, prices_consumers['говядина бескостная, кг']], axis=1\n",
    ")"
   ]
  },
  {
   "cell_type": "markdown",
   "id": "fb41c10b-d5cd-462a-912e-2d71d444ea9b",
   "metadata": {},
   "source": [
    "### Свинина"
   ]
  },
  {
   "cell_type": "markdown",
   "id": "d21428a2-9ab9-4b46-a44c-18c2e7216d5f",
   "metadata": {},
   "source": [
    "##### Производители"
   ]
  },
  {
   "cell_type": "code",
   "execution_count": 23,
   "id": "2fd6de7f-4e88-404d-83bc-1ca1efd31a27",
   "metadata": {},
   "outputs": [],
   "source": [
    "# 0.001 - tonns to kilos\n",
    "prices_food = pd.concat(\n",
    "    [prices_food, prices_producers_food['свиньи'] * 0.001], axis=1\n",
    ")"
   ]
  },
  {
   "cell_type": "markdown",
   "id": "41a7e26a-7441-4749-9b3c-856ddc196533",
   "metadata": {},
   "source": [
    "##### Потребители"
   ]
  },
  {
   "cell_type": "code",
   "execution_count": 24,
   "id": "1a54ec2f-e7a4-4043-992c-619a9429e2a1",
   "metadata": {},
   "outputs": [],
   "source": [
    "prices_food = pd.concat(\n",
    "    [prices_food, prices_consumers['свинина (кроме бескостного мяса), кг']], axis=1\n",
    ")"
   ]
  },
  {
   "cell_type": "code",
   "execution_count": 25,
   "id": "dcd81a46-6b95-4bf3-8f5e-2f59a4a3eee1",
   "metadata": {},
   "outputs": [],
   "source": [
    "prices_food = pd.concat(\n",
    "    [prices_food, prices_consumers['свинина бескостная, кг']], axis=1\n",
    ")"
   ]
  },
  {
   "cell_type": "markdown",
   "id": "9a12e2be-dcea-4c3a-8ed8-bb3c4fcb0c9f",
   "metadata": {},
   "source": [
    "### Курица"
   ]
  },
  {
   "cell_type": "markdown",
   "id": "0daa7c36-a587-477c-bc86-9f44da1f1116",
   "metadata": {},
   "source": [
    "##### Производители"
   ]
  },
  {
   "cell_type": "code",
   "execution_count": 26,
   "id": "2df47d36-bc99-4cbb-b911-ee1b3b09d52e",
   "metadata": {},
   "outputs": [],
   "source": [
    "# 0.001 - tonns to kilos\n",
    "prices_food = pd.concat(\n",
    "    [prices_food, prices_producers_food['птица сельскохозяйственная живая'] * 0.001], axis=1\n",
    ")"
   ]
  },
  {
   "cell_type": "markdown",
   "id": "9fea11fd-bd2f-40ff-b405-38731247b5f6",
   "metadata": {},
   "source": [
    "##### Потребители"
   ]
  },
  {
   "cell_type": "code",
   "execution_count": 27,
   "id": "297dbaf6-7843-4e1f-99f9-9b396c2d865b",
   "metadata": {},
   "outputs": [],
   "source": [
    "prices_food = pd.concat(\n",
    "    [prices_food, prices_consumers['куры охлажденные и мороженые, кг']], axis=1\n",
    ")"
   ]
  },
  {
   "cell_type": "markdown",
   "id": "aa20c1a7-32fd-4942-91be-6862d580c269",
   "metadata": {},
   "source": [
    "### Молоко"
   ]
  },
  {
   "cell_type": "markdown",
   "id": "22fb2d85-874b-4a09-9016-6e6542b2791b",
   "metadata": {},
   "source": [
    "##### Производители"
   ]
  },
  {
   "cell_type": "code",
   "execution_count": 28,
   "id": "1309d1e0-25c3-4557-8866-bb34bef6bf14",
   "metadata": {},
   "outputs": [],
   "source": [
    "# 0.001 - tonns to kilos\n",
    "prices_food = pd.concat(\n",
    "    [prices_food, prices_producers_food['молоко сырое крупного рогатого скота'] * 0.001], axis=1\n",
    ")"
   ]
  },
  {
   "cell_type": "markdown",
   "id": "e5bd5412-f6e4-4164-b21e-f4412f6a9f4d",
   "metadata": {},
   "source": [
    "##### Потребители"
   ]
  },
  {
   "cell_type": "code",
   "execution_count": 29,
   "id": "87ec4753-4fc3-4c59-b7fb-3163a314b684",
   "metadata": {},
   "outputs": [],
   "source": [
    "prices_food = pd.concat(\n",
    "    [prices_food, prices_consumers['молоко питьевое цельное пастеризованное 2,5-3,2% жирности, л']], axis=1\n",
    ")"
   ]
  },
  {
   "cell_type": "markdown",
   "id": "e046c772-cf5a-433a-aa9a-500172b58233",
   "metadata": {},
   "source": [
    "### Сыр"
   ]
  },
  {
   "cell_type": "markdown",
   "id": "6b116ebb-3760-4c26-ad57-ea935a5103f4",
   "metadata": {},
   "source": [
    "##### Потребители"
   ]
  },
  {
   "cell_type": "code",
   "execution_count": 30,
   "id": "41d47fe0-cf5f-4b90-86e2-2ebe60efa1f6",
   "metadata": {},
   "outputs": [],
   "source": [
    "cheese = pd.concat([\n",
    "    prices_consumers['сыры сычужные твердые и мягкие, кг'].dropna(),\n",
    "    prices_consumers['сыры твердые, полутвердые и мягкие, кг'].dropna()\n",
    "])"
   ]
  },
  {
   "cell_type": "code",
   "execution_count": 31,
   "id": "913ae829-7dfa-4dd4-94b7-de6603f59930",
   "metadata": {},
   "outputs": [],
   "source": [
    "cheese.name = 'сыры твердые, полутвердые и мягкие, кг'"
   ]
  },
  {
   "cell_type": "code",
   "execution_count": 32,
   "id": "1fff97e0-2618-45f3-8ada-93a53b368133",
   "metadata": {},
   "outputs": [],
   "source": [
    "prices_food = pd.concat(\n",
    "    [prices_food, cheese], axis=1\n",
    ")"
   ]
  },
  {
   "cell_type": "markdown",
   "id": "8e402335-b496-42cd-8e93-20ce4b46cf3f",
   "metadata": {},
   "source": [
    "### Сметана"
   ]
  },
  {
   "cell_type": "markdown",
   "id": "1ca08e90-b3fa-4a57-84ba-1afe07ed5ab2",
   "metadata": {},
   "source": [
    "##### Потребители"
   ]
  },
  {
   "cell_type": "code",
   "execution_count": 33,
   "id": "a8b571ff-9584-4dce-87bf-fc8f93a582b9",
   "metadata": {},
   "outputs": [],
   "source": [
    "prices_food = pd.concat(\n",
    "    [prices_food, prices_consumers['сметана, кг']], axis=1\n",
    ")"
   ]
  },
  {
   "cell_type": "markdown",
   "id": "bfc4c30b-1c0c-488f-b286-de9e86d8cbbd",
   "metadata": {},
   "source": [
    "### Йогурт"
   ]
  },
  {
   "cell_type": "markdown",
   "id": "2466856b-dc05-419e-bbda-5516f64b16a6",
   "metadata": {},
   "source": [
    "##### Потребители"
   ]
  },
  {
   "cell_type": "code",
   "execution_count": 34,
   "id": "a323f89a-a98c-4778-8c94-c49a608ebd23",
   "metadata": {},
   "outputs": [],
   "source": [
    "jogurt = pd.concat([\n",
    "    (prices_consumers['йогурт, 125 г'] / 0.125).dropna(),\n",
    "    prices_consumers['йогурт, кг'].dropna()\n",
    "])"
   ]
  },
  {
   "cell_type": "code",
   "execution_count": 35,
   "id": "2a1000bb-69fd-4320-9058-c36782f88b3f",
   "metadata": {},
   "outputs": [],
   "source": [
    "jogurt.name = 'йогурт, кг'"
   ]
  },
  {
   "cell_type": "code",
   "execution_count": 36,
   "id": "da8659e5-126f-4eb3-a457-6899f8e6a796",
   "metadata": {},
   "outputs": [],
   "source": [
    "prices_food = pd.concat(\n",
    "    [prices_food, jogurt], axis=1\n",
    ")"
   ]
  },
  {
   "cell_type": "markdown",
   "id": "1e4c1e47-1571-47fa-8ea5-c4a5877d5a34",
   "metadata": {},
   "source": [
    "### Масло сливочное"
   ]
  },
  {
   "cell_type": "markdown",
   "id": "e82e6e47-f2de-4288-a792-cf582311a39c",
   "metadata": {},
   "source": [
    "##### Потребители"
   ]
  },
  {
   "cell_type": "code",
   "execution_count": 37,
   "id": "1b00fa7d-82ee-4396-bbc2-bc3961a9f74b",
   "metadata": {},
   "outputs": [],
   "source": [
    "prices_food = pd.concat(\n",
    "    [prices_food, prices_consumers['масло сливочное, кг']], axis=1\n",
    ")"
   ]
  },
  {
   "cell_type": "markdown",
   "id": "74186a3e-c615-4d23-87a2-13fd2d5d1d55",
   "metadata": {},
   "source": [
    "### Творог\n",
    "\n",
    "В 2022 году изменилась номенклатура: 'творог жирный' и 'творог нежирный' заменем одним показателем - 'творог'.  \n",
    "Данные для 2021 года считаются как среднее от 'творог жирный' и 'творог нежирный'."
   ]
  },
  {
   "cell_type": "markdown",
   "id": "2571c885-f0f8-40f2-86be-bc046ab22f4d",
   "metadata": {},
   "source": [
    "##### Потребители"
   ]
  },
  {
   "cell_type": "code",
   "execution_count": 38,
   "id": "a0113c57-9a20-4e30-9230-fde518b592c4",
   "metadata": {},
   "outputs": [],
   "source": [
    "# mean of pd.Series using Numpy\n",
    "cottage_cheese_2021 = pd.concat(\n",
    "    [prices_consumers['творог нежирный, кг'],\n",
    "     prices_consumers['творог жирный, кг']],\n",
    "    axis=1).agg('mean', 1)"
   ]
  },
  {
   "cell_type": "code",
   "execution_count": 39,
   "id": "48bf09f5-0351-4c95-ab66-4c9810c15643",
   "metadata": {},
   "outputs": [],
   "source": [
    "cottage_cheese = pd.concat([\n",
    "    cottage_cheese_2021.dropna(),\n",
    "    prices_consumers['творог, кг'].dropna()\n",
    "])"
   ]
  },
  {
   "cell_type": "code",
   "execution_count": 40,
   "id": "14324a83-acee-471b-9bca-7096fbf55f55",
   "metadata": {},
   "outputs": [],
   "source": [
    "cottage_cheese.name = 'творог, кг'"
   ]
  },
  {
   "cell_type": "code",
   "execution_count": 41,
   "id": "efc606ce-4543-4d05-b49b-14b3cadcde79",
   "metadata": {},
   "outputs": [],
   "source": [
    "prices_food = pd.concat(\n",
    "    [prices_food, cottage_cheese], axis=1\n",
    ")"
   ]
  },
  {
   "cell_type": "markdown",
   "id": "0b51ee06-df64-4e3a-973c-40f0f530566f",
   "metadata": {},
   "source": [
    "### Овощи"
   ]
  },
  {
   "cell_type": "markdown",
   "id": "d0df828a-f8df-44dd-b100-93be89c64878",
   "metadata": {},
   "source": [
    "##### Производители"
   ]
  },
  {
   "cell_type": "code",
   "execution_count": 42,
   "id": "f990dfc8-e190-411f-ba58-c923730df8c4",
   "metadata": {},
   "outputs": [],
   "source": [
    "# 0.001 - tonns to kilos\n",
    "prices_food = pd.concat(\n",
    "    [prices_food, prices_producers_food['овощи'] * 0.001], axis=1\n",
    ")"
   ]
  },
  {
   "cell_type": "markdown",
   "id": "fc8d3d14-ecf5-4d94-9b73-07ec3078e7b8",
   "metadata": {},
   "source": [
    "### Картофель"
   ]
  },
  {
   "cell_type": "markdown",
   "id": "906244d4-4cb0-4f78-9d6d-9cd6ba58a9a6",
   "metadata": {},
   "source": [
    "##### Потребители"
   ]
  },
  {
   "cell_type": "code",
   "execution_count": 43,
   "id": "f42b306b-8b96-494f-9959-b7cc27837cd4",
   "metadata": {},
   "outputs": [],
   "source": [
    "prices_food = pd.concat(\n",
    "    [prices_food, prices_consumers['картофель, кг']], axis=1\n",
    ")"
   ]
  },
  {
   "cell_type": "markdown",
   "id": "fcf404c6-2bc2-42d0-8484-dc0ac26c9130",
   "metadata": {},
   "source": [
    "### Огурцы"
   ]
  },
  {
   "cell_type": "markdown",
   "id": "96e1162b-7d7b-4c16-9da4-0a32bea530c1",
   "metadata": {},
   "source": [
    "##### Потребители"
   ]
  },
  {
   "cell_type": "code",
   "execution_count": 44,
   "id": "d287dfd8-9390-4ea7-867f-06ddee21b2d0",
   "metadata": {},
   "outputs": [],
   "source": [
    "prices_food = pd.concat(\n",
    "    [prices_food, prices_consumers['огурцы свежие, кг']], axis=1\n",
    ")"
   ]
  },
  {
   "cell_type": "markdown",
   "id": "d708f7e5-dd93-400f-acad-34b11500481c",
   "metadata": {},
   "source": [
    "### Помидоры"
   ]
  },
  {
   "cell_type": "markdown",
   "id": "1806b6e1-bf58-4e83-8714-b715375b702b",
   "metadata": {},
   "source": [
    "##### Потребители"
   ]
  },
  {
   "cell_type": "code",
   "execution_count": 45,
   "id": "f2f15450-f593-4610-a7fb-a21f7d8bda82",
   "metadata": {},
   "outputs": [],
   "source": [
    "prices_food = pd.concat(\n",
    "    [prices_food, prices_consumers['помидоры свежие, кг']], axis=1\n",
    ")"
   ]
  },
  {
   "cell_type": "markdown",
   "id": "33e8682b-93d8-467a-b9c0-cb9619fe1ddb",
   "metadata": {},
   "source": [
    "### Лук"
   ]
  },
  {
   "cell_type": "markdown",
   "id": "83e84793-346d-478f-827f-2818a77d4ab7",
   "metadata": {},
   "source": [
    "##### Потребители"
   ]
  },
  {
   "cell_type": "code",
   "execution_count": 46,
   "id": "46ea730c-e35d-416b-a610-1adeb232aea0",
   "metadata": {},
   "outputs": [],
   "source": [
    "prices_food = pd.concat(\n",
    "    [prices_food, prices_consumers['лук репчатый, кг']], axis=1\n",
    ")"
   ]
  },
  {
   "cell_type": "markdown",
   "id": "14419a87-06ea-4066-b6d2-0f966aae660b",
   "metadata": {},
   "source": [
    "### Морковь"
   ]
  },
  {
   "cell_type": "markdown",
   "id": "b1659899-b744-477c-943f-6c69eb34f18a",
   "metadata": {},
   "source": [
    "##### Потребители"
   ]
  },
  {
   "cell_type": "code",
   "execution_count": 47,
   "id": "5f139a5d-789a-45c7-a883-d891aac7dcf3",
   "metadata": {},
   "outputs": [],
   "source": [
    "prices_food = pd.concat(\n",
    "    [prices_food, prices_consumers['морковь, кг']], axis=1\n",
    ")"
   ]
  },
  {
   "cell_type": "markdown",
   "id": "ea8e7822-ae04-4b56-bfbb-ca823abb0787",
   "metadata": {},
   "source": [
    "### Яйца куриные"
   ]
  },
  {
   "cell_type": "markdown",
   "id": "ef494bdb-ea69-4a92-9430-8aeb5e8e4143",
   "metadata": {},
   "source": [
    "##### Производители"
   ]
  },
  {
   "cell_type": "code",
   "execution_count": 48,
   "id": "ace42391-3ed4-4c65-b358-4fb744faab87",
   "metadata": {},
   "outputs": [],
   "source": [
    "# eggs price from 1000 eggs to 10 eggs\n",
    "prices_food = pd.concat(\n",
    "    [prices_food, prices_producers_food['яйца куриные в скорлупе свежие'] * 0.01], axis=1\n",
    ")"
   ]
  },
  {
   "cell_type": "markdown",
   "id": "509db12c-d80a-43ea-b3ba-6daf1a20f61e",
   "metadata": {},
   "source": [
    "##### Потребители"
   ]
  },
  {
   "cell_type": "code",
   "execution_count": 49,
   "id": "8bcdfdcd-380b-4a4a-bb24-63b845edb34e",
   "metadata": {},
   "outputs": [],
   "source": [
    "prices_food = pd.concat(\n",
    "    [prices_food, prices_consumers['яйца куриные, 10 шт.']], axis=1\n",
    ")"
   ]
  },
  {
   "cell_type": "markdown",
   "id": "5a20dbcb-b057-42da-ba6d-5ddc6d2e8d8b",
   "metadata": {},
   "source": [
    "## Цены - динамика"
   ]
  },
  {
   "cell_type": "code",
   "execution_count": 54,
   "id": "35653155-dc07-4623-9158-37dca0a84085",
   "metadata": {},
   "outputs": [],
   "source": [
    "prices_food_growth = pd.DataFrame()\n",
    "for column in prices_food.columns:\n",
    "    prices_food_growth = pd.concat([\n",
    "        prices_food_growth, normalized_by_first(prices_food[column])\n",
    "    ], axis=1)"
   ]
  },
  {
   "cell_type": "code",
   "execution_count": 131,
   "id": "9122f2b4-e445-4ea5-932a-a779999149d1",
   "metadata": {},
   "outputs": [],
   "source": [
    "economics_data['prices_2023_producers_agriculture'] = pci_producers2023"
   ]
  },
  {
   "cell_type": "code",
   "execution_count": 132,
   "id": "87043b66-6981-429a-a352-514cce32ad86",
   "metadata": {},
   "outputs": [],
   "source": [
    "economics_data['prices_2024_producers_agriculture'] = pci_producers2024"
   ]
  },
  {
   "cell_type": "code",
   "execution_count": 133,
   "id": "441daf1b-f0bc-4bf5-b8a8-eca09ffacd3f",
   "metadata": {},
   "outputs": [
    {
     "name": "stdout",
     "output_type": "stream",
     "text": [
      "File 'economics_data.pkl' saved\n"
     ]
    }
   ],
   "source": [
    "saveit(\n",
    "    file=economics_data,\n",
    "    name='economics_data',\n",
    "    path=path_files\n",
    ")"
   ]
  },
  {
   "cell_type": "markdown",
   "id": "de96110f-7964-4b6c-9d9f-0424e1caa904",
   "metadata": {},
   "source": [
    "### Execution time"
   ]
  },
  {
   "cell_type": "code",
   "execution_count": 134,
   "id": "62238376-9abe-4f94-bd7b-36a42705bf23",
   "metadata": {},
   "outputs": [
    {
     "name": "stdout",
     "output_type": "stream",
     "text": [
      "Execution time: 0:00:35\n"
     ]
    }
   ],
   "source": [
    "stopwatch_stop(start)"
   ]
  }
 ],
 "metadata": {
  "kernelspec": {
   "display_name": "economy-rus",
   "language": "python",
   "name": "economy-rus"
  },
  "language_info": {
   "codemirror_mode": {
    "name": "ipython",
    "version": 3
   },
   "file_extension": ".py",
   "mimetype": "text/x-python",
   "name": "python",
   "nbconvert_exporter": "python",
   "pygments_lexer": "ipython3",
   "version": "3.12.3"
  }
 },
 "nbformat": 4,
 "nbformat_minor": 5
}
