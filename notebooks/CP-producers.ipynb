{
 "cells": [
  {
   "cell_type": "code",
   "execution_count": 1,
   "id": "0eaf7116-2a9f-4a83-b918-a3249a054b81",
   "metadata": {},
   "outputs": [],
   "source": [
    "import os\n",
    "from pathlib import Path"
   ]
  },
  {
   "cell_type": "code",
   "execution_count": 2,
   "id": "05b41d61-c11e-49de-b7c8-256a596d3bb3",
   "metadata": {},
   "outputs": [],
   "source": [
    "path_current = os.getcwd()\n",
    "path_main = str(Path(path_current).parent)"
   ]
  },
  {
   "cell_type": "markdown",
   "id": "c3b2655f-5270-46ce-a804-07740efcae01",
   "metadata": {},
   "source": [
    "### To main directory"
   ]
  },
  {
   "cell_type": "code",
   "execution_count": 3,
   "id": "7dd73736-f9f1-4dbe-bda0-ad97bb97cbf6",
   "metadata": {},
   "outputs": [],
   "source": [
    "# change directory to main path\n",
    "os.chdir(path_main)"
   ]
  },
  {
   "cell_type": "markdown",
   "id": "ef3c7b31-b9d0-444c-8d75-f150b3177ea6",
   "metadata": {},
   "source": [
    "### Load libraries, functions, palette, theme"
   ]
  },
  {
   "cell_type": "code",
   "execution_count": null,
   "id": "0c6aaa07-3602-4312-aea1-070be0b186d4",
   "metadata": {},
   "outputs": [],
   "source": [
    "# load libraries and palette\n",
    "%run __libraries.ipynb"
   ]
  },
  {
   "cell_type": "code",
   "execution_count": null,
   "id": "b2ba0c43-5dbe-4339-ac87-92d2058548e4",
   "metadata": {},
   "outputs": [],
   "source": [
    "# load functions\n",
    "%run __functions.ipynb"
   ]
  },
  {
   "cell_type": "code",
   "execution_count": null,
   "id": "7efc5afa-0d7a-48fa-87d5-25fb16224049",
   "metadata": {},
   "outputs": [],
   "source": [
    "# load regions data\n",
    "path_regions_data = path_main + '/files'\n",
    "path_change(path_regions_data)\n",
    "\n",
    "%run regions_data.ipynb"
   ]
  },
  {
   "cell_type": "code",
   "execution_count": null,
   "id": "86296187-5343-4ca8-b223-545fd2081682",
   "metadata": {},
   "outputs": [],
   "source": [
    "# start stopwatch\n",
    "start = stopwatch_start()"
   ]
  },
  {
   "cell_type": "markdown",
   "id": "ff1fb2cb-d7d8-4060-afb5-46ee660a4daa",
   "metadata": {},
   "source": [
    "### Variables"
   ]
  },
  {
   "cell_type": "raw",
   "id": "9476daa9-07c9-4883-86d5-ebf6b5df29cd",
   "metadata": {},
   "source": [
    "path = 'CPI'"
   ]
  },
  {
   "cell_type": "code",
   "execution_count": null,
   "id": "ac2dd847-b357-4653-a0e9-c843e3c1f1f7",
   "metadata": {},
   "outputs": [],
   "source": [
    "path_files = path_main + '/files'"
   ]
  },
  {
   "cell_type": "code",
   "execution_count": null,
   "id": "5cd478ec-9ae3-4ff1-a684-e0bf545a92c0",
   "metadata": {},
   "outputs": [],
   "source": [
    "path_excel_csv = path_main + '/excel-csv'"
   ]
  },
  {
   "cell_type": "markdown",
   "id": "12a42627-cf9d-41e1-9b62-59e8b69fd2c7",
   "metadata": {},
   "source": [
    "### Load Files"
   ]
  },
  {
   "cell_type": "code",
   "execution_count": null,
   "id": "dc81729e-d703-405a-abf5-8356dbe77152",
   "metadata": {},
   "outputs": [],
   "source": [
    "economics_data = loadit('economics_data', path=path_files, create_empty_dict=True)"
   ]
  },
  {
   "cell_type": "raw",
   "id": "cbfc0e19-94af-4d25-92cc-31b5367a741d",
   "metadata": {},
   "source": [
    "prices_2021 = economics_data['prices_2021'] \\\n",
    "                if 'prices_2021' in economics_data.keys() else None"
   ]
  },
  {
   "cell_type": "markdown",
   "id": "b4e78ca6-7549-4cf9-898e-d22a2853ff88",
   "metadata": {},
   "source": [
    "### Back to notebook directory"
   ]
  },
  {
   "cell_type": "code",
   "execution_count": null,
   "id": "3d785657-0853-4bb6-b124-e5a630701740",
   "metadata": {},
   "outputs": [],
   "source": [
    "# back to current path\n",
    "os.chdir(path_current)"
   ]
  },
  {
   "cell_type": "markdown",
   "id": "2a49c3d7-7839-4d4e-8cfa-ade641a55644",
   "metadata": {},
   "source": [
    "# <font color='#2C8B6D'>II. Цены, инфляция</font>"
   ]
  },
  {
   "cell_type": "markdown",
   "id": "e9e45c22-eeae-4c54-a14f-4a0df106e94f",
   "metadata": {},
   "source": [
    "# Section II. Цены производителей"
   ]
  },
  {
   "cell_type": "markdown",
   "id": "b45355a5-44ce-4811-b87c-d75fe7d3f766",
   "metadata": {},
   "source": [
    "## 10. Сельскохозяйственная продукция"
   ]
  },
  {
   "cell_type": "markdown",
   "id": "e4d1b35a-20c0-4419-a378-35ebbb6572a4",
   "metadata": {},
   "source": [
    "### 10.1. Средние цены производителей сельскохозяйственной продукции (с 2010 г.) - до 2022"
   ]
  },
  {
   "cell_type": "markdown",
   "id": "72a485be-3ec4-4184-baca-74df1395587d",
   "metadata": {},
   "source": [
    "*Источник: https://rosstat.gov.ru/storage/mediabank/cena_sx-09.xlsx*  \n",
    "*Единицы измерения: *\n",
    "\n",
    "*Примечания:*  "
   ]
  },
  {
   "cell_type": "raw",
   "id": "ac85a691-7210-4afb-914b-346fc0d68248",
   "metadata": {},
   "source": [
    "pci_producers_link = \\\n",
    "    ('data/03-Prices-Inflation/02-Producers/'\n",
    "     'cena_sx-09.xlsx')"
   ]
  },
  {
   "cell_type": "raw",
   "id": "bbdc4415-02c0-48db-bb63-921c694f195f",
   "metadata": {},
   "source": [
    "pci_producers_link = \\\n",
    "    'https://rosstat.gov.ru/storage/mediabank/cena_sx-10.xlsx'"
   ]
  },
  {
   "cell_type": "code",
   "execution_count": null,
   "id": "4f6982f2-626c-42ea-90fb-1ac85afd20c6",
   "metadata": {},
   "outputs": [],
   "source": [
    "replace_dict_partial = {\n",
    "    '1\\\\)': '',\n",
    "    '2\\\\)': '',\n",
    "    ',': '.'\n",
    "}\n",
    "replace_dict = {\n",
    "    '...': np.NaN,\n",
    "    '…': np.NaN,\n",
    "    '..': np.NaN,\n",
    "    '-': np.NaN,\n",
    "    ' ': np.NaN\n",
    "}"
   ]
  },
  {
   "cell_type": "markdown",
   "id": "cd1cee93-93f5-459f-a45a-3437aa0c0272",
   "metadata": {},
   "source": [
    "#### 2024 year link formula"
   ]
  },
  {
   "cell_type": "code",
   "execution_count": null,
   "id": "cea6127a-f863-41de-84c1-b76fb28da983",
   "metadata": {},
   "outputs": [],
   "source": [
    "for i in range(1,13):\n",
    "    link = f'https://rosstat.gov.ru/storage/mediabank/cena_sx_' + str(i).zfill(2) + '-2024.xlsx'\n",
    "    link_next = f'https://rosstat.gov.ru/storage/mediabank/cena_sx_' + str(i+1).zfill(2) + '-2024.xlsx'\n",
    "    response = requests.get(link)\n",
    "    response_next = requests.get(link_next)\n",
    "    condition = ((response.status_code == 200) & (response_next.status_code == 404))\n",
    "    if condition:\n",
    "        pci_producers_link = link"
   ]
  },
  {
   "cell_type": "code",
   "execution_count": null,
   "id": "68502865-9118-4fed-a9cf-a3681f7c1b5d",
   "metadata": {},
   "outputs": [],
   "source": [
    "pci_producers_link"
   ]
  },
  {
   "cell_type": "code",
   "execution_count": null,
   "id": "b412b650-7c19-48b9-95a9-afd476be3656",
   "metadata": {},
   "outputs": [],
   "source": [
    "pci_producers_raw = pd.read_excel(pci_producers_link, sheet_name='1')"
   ]
  },
  {
   "cell_type": "code",
   "execution_count": null,
   "id": "669b342d-ee6e-4782-91e4-6c693a3f7f37",
   "metadata": {},
   "outputs": [],
   "source": [
    "pci_producers_raw"
   ]
  },
  {
   "cell_type": "code",
   "execution_count": null,
   "id": "881a73cb-7be4-49d7-92d0-851e2b36e44f",
   "metadata": {},
   "outputs": [],
   "source": [
    "pci_producers = pci_producers_raw[2:-2].copy()"
   ]
  },
  {
   "cell_type": "code",
   "execution_count": null,
   "id": "f8b8fd96-79a9-4fdf-959c-acba81beed15",
   "metadata": {},
   "outputs": [],
   "source": [
    "pci_producers.iloc[0,0] = '-'"
   ]
  },
  {
   "cell_type": "code",
   "execution_count": null,
   "id": "f1632aed-b9e8-4450-99ef-9cd9aed9c5fa",
   "metadata": {},
   "outputs": [],
   "source": [
    "# drop duplicate whitespaces\n",
    "pci_producers.iloc[:, 0] = \\\n",
    "    pci_producers.iloc[:, 0].apply(lambda x: remove_duplicated_whitespaces(x))"
   ]
  },
  {
   "cell_type": "code",
   "execution_count": null,
   "id": "b33362cf-a30a-429c-8604-eaae78e01d81",
   "metadata": {},
   "outputs": [],
   "source": [
    "pci_producers.columns = pci_producers.iloc[0, :]"
   ]
  },
  {
   "cell_type": "code",
   "execution_count": null,
   "id": "f020c4a8-a9ac-4abd-a98b-50b83834b0e5",
   "metadata": {},
   "outputs": [],
   "source": [
    "pci_producers = pci_producers[2:].copy()"
   ]
  },
  {
   "cell_type": "code",
   "execution_count": null,
   "id": "ecca6c0c-99df-44ae-848c-9717eff45a94",
   "metadata": {},
   "outputs": [],
   "source": [
    "pci_producers.columns = [str(i)[:4] for i in pci_producers.columns]"
   ]
  },
  {
   "cell_type": "code",
   "execution_count": null,
   "id": "2344bc53-1b9a-4376-b921-5fee33b70b3a",
   "metadata": {},
   "outputs": [],
   "source": [
    "pci_producers.columns = [to_int(i) for i in pci_producers.columns]"
   ]
  },
  {
   "cell_type": "code",
   "execution_count": null,
   "id": "6d1d115f-ef7d-4878-9410-403345515056",
   "metadata": {},
   "outputs": [],
   "source": [
    "pci_producers = pci_producers.drop([13, 21], axis=0)"
   ]
  },
  {
   "cell_type": "code",
   "execution_count": null,
   "id": "58727b6d-3165-4176-9a1d-aa611c1a07e3",
   "metadata": {},
   "outputs": [],
   "source": [
    "pci_producers = pci_producers.set_index('-', drop=True)"
   ]
  },
  {
   "cell_type": "code",
   "execution_count": null,
   "id": "8764006e-6dc6-4353-a260-16ca5caee85e",
   "metadata": {},
   "outputs": [],
   "source": [
    "pci_producers.index.name = None"
   ]
  },
  {
   "cell_type": "code",
   "execution_count": null,
   "id": "78dc69a6-b4ff-4956-9160-9bb222a8aa42",
   "metadata": {},
   "outputs": [],
   "source": [
    "pci_producers.index = [str(i).lower() for i in pci_producers.index]"
   ]
  },
  {
   "cell_type": "code",
   "execution_count": null,
   "id": "a97ea15b-dae4-4c8a-a530-120ddb524de3",
   "metadata": {},
   "outputs": [],
   "source": [
    "pci_producers = pci_producers.T"
   ]
  },
  {
   "cell_type": "code",
   "execution_count": null,
   "id": "afa9e29b-cfc1-4176-9439-4cdf02b6dce3",
   "metadata": {},
   "outputs": [],
   "source": [
    "pci_producers = pci_producers.astype(float)"
   ]
  },
  {
   "cell_type": "code",
   "execution_count": null,
   "id": "2fdbdeea-f744-40d6-9b93-d7dca58ca9d0",
   "metadata": {},
   "outputs": [],
   "source": [
    "pci_producers = pci_producers.round(1)"
   ]
  },
  {
   "cell_type": "code",
   "execution_count": null,
   "id": "0feed5cf-695e-419c-adf7-18adc1e44862",
   "metadata": {},
   "outputs": [],
   "source": [
    "pci_producers.head()"
   ]
  },
  {
   "cell_type": "markdown",
   "id": "b334310d-42a6-4a40-8aca-41bb4866d1b5",
   "metadata": {},
   "source": [
    "### 10.2. Средние цены производителей сельскохозяйственной продукции - 2021 год"
   ]
  },
  {
   "cell_type": "markdown",
   "id": "3d87719d-79ab-48fa-bba1-1840c2ed9074",
   "metadata": {},
   "source": [
    "*Источник: https://rosstat.gov.ru/storage/mediabank/cena_sx-09.xlsx*  \n",
    "*Единицы измерения: *\n",
    "\n",
    "*Примечания:*  "
   ]
  },
  {
   "cell_type": "code",
   "execution_count": null,
   "id": "d49b1c08-2f90-4c24-9c17-e075104ec4ce",
   "metadata": {},
   "outputs": [],
   "source": [
    "pci_producers2021_raw = pd.read_excel(pci_producers_link, sheet_name='2')"
   ]
  },
  {
   "cell_type": "code",
   "execution_count": null,
   "id": "71a53493-84ac-46b6-a0d4-e3d2dce78a01",
   "metadata": {},
   "outputs": [],
   "source": [
    "pci_producers2021_raw"
   ]
  },
  {
   "cell_type": "code",
   "execution_count": null,
   "id": "691dfecd-0b63-40cd-a943-e557ccc4fac0",
   "metadata": {},
   "outputs": [],
   "source": [
    "pci_producers2021 = pci_producers2021_raw[2:-3].copy()"
   ]
  },
  {
   "cell_type": "code",
   "execution_count": null,
   "id": "cead9295-5118-4fd3-9e0e-fa6a25f1221d",
   "metadata": {},
   "outputs": [],
   "source": [
    "pci_producers2021 = pci_producers2021.drop(pci_producers2021.columns[1], axis=1)"
   ]
  },
  {
   "cell_type": "code",
   "execution_count": null,
   "id": "465f1c07-751b-42e1-86e9-4f16f1dd8355",
   "metadata": {},
   "outputs": [],
   "source": [
    "# drop duplicated whiespaces\n",
    "pci_producers2021.iloc[:, 0] = \\\n",
    "    [str.join(' ', str(i).split()) for i in pci_producers2021.iloc[:, 0]]"
   ]
  },
  {
   "cell_type": "code",
   "execution_count": null,
   "id": "7f95c153-9364-4a07-9022-f0db19dcc39c",
   "metadata": {},
   "outputs": [],
   "source": [
    "pci_producers2021.columns = pci_producers2021.iloc[0,:]"
   ]
  },
  {
   "cell_type": "code",
   "execution_count": null,
   "id": "b69fe448-b1fb-4c9d-86bb-c5d4b886f30a",
   "metadata": {},
   "outputs": [],
   "source": [
    "pci_producers2021.columns.name = None"
   ]
  },
  {
   "cell_type": "code",
   "execution_count": null,
   "id": "fea80f86-7066-4117-8a13-48fa9c1b0791",
   "metadata": {},
   "outputs": [],
   "source": [
    "pci_producers2021 = pci_producers2021[1:].copy()"
   ]
  },
  {
   "cell_type": "code",
   "execution_count": null,
   "id": "b574a167-3e42-4731-92a7-a390bbd8e888",
   "metadata": {},
   "outputs": [],
   "source": [
    "pci_producers2021.index = pci_producers2021.iloc[:, 0]"
   ]
  },
  {
   "cell_type": "code",
   "execution_count": null,
   "id": "e3ea4feb-7777-4f25-befd-a5163a7173be",
   "metadata": {},
   "outputs": [],
   "source": [
    "pci_producers2021.index = [i.lower() for i in pci_producers2021.index]"
   ]
  },
  {
   "cell_type": "code",
   "execution_count": null,
   "id": "ab385721-a530-4435-9db7-dbb799b40e32",
   "metadata": {},
   "outputs": [],
   "source": [
    "pci_producers2021.index.name = None"
   ]
  },
  {
   "cell_type": "code",
   "execution_count": null,
   "id": "e15227ea-1d69-47f0-903d-8bef731782b3",
   "metadata": {},
   "outputs": [],
   "source": [
    "pci_producers2021 = pci_producers2021.iloc[:,1:].copy()"
   ]
  },
  {
   "cell_type": "code",
   "execution_count": null,
   "id": "e57ac67f-39d4-4fa0-a4e2-26b84144227d",
   "metadata": {},
   "outputs": [],
   "source": [
    "pci_producers2021 = pci_producers2021.T"
   ]
  },
  {
   "cell_type": "raw",
   "id": "6677dc95-7543-4372-9fa3-79708383b000",
   "metadata": {},
   "source": [
    "pci_producers2021 = pci_producers2021.applymap(to_string)"
   ]
  },
  {
   "cell_type": "code",
   "execution_count": null,
   "id": "ee0618df-9791-452a-86ee-edfc3c3cf836",
   "metadata": {},
   "outputs": [],
   "source": [
    "pci_producers2021 = \\\n",
    "    pci_producers2021.replace({'…': np.NaN, '-': np.NaN, ' ': '.'}, regex=True)"
   ]
  },
  {
   "cell_type": "code",
   "execution_count": null,
   "id": "2bb8b472-fcad-469c-818c-c0f108ad0886",
   "metadata": {},
   "outputs": [],
   "source": [
    "pci_producers2021 = pci_producers2021.astype(float)"
   ]
  },
  {
   "cell_type": "code",
   "execution_count": null,
   "id": "b20312b2-e88d-46f0-a2ec-e7cf79ea19ae",
   "metadata": {},
   "outputs": [],
   "source": [
    "pci_producers2021 = pci_producers2021.round(1)"
   ]
  },
  {
   "cell_type": "code",
   "execution_count": null,
   "id": "5ab42f24-8a8f-4581-b13c-afbb415be737",
   "metadata": {},
   "outputs": [],
   "source": [
    "pci_producers2021.index = [i.replace(' 1', '') for i in pci_producers2021.index]"
   ]
  },
  {
   "cell_type": "code",
   "execution_count": null,
   "id": "cdc9b437-5ec3-4df0-b99d-92ce65b4c795",
   "metadata": {},
   "outputs": [],
   "source": [
    "pci_producers2021.index = [i.lower() for i in pci_producers2021.index]"
   ]
  },
  {
   "cell_type": "code",
   "execution_count": null,
   "id": "20daef2b-a7db-429e-b051-a7553a1eb23b",
   "metadata": {},
   "outputs": [],
   "source": [
    "pci_producers2021.index = [i.strip() for i in pci_producers2021.index]"
   ]
  },
  {
   "cell_type": "code",
   "execution_count": null,
   "id": "601555c0-f5d6-4b4a-ba36-e2c9fcafe385",
   "metadata": {},
   "outputs": [],
   "source": [
    "pci_producers2021.index = \\\n",
    "    (months_translate(x, add_year=2021) for x in pci_producers2021.index)"
   ]
  },
  {
   "cell_type": "code",
   "execution_count": null,
   "id": "9aff9780-b49a-4cfb-b095-bcc34c066b1b",
   "metadata": {},
   "outputs": [],
   "source": [
    "pci_producers2021"
   ]
  },
  {
   "cell_type": "markdown",
   "id": "f610505e-0214-40b0-b3bb-419bae1c7eb0",
   "metadata": {},
   "source": [
    "### 10.3. Средние цены производителей сельскохозяйственной продукции - 2022 год"
   ]
  },
  {
   "cell_type": "markdown",
   "id": "71414aaf-df81-4b1b-bb23-fb74af899c59",
   "metadata": {},
   "source": [
    "*Источник: https://rosstat.gov.ru/storage/mediabank/cena_sx-09.xlsx*  \n",
    "*Единицы измерения: *\n",
    "\n",
    "*Примечания:*  "
   ]
  },
  {
   "cell_type": "code",
   "execution_count": null,
   "id": "d4bec357-1ba9-426b-830f-500fa2587c92",
   "metadata": {},
   "outputs": [],
   "source": [
    "pci_producers2022_raw = pd.read_excel(pci_producers_link, sheet_name='3')"
   ]
  },
  {
   "cell_type": "code",
   "execution_count": null,
   "id": "a2eee25f-ae5d-4fb7-a434-e15b422441a9",
   "metadata": {},
   "outputs": [],
   "source": [
    "pci_producers2022_raw"
   ]
  },
  {
   "cell_type": "code",
   "execution_count": null,
   "id": "2affc586-b6ce-47ce-b3e5-2145069b5ce0",
   "metadata": {},
   "outputs": [],
   "source": [
    "pci_producers2022 = pci_producers2022_raw[2:-4].copy()"
   ]
  },
  {
   "cell_type": "code",
   "execution_count": null,
   "id": "9e0a70d9-c629-4562-a96a-54e20ea1ed90",
   "metadata": {},
   "outputs": [],
   "source": [
    "pci_producers2022 = pci_producers2022.drop(pci_producers2022.columns[1], axis=1)"
   ]
  },
  {
   "cell_type": "code",
   "execution_count": null,
   "id": "e26c7c99-9ed4-4d46-8701-34db2cc4619d",
   "metadata": {},
   "outputs": [],
   "source": [
    "# drop duplicated whiespaces\n",
    "pci_producers2022.iloc[:, 0] = \\\n",
    "    [str.join(' ', str(i).split()) for i in pci_producers2022.iloc[:, 0]]"
   ]
  },
  {
   "cell_type": "code",
   "execution_count": null,
   "id": "2b57d9fa-b248-426d-b689-2e51f7019e19",
   "metadata": {},
   "outputs": [],
   "source": [
    "pci_producers2022.columns = pci_producers2022.iloc[0,:]"
   ]
  },
  {
   "cell_type": "code",
   "execution_count": null,
   "id": "50cd3a05-1bb9-42f9-a533-510d3f530fa8",
   "metadata": {},
   "outputs": [],
   "source": [
    "pci_producers2022.columns.name = None"
   ]
  },
  {
   "cell_type": "code",
   "execution_count": null,
   "id": "8fd17c86-743f-481f-a6a2-46a96ccc379f",
   "metadata": {},
   "outputs": [],
   "source": [
    "pci_producers2022 = pci_producers2022[1:].copy()"
   ]
  },
  {
   "cell_type": "code",
   "execution_count": null,
   "id": "9f8af1bf-3a04-4bbd-b900-56bb58cb0c8d",
   "metadata": {},
   "outputs": [],
   "source": [
    "pci_producers2022.index = pci_producers2022.iloc[:, 0]"
   ]
  },
  {
   "cell_type": "code",
   "execution_count": null,
   "id": "bb74227a-37c6-4873-8c61-46329626c808",
   "metadata": {},
   "outputs": [],
   "source": [
    "pci_producers2022.index = [i.lower() for i in pci_producers2022.index]"
   ]
  },
  {
   "cell_type": "code",
   "execution_count": null,
   "id": "d72c10f7-09de-4a6f-8319-923b036c7456",
   "metadata": {},
   "outputs": [],
   "source": [
    "pci_producers2022.index.name = None"
   ]
  },
  {
   "cell_type": "code",
   "execution_count": null,
   "id": "0dae4c4d-92d2-47f6-8dee-dba3f4dd5b41",
   "metadata": {},
   "outputs": [],
   "source": [
    "pci_producers2022 = pci_producers2022.iloc[:, 1:].copy()"
   ]
  },
  {
   "cell_type": "code",
   "execution_count": null,
   "id": "7553584b-337b-4931-a690-730cb46919a5",
   "metadata": {},
   "outputs": [],
   "source": [
    "pci_producers2022 = pci_producers2022.T"
   ]
  },
  {
   "cell_type": "raw",
   "id": "9b269aed-131d-4093-beaf-24f8341775dc",
   "metadata": {},
   "source": [
    "pci_producers2022 = pci_producers2022.applymap(to_string)"
   ]
  },
  {
   "cell_type": "code",
   "execution_count": null,
   "id": "a66f2340-2d28-47a8-b5c3-5f2388ec1bff",
   "metadata": {},
   "outputs": [],
   "source": [
    "pci_producers2022 = \\\n",
    "    pci_producers2022.replace({'…': np.NaN, '-': np.NaN, ' ': '.'}, regex=True)"
   ]
  },
  {
   "cell_type": "code",
   "execution_count": null,
   "id": "72eeed4d-a694-4a67-858f-021537df9baa",
   "metadata": {},
   "outputs": [],
   "source": [
    "pci_producers2022 = pci_producers2022.astype(float)"
   ]
  },
  {
   "cell_type": "code",
   "execution_count": null,
   "id": "10414602-b3fa-4224-8199-a0296b3a308c",
   "metadata": {},
   "outputs": [],
   "source": [
    "pci_producers2022 = pci_producers2022.round(1)"
   ]
  },
  {
   "cell_type": "code",
   "execution_count": null,
   "id": "43fcb02f-bc80-4ea5-8918-a660a27c8090",
   "metadata": {},
   "outputs": [],
   "source": [
    "pci_producers2022.index = [i.replace(' 1', '') for i in pci_producers2022.index]"
   ]
  },
  {
   "cell_type": "code",
   "execution_count": null,
   "id": "5418114e-fec3-4f5d-9933-de8759e3e2a8",
   "metadata": {},
   "outputs": [],
   "source": [
    "pci_producers2022.index = [i.lower() for i in pci_producers2022.index]"
   ]
  },
  {
   "cell_type": "code",
   "execution_count": null,
   "id": "c212c845-502b-4467-afb8-6ca6682095b0",
   "metadata": {},
   "outputs": [],
   "source": [
    "pci_producers2022.index = [i.strip() for i in pci_producers2022.index]"
   ]
  },
  {
   "cell_type": "code",
   "execution_count": null,
   "id": "6307aa05-e4f0-4bd3-8bbe-b07bf5d0f628",
   "metadata": {},
   "outputs": [],
   "source": [
    "pci_producers2022.index = \\\n",
    "    (months_translate(x, add_year=2022) for x in pci_producers2022.index)"
   ]
  },
  {
   "cell_type": "code",
   "execution_count": null,
   "id": "1d6501af-0dcf-485b-aa74-327e3d295f7c",
   "metadata": {},
   "outputs": [],
   "source": [
    "pci_producers2022"
   ]
  },
  {
   "cell_type": "markdown",
   "id": "a26b56da-3184-487a-9412-da569ee8611d",
   "metadata": {},
   "source": [
    "### 10.4. Средние цены производителей сельскохозяйственной продукции - 2023 год"
   ]
  },
  {
   "cell_type": "markdown",
   "id": "ecf9d245-588d-4f4c-a68e-b06a51272206",
   "metadata": {},
   "source": [
    "*Источник: https://rosstat.gov.ru/storage/mediabank/cena_sx-09.xlsx*  \n",
    "*Единицы измерения: *\n",
    "\n",
    "*Примечания:*  "
   ]
  },
  {
   "cell_type": "code",
   "execution_count": null,
   "id": "d17884ca-3013-4968-91c6-854216c4236c",
   "metadata": {},
   "outputs": [],
   "source": [
    "pci_producers2023_raw = pd.read_excel(pci_producers_link, sheet_name='4')"
   ]
  },
  {
   "cell_type": "code",
   "execution_count": null,
   "id": "562207d6-5f3e-416f-83f2-c2f35f1d556a",
   "metadata": {},
   "outputs": [],
   "source": [
    "pci_producers2023_raw"
   ]
  },
  {
   "cell_type": "code",
   "execution_count": null,
   "id": "f60e5579-db73-4972-b286-fe573a88b2b6",
   "metadata": {},
   "outputs": [],
   "source": [
    "pci_producers2023 = pci_producers2023_raw[1:-3].copy()"
   ]
  },
  {
   "cell_type": "code",
   "execution_count": null,
   "id": "9e59d23c-2b89-4cc0-9b9c-25b8e7b3f05c",
   "metadata": {},
   "outputs": [],
   "source": [
    "pci_producers2023 = pci_producers2023.drop(pci_producers2023.columns[1], axis=1)"
   ]
  },
  {
   "cell_type": "code",
   "execution_count": null,
   "id": "03cfef0b-037d-455c-b624-9b3b07aec6e8",
   "metadata": {},
   "outputs": [],
   "source": [
    "# drop duplicated whiespaces\n",
    "pci_producers2023.iloc[:, 0] = \\\n",
    "    [str.join(' ', str(i).split()) for i in pci_producers2023.iloc[:, 0]]"
   ]
  },
  {
   "cell_type": "code",
   "execution_count": null,
   "id": "e5aab706-94a9-4e47-b3c9-3ace81e3562c",
   "metadata": {},
   "outputs": [],
   "source": [
    "pci_producers2023.columns = pci_producers2023.iloc[0,:]"
   ]
  },
  {
   "cell_type": "code",
   "execution_count": null,
   "id": "46e19a72-a5c2-48a2-b676-71297c998f63",
   "metadata": {},
   "outputs": [],
   "source": [
    "pci_producers2023.columns.name = None"
   ]
  },
  {
   "cell_type": "code",
   "execution_count": null,
   "id": "60e6a52b-ae08-43dd-9b96-d59a8c538e57",
   "metadata": {},
   "outputs": [],
   "source": [
    "pci_producers2023 = pci_producers2023[1:].copy()"
   ]
  },
  {
   "cell_type": "code",
   "execution_count": null,
   "id": "3a0d35ec-e46f-45bc-be57-c5e467a7b30e",
   "metadata": {},
   "outputs": [],
   "source": [
    "pci_producers2023.index = pci_producers2023.iloc[:, 0]"
   ]
  },
  {
   "cell_type": "code",
   "execution_count": null,
   "id": "9c89c82c-46a7-44b0-b050-117868de8980",
   "metadata": {},
   "outputs": [],
   "source": [
    "pci_producers2023.index = [i.lower() for i in pci_producers2023.index]"
   ]
  },
  {
   "cell_type": "code",
   "execution_count": null,
   "id": "8b074344-d149-4575-872d-2a6cc9a7ff8d",
   "metadata": {},
   "outputs": [],
   "source": [
    "pci_producers2023.index.name = None"
   ]
  },
  {
   "cell_type": "code",
   "execution_count": null,
   "id": "dbb99147-114c-4c07-a050-b9bd3d460626",
   "metadata": {},
   "outputs": [],
   "source": [
    "pci_producers2023 = pci_producers2023.iloc[:,1:].copy()"
   ]
  },
  {
   "cell_type": "code",
   "execution_count": null,
   "id": "92c87697-7786-45d6-ba12-27375614388d",
   "metadata": {},
   "outputs": [],
   "source": [
    "pci_producers2023 = pci_producers2023.T"
   ]
  },
  {
   "cell_type": "raw",
   "id": "f1336fac-53ff-42a8-b8b1-14b2181d36e3",
   "metadata": {},
   "source": [
    "pci_producers2023 = pci_producers2023.applymap(to_string)"
   ]
  },
  {
   "cell_type": "code",
   "execution_count": null,
   "id": "cb4cb14c-8d83-45b7-8004-98d6e272e140",
   "metadata": {},
   "outputs": [],
   "source": [
    "pci_producers2023 = pci_producers2023.replace(\n",
    "    {'…': np.NaN, '-': np.NaN, ' ': '.'}, regex=True)"
   ]
  },
  {
   "cell_type": "code",
   "execution_count": null,
   "id": "4a51e8d4-0795-4991-8357-c684e637ab65",
   "metadata": {},
   "outputs": [],
   "source": [
    "pci_producers2023 = pci_producers2023.astype(float)"
   ]
  },
  {
   "cell_type": "code",
   "execution_count": null,
   "id": "403fc308-f333-470c-809f-8ba047a33940",
   "metadata": {},
   "outputs": [],
   "source": [
    "pci_producers2023 = pci_producers2023.round(1)"
   ]
  },
  {
   "cell_type": "code",
   "execution_count": null,
   "id": "7b4232eb-46cc-451f-bb4a-9345e1ec8bcf",
   "metadata": {},
   "outputs": [],
   "source": [
    "pci_producers2023.index = [i.lower() for i in pci_producers2023.index]"
   ]
  },
  {
   "cell_type": "code",
   "execution_count": null,
   "id": "6ed9dfb8-693a-425e-a638-3adbee8a9c7a",
   "metadata": {},
   "outputs": [],
   "source": [
    "pci_producers2023.index = [i.strip() for i in pci_producers2023.index]"
   ]
  },
  {
   "cell_type": "code",
   "execution_count": null,
   "id": "c52f0fbc-5380-4bf6-b9d9-c8889103e221",
   "metadata": {},
   "outputs": [],
   "source": [
    "pci_producers2023.index = \\\n",
    "    (months_translate(x, add_year=2023) for x in pci_producers2023.index)"
   ]
  },
  {
   "cell_type": "code",
   "execution_count": null,
   "id": "13b84bcc-8efa-4e88-8f19-b7dd3d0e91e1",
   "metadata": {},
   "outputs": [],
   "source": [
    "pci_producers2023"
   ]
  },
  {
   "cell_type": "markdown",
   "id": "b05c2fe1-2593-4e66-b618-0d2742ca2dac",
   "metadata": {},
   "source": [
    "### 13.01. Средние цены производителей сельскохозяйственной продукции - 2024 год"
   ]
  },
  {
   "cell_type": "markdown",
   "id": "e00fa21a-b7d9-46bd-849f-a8a930dfe594",
   "metadata": {},
   "source": [
    "*Источник: https://rosstat.gov.ru/storage/mediabank/cena_sx-09.xlsx*  \n",
    "*Единицы измерения: *\n",
    "\n",
    "*Примечания:*  "
   ]
  },
  {
   "cell_type": "code",
   "execution_count": null,
   "id": "72a100a2-d0b5-467e-b8d7-719305f4386d",
   "metadata": {},
   "outputs": [],
   "source": [
    "pci_producers2024_raw = pd.read_excel(pci_producers_link, sheet_name='5')"
   ]
  },
  {
   "cell_type": "code",
   "execution_count": null,
   "id": "f9f93062-b871-4930-a4d9-4b8004fbcfb4",
   "metadata": {},
   "outputs": [],
   "source": [
    "pci_producers2024_raw"
   ]
  },
  {
   "cell_type": "code",
   "execution_count": null,
   "id": "1cafacd7-ecb4-421b-8873-52bf416d7d4e",
   "metadata": {},
   "outputs": [],
   "source": [
    "pci_producers2024 = pci_producers2024_raw[1:-4].copy()"
   ]
  },
  {
   "cell_type": "code",
   "execution_count": null,
   "id": "0d77dd22-777c-4f0a-a060-b500861111ec",
   "metadata": {},
   "outputs": [],
   "source": [
    "pci_producers2024 = pci_producers2024.drop(pci_producers2024.columns[1], axis=1)"
   ]
  },
  {
   "cell_type": "code",
   "execution_count": null,
   "id": "9dbcbc39-ad84-4cbb-a49d-cfe7bce99af7",
   "metadata": {},
   "outputs": [],
   "source": [
    "pci_producers2024.iloc[:, 0] = \\\n",
    "    pci_producers2024.iloc[:, 0].apply(lambda x: remove_duplicated_whitespaces(x))"
   ]
  },
  {
   "cell_type": "code",
   "execution_count": null,
   "id": "6a121c7b-b661-4be3-a549-d080447b5dec",
   "metadata": {},
   "outputs": [],
   "source": [
    "pci_producers2024.columns = pci_producers2024.iloc[0,:]"
   ]
  },
  {
   "cell_type": "code",
   "execution_count": null,
   "id": "331602bb-2ea7-402a-b5f7-d1563afabfe4",
   "metadata": {},
   "outputs": [],
   "source": [
    "pci_producers2024.columns.name = None"
   ]
  },
  {
   "cell_type": "code",
   "execution_count": null,
   "id": "9c198bfe-5077-4a31-8ed9-3dc8452a246c",
   "metadata": {},
   "outputs": [],
   "source": [
    "pci_producers2024 = pci_producers2024[1:].copy()"
   ]
  },
  {
   "cell_type": "code",
   "execution_count": null,
   "id": "80e3146c-e9d1-45cb-853e-7d385aae6109",
   "metadata": {},
   "outputs": [],
   "source": [
    "pci_producers2024.index = pci_producers2024.iloc[:, 0]"
   ]
  },
  {
   "cell_type": "code",
   "execution_count": null,
   "id": "6e2c158a-ea05-4748-a6dc-ddb2dfa43363",
   "metadata": {},
   "outputs": [],
   "source": [
    "pci_producers2024.index = [i.lower() for i in pci_producers2024.index]"
   ]
  },
  {
   "cell_type": "code",
   "execution_count": null,
   "id": "037884a5-2f85-4c0c-8598-0cc0d6ce1655",
   "metadata": {},
   "outputs": [],
   "source": [
    "pci_producers2024.index.name = None"
   ]
  },
  {
   "cell_type": "code",
   "execution_count": null,
   "id": "a9dd5edc-34a1-4a5e-a385-695522d6c0e6",
   "metadata": {},
   "outputs": [],
   "source": [
    "pci_producers2024 = pci_producers2024.iloc[:, 1:].copy()"
   ]
  },
  {
   "cell_type": "code",
   "execution_count": null,
   "id": "cc7b9cc6-6faf-4ef4-b045-17189657632f",
   "metadata": {},
   "outputs": [],
   "source": [
    "pci_producers2024 = pci_producers2024.T"
   ]
  },
  {
   "cell_type": "code",
   "execution_count": null,
   "id": "4b06d89f-e0f6-4769-8261-d281c5e3a313",
   "metadata": {},
   "outputs": [],
   "source": [
    "pci_producers2024 = pci_producers2024.replace(replace_dict_partial, regex=True)"
   ]
  },
  {
   "cell_type": "code",
   "execution_count": null,
   "id": "9cec8f22-f34b-4de5-861c-b6e063c18999",
   "metadata": {},
   "outputs": [],
   "source": [
    "pci_producers2024 = pci_producers2024.replace(replace_dict)"
   ]
  },
  {
   "cell_type": "code",
   "execution_count": null,
   "id": "163550f9-c9e7-472e-9ab9-1500b7ee65fa",
   "metadata": {},
   "outputs": [],
   "source": [
    "pci_producers2024 = pci_producers2024.astype(float)"
   ]
  },
  {
   "cell_type": "code",
   "execution_count": null,
   "id": "580425ea-07ee-4d2c-9794-db864831d0e6",
   "metadata": {},
   "outputs": [],
   "source": [
    "pci_producers2024 = pci_producers2024.round(1)"
   ]
  },
  {
   "cell_type": "code",
   "execution_count": null,
   "id": "d18c1994-9517-45ec-b819-28cd6d6336aa",
   "metadata": {},
   "outputs": [],
   "source": [
    "pci_producers2024.index = [i.lower() for i in pci_producers2024.index]"
   ]
  },
  {
   "cell_type": "code",
   "execution_count": null,
   "id": "fd4b6704-3e9b-4051-9321-ba6258af5425",
   "metadata": {},
   "outputs": [],
   "source": [
    "pci_producers2024.index = [i.strip() for i in pci_producers2024.index]"
   ]
  },
  {
   "cell_type": "code",
   "execution_count": null,
   "id": "b8a0d654-2cbc-4515-887b-b8af6cf01122",
   "metadata": {},
   "outputs": [],
   "source": [
    "pci_producers2024.index = [i.replace('2', '') for i in pci_producers2024.index]"
   ]
  },
  {
   "cell_type": "code",
   "execution_count": null,
   "id": "43bd411b-d25c-46ed-b013-eef191a64836",
   "metadata": {},
   "outputs": [],
   "source": [
    "pci_producers2024.index = [i.replace(')', '') for i in pci_producers2024.index]"
   ]
  },
  {
   "cell_type": "code",
   "execution_count": null,
   "id": "2ee5efaf-d3fe-43af-b299-2fbf61390d4f",
   "metadata": {},
   "outputs": [],
   "source": [
    "pci_producers2024.index = \\\n",
    "    (months_translate(x, add_year=2024) for x in pci_producers2024.index)"
   ]
  },
  {
   "cell_type": "code",
   "execution_count": null,
   "id": "f73c19cd-8421-433b-82a9-527115aee2f4",
   "metadata": {},
   "outputs": [],
   "source": [
    "pci_producers2024"
   ]
  },
  {
   "cell_type": "markdown",
   "id": "cdb7addf-adf0-4eeb-b0ee-364c149252bc",
   "metadata": {},
   "source": [
    "### Growth since January 2021"
   ]
  },
  {
   "cell_type": "code",
   "execution_count": null,
   "id": "70f046c1-5c68-4d21-a809-f53e450d76b4",
   "metadata": {},
   "outputs": [],
   "source": [
    "prices_producers_growth = pd.DataFrame()\n",
    "for column in pci_producers2024.columns:\n",
    "    prices_producers_growth = pd.concat(\n",
    "        [prices_producers_growth, normalized_by_first(pci_producers2024[column], return_type='df')],\n",
    "        axis=1)"
   ]
  },
  {
   "cell_type": "code",
   "execution_count": null,
   "id": "6a13affa-ae72-4239-838c-356257a98495",
   "metadata": {},
   "outputs": [],
   "source": [
    "prices_producers_growth.head()"
   ]
  },
  {
   "cell_type": "markdown",
   "id": "8d90d3c4-a478-4c7f-b3dc-44a5fbd89e69",
   "metadata": {},
   "source": [
    "#### <font color='#820A22'> Export Dataset to Excel and CSV"
   ]
  },
  {
   "cell_type": "code",
   "execution_count": null,
   "id": "e78cbd51-5a3d-4cc2-98b8-bdf8c2e6dcd5",
   "metadata": {},
   "outputs": [],
   "source": [
    "datasets_list = [\n",
    "    pci_producers, prices_producers_growth, pci_producers2021, pci_producers2022,\n",
    "    pci_producers2023, pci_producers2024\n",
    "]"
   ]
  },
  {
   "cell_type": "code",
   "execution_count": null,
   "id": "5e792202-322f-447b-ba6d-33a5871de4c5",
   "metadata": {},
   "outputs": [],
   "source": [
    "sheet_names_list = [\n",
    "    'СХ по годам', 'СХ рост с 2021', 'СХ 2021',\n",
    "    'СХ 2022', 'СХ 2023', 'СХ 2024'\n",
    "]"
   ]
  },
  {
   "cell_type": "code",
   "execution_count": null,
   "id": "8a440c42-f50e-47ea-8f90-e39a0067ba1a",
   "metadata": {},
   "outputs": [],
   "source": [
    "for dataset, sheet in zip(datasets_list, sheet_names_list):\n",
    "    saveit_excel(\n",
    "    data=dataset,\n",
    "    filename='prices-2021-2024-producers',\n",
    "    path=path_excel_csv,\n",
    "    sheet=sheet\n",
    ")"
   ]
  },
  {
   "cell_type": "markdown",
   "id": "ab16cc57-767f-4e8b-b3fe-7aeb74f927d0",
   "metadata": {},
   "source": [
    "### Save Dataset"
   ]
  },
  {
   "cell_type": "code",
   "execution_count": null,
   "id": "dfd4cb36-ca31-4096-87a3-b977131e5ffb",
   "metadata": {},
   "outputs": [],
   "source": [
    "economics_data['prices_producers_food'] = pci_producers"
   ]
  },
  {
   "cell_type": "code",
   "execution_count": null,
   "id": "c24c5fd3-aa25-48c6-a208-67f55fd89576",
   "metadata": {},
   "outputs": [],
   "source": [
    "economics_data['prices_producers_food_growth'] = prices_producers_growth"
   ]
  },
  {
   "cell_type": "code",
   "execution_count": null,
   "id": "216cdf07-1b23-4726-8037-35f49f18430c",
   "metadata": {},
   "outputs": [],
   "source": [
    "economics_data['prices_2021_food_producers'] = pci_producers2021"
   ]
  },
  {
   "cell_type": "code",
   "execution_count": null,
   "id": "2b8c6374-c852-4879-9bed-fa6af0cafc77",
   "metadata": {},
   "outputs": [],
   "source": [
    "economics_data['prices_2022_food_producers'] = pci_producers2022"
   ]
  },
  {
   "cell_type": "code",
   "execution_count": null,
   "id": "e0597a7a-9120-47a1-b4d4-fb01b718bd0c",
   "metadata": {},
   "outputs": [],
   "source": [
    "economics_data['prices_2023_food_producers'] = pci_producers2023"
   ]
  },
  {
   "cell_type": "code",
   "execution_count": null,
   "id": "c8eb1fc3-3845-4eaa-bb15-bab25c7a388b",
   "metadata": {},
   "outputs": [],
   "source": [
    "economics_data['prices_2024_food_producers'] = pci_producers2024"
   ]
  },
  {
   "cell_type": "code",
   "execution_count": null,
   "id": "76536a94-fc02-4b5a-9c79-574071fde2b3",
   "metadata": {},
   "outputs": [],
   "source": [
    "saveit(\n",
    "    file=economics_data,\n",
    "    name='economics_data',\n",
    "    path=path_files\n",
    ")"
   ]
  },
  {
   "cell_type": "markdown",
   "id": "4f576727-2c81-448c-9623-e88e98c4b6b3",
   "metadata": {},
   "source": [
    "### Execution time"
   ]
  },
  {
   "cell_type": "code",
   "execution_count": null,
   "id": "173bdc59-5f37-4172-ad0c-f4af416f9344",
   "metadata": {},
   "outputs": [],
   "source": [
    "stopwatch_stop(start)"
   ]
  }
 ],
 "metadata": {
  "kernelspec": {
   "display_name": "economy-rus",
   "language": "python",
   "name": "economy-rus"
  },
  "language_info": {
   "codemirror_mode": {
    "name": "ipython",
    "version": 3
   },
   "file_extension": ".py",
   "mimetype": "text/x-python",
   "name": "python",
   "nbconvert_exporter": "python",
   "pygments_lexer": "ipython3",
   "version": "3.12.3"
  }
 },
 "nbformat": 4,
 "nbformat_minor": 5
}
