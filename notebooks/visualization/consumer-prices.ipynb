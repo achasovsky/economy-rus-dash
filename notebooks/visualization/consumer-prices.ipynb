{
 "cells": [
  {
   "cell_type": "code",
   "execution_count": 99,
   "id": "f60444b8-12db-41be-8dc8-3273e1390436",
   "metadata": {},
   "outputs": [],
   "source": [
    "import numpy as np\n",
    "import pandas as pd\n",
    "import scipy\n",
    "import statsmodels\n",
    "import statsmodels.api as sm\n",
    "import statsmodels.stats.api as sms\n",
    "import statsmodels.formula.api as smf\n",
    "import plotly\n",
    "import plotly.io as pio\n",
    "import plotly.graph_objects as go\n",
    "import plotly.express as px\n",
    "import chart_studio.plotly as py\n",
    "import matplotlib as mpl\n",
    "import matplotlib.pyplot as plt\n",
    "import seaborn as sns\n",
    "import docx\n",
    "import datetime as dt\n",
    "import pickle\n",
    "import random\n",
    "import math\n",
    "import time\n",
    "import os\n",
    "import re\n",
    "import colorsys\n",
    "import arrow\n",
    "import locale\n",
    "import requests\n",
    "import collections\n",
    "import numbers\n",
    "import decimal\n",
    "\n",
    "from warnings import simplefilter\n",
    "\n",
    "from scipy import stats\n",
    "from scipy.interpolate import make_interp_spline, BSpline\n",
    "from sklearn import preprocessing\n",
    "from sklearn.preprocessing import MinMaxScaler\n",
    "from matplotlib.lines import Line2D\n",
    "import matplotlib.dates as mdates\n",
    "from dash import Dash, html, dcc, callback, Output, Input"
   ]
  },
  {
   "cell_type": "code",
   "execution_count": 100,
   "id": "2f6fbc66-a4fd-4141-b939-9359ddc99d6a",
   "metadata": {},
   "outputs": [],
   "source": [
    "path_current = os.getcwd()\n",
    "path_main = os.path.sep.join(path_current.split(os.path.sep)[:-2])"
   ]
  },
  {
   "cell_type": "code",
   "execution_count": 101,
   "id": "e33fac2b-dd98-4088-8ad2-bf9201fefa24",
   "metadata": {},
   "outputs": [
    {
     "data": {
      "text/plain": [
       "'/Users/achasovsky/Library/CloudStorage/GoogleDrive-alexanderchasovsky@gmail.com/Мой диск/Data Science Projects/# economy-rus-dash/notebooks/visualization'"
      ]
     },
     "execution_count": 101,
     "metadata": {},
     "output_type": "execute_result"
    }
   ],
   "source": [
    "path_current"
   ]
  },
  {
   "cell_type": "code",
   "execution_count": 102,
   "id": "fea8c8ad-2f90-45d0-8da9-00990dd1bf42",
   "metadata": {},
   "outputs": [
    {
     "data": {
      "text/plain": [
       "'/Users/achasovsky/Library/CloudStorage/GoogleDrive-alexanderchasovsky@gmail.com/Мой диск/Data Science Projects/# economy-rus-dash'"
      ]
     },
     "execution_count": 102,
     "metadata": {},
     "output_type": "execute_result"
    }
   ],
   "source": [
    "path_main"
   ]
  },
  {
   "cell_type": "markdown",
   "id": "aed2721c-b30a-4adc-9635-8c946823e837",
   "metadata": {},
   "source": [
    "### To main directory"
   ]
  },
  {
   "cell_type": "code",
   "execution_count": 103,
   "id": "7dd73736-f9f1-4dbe-bda0-ad97bb97cbf6",
   "metadata": {},
   "outputs": [],
   "source": [
    "# change directory to main path\n",
    "os.chdir(path_main)"
   ]
  },
  {
   "cell_type": "markdown",
   "id": "cdbbdd3a-7644-4725-9fba-bdbc8431c53b",
   "metadata": {},
   "source": [
    "### Load libraries, functions, palette, theme"
   ]
  },
  {
   "cell_type": "code",
   "execution_count": 104,
   "id": "875a8f50-d2bf-4b15-8f8c-bdc0913d6033",
   "metadata": {},
   "outputs": [],
   "source": [
    "# load libraries and palette\n",
    "%run __theme.ipynb"
   ]
  },
  {
   "cell_type": "code",
   "execution_count": 105,
   "id": "07623594-1404-4900-8760-57cbc4cadcbb",
   "metadata": {},
   "outputs": [],
   "source": [
    "# load functions\n",
    "# from __functions import *\n",
    "%run __functions.ipynb"
   ]
  },
  {
   "cell_type": "code",
   "execution_count": 106,
   "id": "da6c70cf-8594-423a-a08f-c48be160041d",
   "metadata": {},
   "outputs": [],
   "source": [
    "# start stopwatch\n",
    "start = stopwatch_start()"
   ]
  },
  {
   "cell_type": "markdown",
   "id": "0489d9e6-5234-4e5a-845d-6b90887bfba8",
   "metadata": {},
   "source": [
    "### Variables"
   ]
  },
  {
   "cell_type": "code",
   "execution_count": 107,
   "id": "88f78c3d-cce0-46cb-9960-78cdefb6b0ab",
   "metadata": {},
   "outputs": [],
   "source": [
    "path_img = path_main + '/docs/img/'"
   ]
  },
  {
   "cell_type": "code",
   "execution_count": 108,
   "id": "e2cf6238-0e90-482b-82fd-e8558a512c47",
   "metadata": {},
   "outputs": [],
   "source": [
    "path_files = path_main + '/files'"
   ]
  },
  {
   "cell_type": "code",
   "execution_count": 109,
   "id": "23980069-3e37-4871-96a6-0cefcdad7eae",
   "metadata": {},
   "outputs": [],
   "source": [
    "path_excel_csv = path_main + '/excel-csv'"
   ]
  },
  {
   "cell_type": "markdown",
   "id": "23352383-9300-4ad6-83e9-9c235b36975d",
   "metadata": {},
   "source": [
    "### Load Files"
   ]
  },
  {
   "cell_type": "code",
   "execution_count": 110,
   "id": "3400b855-c10d-484f-8678-2c76e0e69f7f",
   "metadata": {},
   "outputs": [],
   "source": [
    "economics_data = loadit('economics_data', path=path_files, create_empty_dict=True)"
   ]
  },
  {
   "cell_type": "code",
   "execution_count": 111,
   "id": "b75e246f-e2f2-4b66-a0b9-fb8d09bbe5b1",
   "metadata": {},
   "outputs": [],
   "source": [
    "prices_food_growth = economics_data['prices_food_growth'].copy()"
   ]
  },
  {
   "cell_type": "markdown",
   "id": "3ff4718d-8ca6-4189-b9ce-8250f0dcb93d",
   "metadata": {},
   "source": [
    "### Back to notebook directory"
   ]
  },
  {
   "cell_type": "code",
   "execution_count": 112,
   "id": "3d785657-0853-4bb6-b124-e5a630701740",
   "metadata": {},
   "outputs": [],
   "source": [
    "# back to current path\n",
    "os.chdir(path_current)"
   ]
  },
  {
   "cell_type": "markdown",
   "id": "236454a0-089f-4bb2-a1c4-9afd314edf4a",
   "metadata": {},
   "source": [
    "# Динамика цен на продукты питания"
   ]
  },
  {
   "cell_type": "code",
   "execution_count": 113,
   "id": "076df531-2de9-425d-b0d7-e8cb4b9046f8",
   "metadata": {},
   "outputs": [],
   "source": [
    "xtickaliases = pl_tickaliases(arange(2021, 2024, True))"
   ]
  },
  {
   "cell_type": "markdown",
   "id": "8a3973bf-a38d-4040-a13d-542dc3506627",
   "metadata": {},
   "source": [
    "### Цена хлеба"
   ]
  },
  {
   "cell_type": "code",
   "execution_count": 114,
   "id": "69745d23-c86b-4668-a7bf-8887bcab0e17",
   "metadata": {},
   "outputs": [],
   "source": [
    "wheat = prices_food_growth['пшеница'].copy()"
   ]
  },
  {
   "cell_type": "code",
   "execution_count": 115,
   "id": "eeb6ce38-99cb-48a7-9931-922a177f0420",
   "metadata": {},
   "outputs": [],
   "source": [
    "wheat_smoothed = smoothed(wheat, datetime_index=True)"
   ]
  },
  {
   "cell_type": "code",
   "execution_count": 116,
   "id": "f39219c8-c2a9-4298-9609-9871e410f3ad",
   "metadata": {},
   "outputs": [],
   "source": [
    "bread = prices_food_growth['хлеб и булочные изделия из пшеничной муки различных сортов, кг'].copy()"
   ]
  },
  {
   "cell_type": "code",
   "execution_count": 117,
   "id": "f64cf198-9fad-42f1-be9d-b6ad771315ee",
   "metadata": {},
   "outputs": [],
   "source": [
    "bread_smoothed = smoothed(bread, datetime_index=True)"
   ]
  },
  {
   "cell_type": "code",
   "execution_count": 118,
   "id": "3fe347cc-9e61-4d77-a027-a3ccb2efe8ac",
   "metadata": {},
   "outputs": [
    {
     "ename": "ValueError",
     "evalue": "\n    Invalid value of type 'builtins.tuple' received for the 'color' property of scatter.line\n        Received value: (0.28705882352941176, 0.28705882352941176, 0.28705882352941176)\n\n    The 'color' property is a color and may be specified as:\n      - A hex string (e.g. '#ff0000')\n      - An rgb/rgba string (e.g. 'rgb(255,0,0)')\n      - An hsl/hsla string (e.g. 'hsl(0,100%,50%)')\n      - An hsv/hsva string (e.g. 'hsv(0,100%,100%)')\n      - A named CSS color:\n            aliceblue, antiquewhite, aqua, aquamarine, azure,\n            beige, bisque, black, blanchedalmond, blue,\n            blueviolet, brown, burlywood, cadetblue,\n            chartreuse, chocolate, coral, cornflowerblue,\n            cornsilk, crimson, cyan, darkblue, darkcyan,\n            darkgoldenrod, darkgray, darkgrey, darkgreen,\n            darkkhaki, darkmagenta, darkolivegreen, darkorange,\n            darkorchid, darkred, darksalmon, darkseagreen,\n            darkslateblue, darkslategray, darkslategrey,\n            darkturquoise, darkviolet, deeppink, deepskyblue,\n            dimgray, dimgrey, dodgerblue, firebrick,\n            floralwhite, forestgreen, fuchsia, gainsboro,\n            ghostwhite, gold, goldenrod, gray, grey, green,\n            greenyellow, honeydew, hotpink, indianred, indigo,\n            ivory, khaki, lavender, lavenderblush, lawngreen,\n            lemonchiffon, lightblue, lightcoral, lightcyan,\n            lightgoldenrodyellow, lightgray, lightgrey,\n            lightgreen, lightpink, lightsalmon, lightseagreen,\n            lightskyblue, lightslategray, lightslategrey,\n            lightsteelblue, lightyellow, lime, limegreen,\n            linen, magenta, maroon, mediumaquamarine,\n            mediumblue, mediumorchid, mediumpurple,\n            mediumseagreen, mediumslateblue, mediumspringgreen,\n            mediumturquoise, mediumvioletred, midnightblue,\n            mintcream, mistyrose, moccasin, navajowhite, navy,\n            oldlace, olive, olivedrab, orange, orangered,\n            orchid, palegoldenrod, palegreen, paleturquoise,\n            palevioletred, papayawhip, peachpuff, peru, pink,\n            plum, powderblue, purple, red, rosybrown,\n            royalblue, rebeccapurple, saddlebrown, salmon,\n            sandybrown, seagreen, seashell, sienna, silver,\n            skyblue, slateblue, slategray, slategrey, snow,\n            springgreen, steelblue, tan, teal, thistle, tomato,\n            turquoise, violet, wheat, white, whitesmoke,\n            yellow, yellowgreen",
     "output_type": "error",
     "traceback": [
      "\u001b[0;31m---------------------------------------------------------------------------\u001b[0m",
      "\u001b[0;31mValueError\u001b[0m                                Traceback (most recent call last)",
      "Cell \u001b[0;32mIn[118], line 4\u001b[0m\n\u001b[1;32m      1\u001b[0m fig \u001b[38;5;241m=\u001b[39m go\u001b[38;5;241m.\u001b[39mFigure(layout\u001b[38;5;241m=\u001b[39m\u001b[38;5;28mdict\u001b[39m(width\u001b[38;5;241m=\u001b[39m\u001b[38;5;241m750\u001b[39m, height\u001b[38;5;241m=\u001b[39m\u001b[38;5;241m300\u001b[39m))\n\u001b[1;32m      3\u001b[0m fig\u001b[38;5;241m.\u001b[39madd_trace(\n\u001b[0;32m----> 4\u001b[0m     \u001b[43mgo\u001b[49m\u001b[38;5;241;43m.\u001b[39;49m\u001b[43mScatter\u001b[49m\u001b[43m(\u001b[49m\n\u001b[1;32m      5\u001b[0m \u001b[43m        \u001b[49m\u001b[43mx\u001b[49m\u001b[38;5;241;43m=\u001b[39;49m\u001b[43mwheat_smoothed\u001b[49m\u001b[38;5;241;43m.\u001b[39;49m\u001b[43mindex\u001b[49m\u001b[43m,\u001b[49m\n\u001b[1;32m      6\u001b[0m \u001b[43m        \u001b[49m\u001b[43my\u001b[49m\u001b[38;5;241;43m=\u001b[39;49m\u001b[43mwheat_smoothed\u001b[49m\u001b[38;5;241;43m.\u001b[39;49m\u001b[43mvalues\u001b[49m\u001b[38;5;241;43m.\u001b[39;49m\u001b[43mravel\u001b[49m\u001b[43m(\u001b[49m\u001b[43m)\u001b[49m\u001b[43m,\u001b[49m\n\u001b[1;32m      7\u001b[0m \u001b[43m        \u001b[49m\u001b[43mmode\u001b[49m\u001b[38;5;241;43m=\u001b[39;49m\u001b[38;5;124;43m'\u001b[39;49m\u001b[38;5;124;43mlines\u001b[39;49m\u001b[38;5;124;43m'\u001b[39;49m\u001b[43m,\u001b[49m\u001b[43m \u001b[49m\u001b[43mline_color\u001b[49m\u001b[38;5;241;43m=\u001b[39;49m\u001b[43mpalette\u001b[49m\u001b[43m[\u001b[49m\u001b[38;5;241;43m-\u001b[39;49m\u001b[38;5;241;43m5\u001b[39;49m\u001b[43m]\u001b[49m\u001b[43m,\u001b[49m\u001b[43m \u001b[49m\u001b[43mline_dash\u001b[49m\u001b[38;5;241;43m=\u001b[39;49m\u001b[38;5;124;43m'\u001b[39;49m\u001b[38;5;124;43m5px\u001b[39;49m\u001b[38;5;124;43m'\u001b[39;49m\u001b[43m,\u001b[49m\n\u001b[1;32m      8\u001b[0m \u001b[43m        \u001b[49m\u001b[43mhoverinfo\u001b[49m\u001b[38;5;241;43m=\u001b[39;49m\u001b[38;5;124;43m'\u001b[39;49m\u001b[38;5;124;43mskip\u001b[39;49m\u001b[38;5;124;43m'\u001b[39;49m\u001b[43m,\u001b[49m\u001b[43m \u001b[49m\u001b[43mname\u001b[49m\u001b[38;5;241;43m=\u001b[39;49m\u001b[38;5;124;43m'\u001b[39;49m\u001b[38;5;124;43mЦена пшеницы\u001b[39;49m\u001b[38;5;124;43m'\u001b[39;49m\u001b[43m)\u001b[49m)\n\u001b[1;32m      9\u001b[0m fig\u001b[38;5;241m.\u001b[39madd_trace(\n\u001b[1;32m     10\u001b[0m     go\u001b[38;5;241m.\u001b[39mScatter(\n\u001b[1;32m     11\u001b[0m         x\u001b[38;5;241m=\u001b[39mwheat\u001b[38;5;241m.\u001b[39mindex,\n\u001b[0;32m   (...)\u001b[0m\n\u001b[1;32m     14\u001b[0m         mode\u001b[38;5;241m=\u001b[39m\u001b[38;5;124m'\u001b[39m\u001b[38;5;124mmarkers\u001b[39m\u001b[38;5;124m'\u001b[39m, line_color\u001b[38;5;241m=\u001b[39mpalette[\u001b[38;5;241m0\u001b[39m],\n\u001b[1;32m     15\u001b[0m         showlegend\u001b[38;5;241m=\u001b[39m\u001b[38;5;28;01mFalse\u001b[39;00m, name\u001b[38;5;241m=\u001b[39m\u001b[38;5;124m'\u001b[39m\u001b[38;5;124mЦена пшеницы\u001b[39m\u001b[38;5;124m'\u001b[39m))\n\u001b[1;32m     16\u001b[0m fig\u001b[38;5;241m.\u001b[39madd_trace(\n\u001b[1;32m     17\u001b[0m     go\u001b[38;5;241m.\u001b[39mScatter(\n\u001b[1;32m     18\u001b[0m         x\u001b[38;5;241m=\u001b[39mbread_smoothed\u001b[38;5;241m.\u001b[39mindex,\n\u001b[1;32m     19\u001b[0m         y\u001b[38;5;241m=\u001b[39mbread_smoothed\u001b[38;5;241m.\u001b[39mvalues\u001b[38;5;241m.\u001b[39mravel(),\n\u001b[1;32m     20\u001b[0m         mode\u001b[38;5;241m=\u001b[39m\u001b[38;5;124m'\u001b[39m\u001b[38;5;124mlines\u001b[39m\u001b[38;5;124m'\u001b[39m, line_color\u001b[38;5;241m=\u001b[39mpalette[\u001b[38;5;241m6\u001b[39m], hoverinfo\u001b[38;5;241m=\u001b[39m\u001b[38;5;124m'\u001b[39m\u001b[38;5;124mskip\u001b[39m\u001b[38;5;124m'\u001b[39m, name\u001b[38;5;241m=\u001b[39m\u001b[38;5;124m'\u001b[39m\u001b[38;5;124mЦена хлеба\u001b[39m\u001b[38;5;124m'\u001b[39m))\n",
      "File \u001b[0;32m~/Data-Science-Environments/economy-rus/economy-rus/lib/python3.12/site-packages/plotly/graph_objs/_scatter.py:3692\u001b[0m, in \u001b[0;36mScatter.__init__\u001b[0;34m(self, arg, alignmentgroup, cliponaxis, connectgaps, customdata, customdatasrc, dx, dy, error_x, error_y, fill, fillcolor, fillgradient, fillpattern, groupnorm, hoverinfo, hoverinfosrc, hoverlabel, hoveron, hovertemplate, hovertemplatesrc, hovertext, hovertextsrc, ids, idssrc, legend, legendgroup, legendgrouptitle, legendrank, legendwidth, line, marker, meta, metasrc, mode, name, offsetgroup, opacity, orientation, selected, selectedpoints, showlegend, stackgaps, stackgroup, stream, text, textfont, textposition, textpositionsrc, textsrc, texttemplate, texttemplatesrc, uid, uirevision, unselected, visible, x, x0, xaxis, xcalendar, xhoverformat, xperiod, xperiod0, xperiodalignment, xsrc, y, y0, yaxis, ycalendar, yhoverformat, yperiod, yperiod0, yperiodalignment, ysrc, zorder, **kwargs)\u001b[0m\n\u001b[1;32m   3688\u001b[0m arg\u001b[38;5;241m.\u001b[39mpop(\u001b[38;5;124m\"\u001b[39m\u001b[38;5;124mtype\u001b[39m\u001b[38;5;124m\"\u001b[39m, \u001b[38;5;28;01mNone\u001b[39;00m)\n\u001b[1;32m   3690\u001b[0m \u001b[38;5;66;03m# Process unknown kwargs\u001b[39;00m\n\u001b[1;32m   3691\u001b[0m \u001b[38;5;66;03m# ----------------------\u001b[39;00m\n\u001b[0;32m-> 3692\u001b[0m \u001b[38;5;28;43mself\u001b[39;49m\u001b[38;5;241;43m.\u001b[39;49m\u001b[43m_process_kwargs\u001b[49m\u001b[43m(\u001b[49m\u001b[38;5;241;43m*\u001b[39;49m\u001b[38;5;241;43m*\u001b[39;49m\u001b[38;5;28;43mdict\u001b[39;49m\u001b[43m(\u001b[49m\u001b[43marg\u001b[49m\u001b[43m,\u001b[49m\u001b[43m \u001b[49m\u001b[38;5;241;43m*\u001b[39;49m\u001b[38;5;241;43m*\u001b[39;49m\u001b[43mkwargs\u001b[49m\u001b[43m)\u001b[49m\u001b[43m)\u001b[49m\n\u001b[1;32m   3694\u001b[0m \u001b[38;5;66;03m# Reset skip_invalid\u001b[39;00m\n\u001b[1;32m   3695\u001b[0m \u001b[38;5;66;03m# ------------------\u001b[39;00m\n\u001b[1;32m   3696\u001b[0m \u001b[38;5;28mself\u001b[39m\u001b[38;5;241m.\u001b[39m_skip_invalid \u001b[38;5;241m=\u001b[39m \u001b[38;5;28;01mFalse\u001b[39;00m\n",
      "File \u001b[0;32m~/Data-Science-Environments/economy-rus/economy-rus/lib/python3.12/site-packages/plotly/basedatatypes.py:4387\u001b[0m, in \u001b[0;36mBasePlotlyType._process_kwargs\u001b[0;34m(self, **kwargs)\u001b[0m\n\u001b[1;32m   4384\u001b[0m err \u001b[38;5;241m=\u001b[39m _check_path_in_prop_tree(\u001b[38;5;28mself\u001b[39m, k, error_cast\u001b[38;5;241m=\u001b[39m\u001b[38;5;167;01mValueError\u001b[39;00m)\n\u001b[1;32m   4385\u001b[0m \u001b[38;5;28;01mif\u001b[39;00m err \u001b[38;5;129;01mis\u001b[39;00m \u001b[38;5;28;01mNone\u001b[39;00m:\n\u001b[1;32m   4386\u001b[0m     \u001b[38;5;66;03m# e.g. underscore kwargs like marker_line_color\u001b[39;00m\n\u001b[0;32m-> 4387\u001b[0m     \u001b[38;5;28;43mself\u001b[39;49m\u001b[43m[\u001b[49m\u001b[43mk\u001b[49m\u001b[43m]\u001b[49m \u001b[38;5;241m=\u001b[39m v\n\u001b[1;32m   4388\u001b[0m \u001b[38;5;28;01melif\u001b[39;00m \u001b[38;5;129;01mnot\u001b[39;00m \u001b[38;5;28mself\u001b[39m\u001b[38;5;241m.\u001b[39m_validate:\n\u001b[1;32m   4389\u001b[0m     \u001b[38;5;66;03m# Set extra property as-is\u001b[39;00m\n\u001b[1;32m   4390\u001b[0m     \u001b[38;5;28mself\u001b[39m[k] \u001b[38;5;241m=\u001b[39m v\n",
      "File \u001b[0;32m~/Data-Science-Environments/economy-rus/economy-rus/lib/python3.12/site-packages/plotly/basedatatypes.py:4914\u001b[0m, in \u001b[0;36mBasePlotlyType.__setitem__\u001b[0;34m(self, prop, value)\u001b[0m\n\u001b[1;32m   4910\u001b[0m     res \u001b[38;5;241m=\u001b[39m res[p]\n\u001b[1;32m   4912\u001b[0m res\u001b[38;5;241m.\u001b[39m_validate \u001b[38;5;241m=\u001b[39m \u001b[38;5;28mself\u001b[39m\u001b[38;5;241m.\u001b[39m_validate\n\u001b[0;32m-> 4914\u001b[0m \u001b[43mres\u001b[49m\u001b[43m[\u001b[49m\u001b[43mprop\u001b[49m\u001b[43m[\u001b[49m\u001b[38;5;241;43m-\u001b[39;49m\u001b[38;5;241;43m1\u001b[39;49m\u001b[43m]\u001b[49m\u001b[43m]\u001b[49m \u001b[38;5;241m=\u001b[39m value\n",
      "File \u001b[0;32m~/Data-Science-Environments/economy-rus/economy-rus/lib/python3.12/site-packages/plotly/basedatatypes.py:4874\u001b[0m, in \u001b[0;36mBasePlotlyType.__setitem__\u001b[0;34m(self, prop, value)\u001b[0m\n\u001b[1;32m   4870\u001b[0m         \u001b[38;5;28mself\u001b[39m\u001b[38;5;241m.\u001b[39m_set_array_prop(prop, value)\n\u001b[1;32m   4872\u001b[0m     \u001b[38;5;66;03m# ### Handle simple property ###\u001b[39;00m\n\u001b[1;32m   4873\u001b[0m     \u001b[38;5;28;01melse\u001b[39;00m:\n\u001b[0;32m-> 4874\u001b[0m         \u001b[38;5;28;43mself\u001b[39;49m\u001b[38;5;241;43m.\u001b[39;49m\u001b[43m_set_prop\u001b[49m\u001b[43m(\u001b[49m\u001b[43mprop\u001b[49m\u001b[43m,\u001b[49m\u001b[43m \u001b[49m\u001b[43mvalue\u001b[49m\u001b[43m)\u001b[49m\n\u001b[1;32m   4875\u001b[0m \u001b[38;5;28;01melse\u001b[39;00m:\n\u001b[1;32m   4876\u001b[0m     \u001b[38;5;66;03m# Make sure properties dict is initialized\u001b[39;00m\n\u001b[1;32m   4877\u001b[0m     \u001b[38;5;28mself\u001b[39m\u001b[38;5;241m.\u001b[39m_init_props()\n",
      "File \u001b[0;32m~/Data-Science-Environments/economy-rus/economy-rus/lib/python3.12/site-packages/plotly/basedatatypes.py:5218\u001b[0m, in \u001b[0;36mBasePlotlyType._set_prop\u001b[0;34m(self, prop, val)\u001b[0m\n\u001b[1;32m   5216\u001b[0m         \u001b[38;5;28;01mreturn\u001b[39;00m\n\u001b[1;32m   5217\u001b[0m     \u001b[38;5;28;01melse\u001b[39;00m:\n\u001b[0;32m-> 5218\u001b[0m         \u001b[38;5;28;01mraise\u001b[39;00m err\n\u001b[1;32m   5220\u001b[0m \u001b[38;5;66;03m# val is None\u001b[39;00m\n\u001b[1;32m   5221\u001b[0m \u001b[38;5;66;03m# -----------\u001b[39;00m\n\u001b[1;32m   5222\u001b[0m \u001b[38;5;28;01mif\u001b[39;00m val \u001b[38;5;129;01mis\u001b[39;00m \u001b[38;5;28;01mNone\u001b[39;00m:\n\u001b[1;32m   5223\u001b[0m     \u001b[38;5;66;03m# Check if we should send null update\u001b[39;00m\n",
      "File \u001b[0;32m~/Data-Science-Environments/economy-rus/economy-rus/lib/python3.12/site-packages/plotly/basedatatypes.py:5213\u001b[0m, in \u001b[0;36mBasePlotlyType._set_prop\u001b[0;34m(self, prop, val)\u001b[0m\n\u001b[1;32m   5210\u001b[0m validator \u001b[38;5;241m=\u001b[39m \u001b[38;5;28mself\u001b[39m\u001b[38;5;241m.\u001b[39m_get_validator(prop)\n\u001b[1;32m   5212\u001b[0m \u001b[38;5;28;01mtry\u001b[39;00m:\n\u001b[0;32m-> 5213\u001b[0m     val \u001b[38;5;241m=\u001b[39m \u001b[43mvalidator\u001b[49m\u001b[38;5;241;43m.\u001b[39;49m\u001b[43mvalidate_coerce\u001b[49m\u001b[43m(\u001b[49m\u001b[43mval\u001b[49m\u001b[43m)\u001b[49m\n\u001b[1;32m   5214\u001b[0m \u001b[38;5;28;01mexcept\u001b[39;00m \u001b[38;5;167;01mValueError\u001b[39;00m \u001b[38;5;28;01mas\u001b[39;00m err:\n\u001b[1;32m   5215\u001b[0m     \u001b[38;5;28;01mif\u001b[39;00m \u001b[38;5;28mself\u001b[39m\u001b[38;5;241m.\u001b[39m_skip_invalid:\n",
      "File \u001b[0;32m~/Data-Science-Environments/economy-rus/economy-rus/lib/python3.12/site-packages/_plotly_utils/basevalidators.py:1383\u001b[0m, in \u001b[0;36mColorValidator.validate_coerce\u001b[0;34m(self, v, should_raise)\u001b[0m\n\u001b[1;32m   1381\u001b[0m     validated_v \u001b[38;5;241m=\u001b[39m \u001b[38;5;28mself\u001b[39m\u001b[38;5;241m.\u001b[39mvc_scalar(v)\n\u001b[1;32m   1382\u001b[0m     \u001b[38;5;28;01mif\u001b[39;00m validated_v \u001b[38;5;129;01mis\u001b[39;00m \u001b[38;5;28;01mNone\u001b[39;00m \u001b[38;5;129;01mand\u001b[39;00m should_raise:\n\u001b[0;32m-> 1383\u001b[0m         \u001b[38;5;28;43mself\u001b[39;49m\u001b[38;5;241;43m.\u001b[39;49m\u001b[43mraise_invalid_val\u001b[49m\u001b[43m(\u001b[49m\u001b[43mv\u001b[49m\u001b[43m)\u001b[49m\n\u001b[1;32m   1385\u001b[0m     v \u001b[38;5;241m=\u001b[39m validated_v\n\u001b[1;32m   1387\u001b[0m \u001b[38;5;28;01mreturn\u001b[39;00m v\n",
      "File \u001b[0;32m~/Data-Science-Environments/economy-rus/economy-rus/lib/python3.12/site-packages/_plotly_utils/basevalidators.py:296\u001b[0m, in \u001b[0;36mBaseValidator.raise_invalid_val\u001b[0;34m(self, v, inds)\u001b[0m\n\u001b[1;32m    293\u001b[0m             \u001b[38;5;28;01mfor\u001b[39;00m i \u001b[38;5;129;01min\u001b[39;00m inds:\n\u001b[1;32m    294\u001b[0m                 name \u001b[38;5;241m+\u001b[39m\u001b[38;5;241m=\u001b[39m \u001b[38;5;124m\"\u001b[39m\u001b[38;5;124m[\u001b[39m\u001b[38;5;124m\"\u001b[39m \u001b[38;5;241m+\u001b[39m \u001b[38;5;28mstr\u001b[39m(i) \u001b[38;5;241m+\u001b[39m \u001b[38;5;124m\"\u001b[39m\u001b[38;5;124m]\u001b[39m\u001b[38;5;124m\"\u001b[39m\n\u001b[0;32m--> 296\u001b[0m         \u001b[38;5;28;01mraise\u001b[39;00m \u001b[38;5;167;01mValueError\u001b[39;00m(\n\u001b[1;32m    297\u001b[0m \u001b[38;5;250m            \u001b[39m\u001b[38;5;124;03m\"\"\"\u001b[39;00m\n\u001b[1;32m    298\u001b[0m \u001b[38;5;124;03m    Invalid value of type {typ} received for the '{name}' property of {pname}\u001b[39;00m\n\u001b[1;32m    299\u001b[0m \u001b[38;5;124;03m        Received value: {v}\u001b[39;00m\n\u001b[1;32m    300\u001b[0m \n\u001b[1;32m    301\u001b[0m \u001b[38;5;124;03m{valid_clr_desc}\"\"\"\u001b[39;00m\u001b[38;5;241m.\u001b[39mformat(\n\u001b[1;32m    302\u001b[0m                 name\u001b[38;5;241m=\u001b[39mname,\n\u001b[1;32m    303\u001b[0m                 pname\u001b[38;5;241m=\u001b[39m\u001b[38;5;28mself\u001b[39m\u001b[38;5;241m.\u001b[39mparent_name,\n\u001b[1;32m    304\u001b[0m                 typ\u001b[38;5;241m=\u001b[39mtype_str(v),\n\u001b[1;32m    305\u001b[0m                 v\u001b[38;5;241m=\u001b[39m\u001b[38;5;28mrepr\u001b[39m(v),\n\u001b[1;32m    306\u001b[0m                 valid_clr_desc\u001b[38;5;241m=\u001b[39m\u001b[38;5;28mself\u001b[39m\u001b[38;5;241m.\u001b[39mdescription(),\n\u001b[1;32m    307\u001b[0m             )\n\u001b[1;32m    308\u001b[0m         )\n",
      "\u001b[0;31mValueError\u001b[0m: \n    Invalid value of type 'builtins.tuple' received for the 'color' property of scatter.line\n        Received value: (0.28705882352941176, 0.28705882352941176, 0.28705882352941176)\n\n    The 'color' property is a color and may be specified as:\n      - A hex string (e.g. '#ff0000')\n      - An rgb/rgba string (e.g. 'rgb(255,0,0)')\n      - An hsl/hsla string (e.g. 'hsl(0,100%,50%)')\n      - An hsv/hsva string (e.g. 'hsv(0,100%,100%)')\n      - A named CSS color:\n            aliceblue, antiquewhite, aqua, aquamarine, azure,\n            beige, bisque, black, blanchedalmond, blue,\n            blueviolet, brown, burlywood, cadetblue,\n            chartreuse, chocolate, coral, cornflowerblue,\n            cornsilk, crimson, cyan, darkblue, darkcyan,\n            darkgoldenrod, darkgray, darkgrey, darkgreen,\n            darkkhaki, darkmagenta, darkolivegreen, darkorange,\n            darkorchid, darkred, darksalmon, darkseagreen,\n            darkslateblue, darkslategray, darkslategrey,\n            darkturquoise, darkviolet, deeppink, deepskyblue,\n            dimgray, dimgrey, dodgerblue, firebrick,\n            floralwhite, forestgreen, fuchsia, gainsboro,\n            ghostwhite, gold, goldenrod, gray, grey, green,\n            greenyellow, honeydew, hotpink, indianred, indigo,\n            ivory, khaki, lavender, lavenderblush, lawngreen,\n            lemonchiffon, lightblue, lightcoral, lightcyan,\n            lightgoldenrodyellow, lightgray, lightgrey,\n            lightgreen, lightpink, lightsalmon, lightseagreen,\n            lightskyblue, lightslategray, lightslategrey,\n            lightsteelblue, lightyellow, lime, limegreen,\n            linen, magenta, maroon, mediumaquamarine,\n            mediumblue, mediumorchid, mediumpurple,\n            mediumseagreen, mediumslateblue, mediumspringgreen,\n            mediumturquoise, mediumvioletred, midnightblue,\n            mintcream, mistyrose, moccasin, navajowhite, navy,\n            oldlace, olive, olivedrab, orange, orangered,\n            orchid, palegoldenrod, palegreen, paleturquoise,\n            palevioletred, papayawhip, peachpuff, peru, pink,\n            plum, powderblue, purple, red, rosybrown,\n            royalblue, rebeccapurple, saddlebrown, salmon,\n            sandybrown, seagreen, seashell, sienna, silver,\n            skyblue, slateblue, slategray, slategrey, snow,\n            springgreen, steelblue, tan, teal, thistle, tomato,\n            turquoise, violet, wheat, white, whitesmoke,\n            yellow, yellowgreen"
     ]
    }
   ],
   "source": [
    "fig = go.Figure(layout=dict(width=750, height=300))\n",
    "\n",
    "fig.add_trace(\n",
    "    go.Scatter(\n",
    "        x=wheat_smoothed.index,\n",
    "        y=wheat_smoothed.values.ravel(),\n",
    "        mode='lines', line_color=palette[-5], line_dash='5px',\n",
    "        hoverinfo='skip', name='Цена пшеницы'))\n",
    "fig.add_trace(\n",
    "    go.Scatter(\n",
    "        x=wheat.index,\n",
    "        y=wheat,\n",
    "        marker=dict(opacity=0, size=6),\n",
    "        mode='markers', line_color=palette[0],\n",
    "        showlegend=False, name='Цена пшеницы'))\n",
    "fig.add_trace(\n",
    "    go.Scatter(\n",
    "        x=bread_smoothed.index,\n",
    "        y=bread_smoothed.values.ravel(),\n",
    "        mode='lines', line_color=palette[6], hoverinfo='skip', name='Цена хлеба'))\n",
    "fig.add_trace(\n",
    "    go.Scatter(\n",
    "        x=bread.index,\n",
    "        y=bread,\n",
    "        marker=dict(opacity=0, size=6),\n",
    "        mode='markers', line_color=palette[6], name='Цена хлеба', showlegend=False))\n",
    "\n",
    "fig.update_xaxes(dtick='M3', tickformat=\"%b<br>%Y\", labelalias=xtickaliases)\n",
    "fig.update_yaxes(dtick=0.1)\n",
    "\n",
    "pl_hline(1)\n",
    "\n",
    "fig.show(config=config)"
   ]
  },
  {
   "cell_type": "markdown",
   "id": "3b3507fd-6354-41e4-9a6e-10a3bcc34047",
   "metadata": {},
   "source": [
    "### Цена говядины"
   ]
  },
  {
   "cell_type": "code",
   "execution_count": null,
   "id": "6f85e17d-0d64-45d0-b217-dd4c6f79d72f",
   "metadata": {},
   "outputs": [],
   "source": [
    "fig = go.Figure(layout=dict(width=750, height=300))\n",
    "\n",
    "fig.add_trace(\n",
    "    go.Scatter(\n",
    "        x=smoothed(prices_food_growth['крупный рогатый скот'], datetime_index=True).index,\n",
    "        y=smoothed(prices_food_growth['крупный рогатый скот'],  datetime_index=True).values.ravel(),\n",
    "        mode='lines', line_color=palette[-5], opacity=1, line_dash='5px', hoverinfo='skip',\n",
    "        name='Цена КРС'))\n",
    "fig.add_trace(\n",
    "    go.Scatter(\n",
    "        x=prices_food_growth['крупный рогатый скот'].index,\n",
    "        y=prices_food_growth['крупный рогатый скот'],\n",
    "        marker=dict(opacity=0, size=6),\n",
    "        mode='markers', line_color=palette[0], showlegend=False,\n",
    "        name='Цена КРС'))\n",
    "fig.add_trace(\n",
    "    go.Scatter(\n",
    "        x=smoothed(prices_food_growth['говядина (кроме бескостного мяса), кг'], datetime_index=True).index,\n",
    "        y=smoothed(prices_food_growth['говядина (кроме бескостного мяса), кг'],  datetime_index=True).values.ravel(),\n",
    "        mode='lines', line_color=palette[1], hoverinfo='skip',\n",
    "        name='Цена говядины'))\n",
    "fig.add_trace(\n",
    "    go.Scatter(\n",
    "        x=prices_food_growth['говядина (кроме бескостного мяса), кг'].index,\n",
    "        y=prices_food_growth['говядина (кроме бескостного мяса), кг'],\n",
    "        marker=dict(opacity=0, size=6),\n",
    "        mode='markers', line_color=palette[1], showlegend=False,\n",
    "        name='Цена говядины'))\n",
    "\n",
    "pl_hline(1)\n",
    "\n",
    "fig.update_xaxes(dtick='M3', tickformat=\"%b<br>%Y\", labelalias=xtickaliases)\n",
    "fig.update_yaxes(dtick=0.1)\n",
    "\n",
    "fig.show(config=config)"
   ]
  },
  {
   "cell_type": "markdown",
   "id": "e553270f-dcbc-48e7-8fbe-a2544b01771b",
   "metadata": {},
   "source": [
    "### Цена свинины"
   ]
  },
  {
   "cell_type": "code",
   "execution_count": null,
   "id": "5bb89336-06c8-4fb1-bc40-ef1bb6501f05",
   "metadata": {},
   "outputs": [],
   "source": [
    "fig = go.Figure(layout=dict(width=750, height=300))\n",
    "\n",
    "fig.add_trace(\n",
    "    go.Scatter(\n",
    "        x=smoothed(prices_food_growth['свиньи'], datetime_index=True).index,\n",
    "        y=smoothed(prices_food_growth['свиньи'],  datetime_index=True).values.ravel(),\n",
    "        mode='lines', line_color=palette[-5], opacity=1, line_dash='5px', hoverinfo='skip',\n",
    "        name='Цена свиней у производителей'))\n",
    "fig.add_trace(\n",
    "    go.Scatter(\n",
    "        x=prices_food_growth['свиньи'].index,\n",
    "        y=prices_food_growth['свиньи'],\n",
    "        marker=dict(opacity=0, size=6),\n",
    "        mode='markers', line_color=palette[0], showlegend=False,\n",
    "        name='Цена свиней у производителей',))\n",
    "fig.add_trace(\n",
    "    go.Scatter(\n",
    "        x=smoothed(prices_food_growth['свинина (кроме бескостного мяса), кг'], datetime_index=True).index,\n",
    "        y=smoothed(prices_food_growth['свинина (кроме бескостного мяса), кг'],  datetime_index=True).values.ravel(),\n",
    "        mode='lines', line_color=palette[8], hoverinfo='skip',\n",
    "        name='Цена свинины'))\n",
    "fig.add_trace(\n",
    "    go.Scatter(\n",
    "        x=prices_food_growth['свинина (кроме бескостного мяса), кг'].index,\n",
    "        y=prices_food_growth['свинина (кроме бескостного мяса), кг'],\n",
    "        marker=dict(opacity=0, size=6),\n",
    "        mode='markers', line_color=palette[8], showlegend=False,\n",
    "        name='Цена свинины'))\n",
    "\n",
    "pl_hline(1)\n",
    "\n",
    "fig.update_xaxes(dtick='M3', tickformat=\"%b<br>%Y\", labelalias=xtickaliases)\n",
    "fig.update_yaxes(dtick=0.1)\n",
    "\n",
    "fig.show(config=config)"
   ]
  },
  {
   "cell_type": "markdown",
   "id": "5ae5fd12-23ba-4480-885b-6473d09bfe3d",
   "metadata": {},
   "source": [
    "### Цена курицы"
   ]
  },
  {
   "cell_type": "code",
   "execution_count": null,
   "id": "dc4601d8-8c42-41a1-8892-df69639c5617",
   "metadata": {},
   "outputs": [],
   "source": [
    "fig = go.Figure(layout=dict(width=750, height=300))\n",
    "\n",
    "fig.add_trace(\n",
    "    go.Scatter(\n",
    "        x=smoothed(prices_food_growth['птица сельскохозяйственная живая'], datetime_index=True).index,\n",
    "        y=smoothed(prices_food_growth['птица сельскохозяйственная живая'],  datetime_index=True).values.ravel(),\n",
    "        mode='lines', line_color=palette[-5], opacity=1, line_dash='5px', hoverinfo='skip',\n",
    "        name='Цена птицы у производителей'))\n",
    "fig.add_trace(\n",
    "    go.Scatter(\n",
    "        x=prices_food_growth['птица сельскохозяйственная живая'].index,\n",
    "        y=prices_food_growth['птица сельскохозяйственная живая'],\n",
    "        marker=dict(opacity=0, size=6),\n",
    "        mode='markers', line_color=palette[0], showlegend=False,\n",
    "        name='Цена птицы у производителей'))\n",
    "fig.add_trace(\n",
    "    go.Scatter(\n",
    "        x=smoothed(prices_food_growth['куры охлажденные и мороженые, кг'], datetime_index=True).index,\n",
    "        y=smoothed(prices_food_growth['куры охлажденные и мороженые, кг'],  datetime_index=True).values.ravel(),\n",
    "        mode='lines', line_color=palette[7], hoverinfo='skip',\n",
    "        name='Цена курицы'))\n",
    "fig.add_trace(\n",
    "    go.Scatter(\n",
    "        x=prices_food_growth['куры охлажденные и мороженые, кг'].index,\n",
    "        y=prices_food_growth['куры охлажденные и мороженые, кг'],\n",
    "        marker=dict(opacity=0, size=6),\n",
    "        mode='markers', line_color=palette[7], showlegend=False,\n",
    "        name='Цена курицы'))\n",
    "\n",
    "pl_hline(1)\n",
    "\n",
    "fig.update_xaxes(dtick='M3', tickformat=\"%b<br>%Y\", labelalias=xtickaliases)\n",
    "fig.update_yaxes(dtick=0.1)\n",
    "\n",
    "fig.show(config=config)"
   ]
  },
  {
   "cell_type": "markdown",
   "id": "164dbbb1-5f86-4e09-95de-52fde13737ab",
   "metadata": {},
   "source": [
    "### Цена молочных продуктов"
   ]
  },
  {
   "cell_type": "code",
   "execution_count": null,
   "id": "ac183b84-c5e3-4d60-ba1b-effcde6badd9",
   "metadata": {},
   "outputs": [],
   "source": [
    "fig = go.Figure(layout=dict(width=750, height=320))\n",
    "\n",
    "# сырое молоко\n",
    "fig.add_trace(\n",
    "    go.Scatter(\n",
    "        x=smoothed(prices_food_growth['молоко сырое крупного рогатого скота'], datetime_index=True).index,\n",
    "        y=smoothed(prices_food_growth['молоко сырое крупного рогатого скота'],  datetime_index=True).values.ravel(),\n",
    "        mode='lines', line_color=palette[-5], opacity=1, line_dash='5px', hoverinfo='skip', name='Сырое молоко',))\n",
    "fig.add_trace(\n",
    "    go.Scatter(\n",
    "        x=prices_food_growth['молоко сырое крупного рогатого скота'].index,\n",
    "        y=prices_food_growth['молоко сырое крупного рогатого скота'],\n",
    "        marker=dict(opacity=0, size=6),\n",
    "        mode='markers', line_color=palette[0], showlegend=False, name='Сырое молоко',))\n",
    "# сыр\n",
    "fig.add_trace(\n",
    "    go.Scatter(\n",
    "        x=smoothed(prices_food_growth['сыры твердые, полутвердые и мягкие, кг'], datetime_index=True).index,\n",
    "        y=smoothed(prices_food_growth['сыры твердые, полутвердые и мягкие, кг'],  datetime_index=True).values.ravel(),\n",
    "        mode='lines', line_color=palette[2], hoverinfo='skip', name='Сыр'))\n",
    "fig.add_trace(\n",
    "    go.Scatter(\n",
    "        x=prices_food_growth['сыры твердые, полутвердые и мягкие, кг'].index,\n",
    "        y=prices_food_growth['сыры твердые, полутвердые и мягкие, кг'],\n",
    "        marker=dict(opacity=0, size=6),\n",
    "        mode='markers', line_color=palette[2], showlegend=False, name='Сыр'))\n",
    "# сметана\n",
    "fig.add_trace(\n",
    "    go.Scatter(\n",
    "        x=smoothed(prices_food_growth['сметана, кг'], datetime_index=True).index,\n",
    "        y=smoothed(prices_food_growth['сметана, кг'],  datetime_index=True).values.ravel(),\n",
    "        mode='lines', line_color=palette[3], hoverinfo='skip', name='Сметана'))\n",
    "fig.add_trace(\n",
    "    go.Scatter(\n",
    "        x=prices_food_growth['сметана, кг'].index,\n",
    "        y=prices_food_growth['сметана, кг'],\n",
    "        marker=dict(opacity=0, size=6),\n",
    "        mode='markers', line_color=palette[3], showlegend=False, name='Сметана'))\n",
    "# йогурт\n",
    "fig.add_trace(\n",
    "    go.Scatter(\n",
    "        x=smoothed(prices_food_growth['йогурт, кг'], datetime_index=True).index,\n",
    "        y=smoothed(prices_food_growth['йогурт, кг'],  datetime_index=True).values.ravel(),\n",
    "        mode='lines', line_color=palette[4], hoverinfo='skip', name='Йогрут'))\n",
    "fig.add_trace(\n",
    "    go.Scatter(\n",
    "        x=prices_food_growth['йогурт, кг'].index,\n",
    "        y=prices_food_growth['йогурт, кг'],\n",
    "        marker=dict(opacity=0, size=6),\n",
    "        mode='markers', line_color=palette[4], showlegend=False, name='Йогрут'))\n",
    "# масло\n",
    "fig.add_trace(\n",
    "    go.Scatter(\n",
    "        x=smoothed(prices_food_growth['масло сливочное, кг'], datetime_index=True).index,\n",
    "        y=smoothed(prices_food_growth['масло сливочное, кг'],  datetime_index=True).values.ravel(),\n",
    "        mode='lines', line_color=palette[1], hoverinfo='skip', name='Масло сливочное'))\n",
    "fig.add_trace(\n",
    "    go.Scatter(\n",
    "        x=prices_food_growth['масло сливочное, кг'].index,\n",
    "        y=prices_food_growth['масло сливочное, кг'],\n",
    "        marker=dict(opacity=0, size=6),\n",
    "        mode='markers', line_color=palette[1], showlegend=False, name='Масло сливочное'))\n",
    "# творог\n",
    "fig.add_trace(\n",
    "    go.Scatter(\n",
    "        x=smoothed(prices_food_growth['творог, кг'], datetime_index=True).index,\n",
    "        y=smoothed(prices_food_growth['творог, кг'],  datetime_index=True).values.ravel(),\n",
    "        mode='lines', line_color=palette[7], hoverinfo='skip', name='Творог'))\n",
    "fig.add_trace(\n",
    "    go.Scatter(\n",
    "        x=prices_food_growth['творог, кг'].index,\n",
    "        y=prices_food_growth['творог, кг'],\n",
    "        marker=dict(opacity=0, size=6),\n",
    "        mode='markers', line_color=palette[7], showlegend=False, name='Творог'))\n",
    "# молоко пастеризованное\n",
    "fig.add_trace(\n",
    "    go.Scatter(\n",
    "        x=smoothed(prices_food_growth['молоко питьевое цельное пастеризованное 2,5-3,2% жирности, л'], datetime_index=True).index,\n",
    "        y=smoothed(prices_food_growth['молоко питьевое цельное пастеризованное 2,5-3,2% жирности, л'],  datetime_index=True).values.ravel(),\n",
    "        mode='lines', line_color=alpha_color(palette[0], 0.75, return_type='HEX'), hoverinfo='skip', name='Пастеризованное молоко'))\n",
    "fig.add_trace(\n",
    "    go.Scatter(\n",
    "        x=prices_food_growth['молоко питьевое цельное пастеризованное 2,5-3,2% жирности, л'].index,\n",
    "        y=prices_food_growth['молоко питьевое цельное пастеризованное 2,5-3,2% жирности, л'],\n",
    "        marker=dict(opacity=0, size=6),\n",
    "        mode='markers', line_color=palette[0], showlegend=False, name='Пастеризованное молоко'))\n",
    "\n",
    "pl_hline(1)\n",
    "\n",
    "fig.update_xaxes(dtick='M3', tickformat=\"%b<br>%Y\", labelalias=xtickaliases)\n",
    "fig.update_yaxes(dtick=0.1)\n",
    "fig.update_layout(legend=dict(entrywidth=90, entrywidthmode='pixels'))\n",
    "\n",
    "fig.show(config=config)"
   ]
  },
  {
   "cell_type": "markdown",
   "id": "0fe376b9-594d-4e3f-abdb-47f1eab8f13b",
   "metadata": {},
   "source": [
    "### Цена овощей"
   ]
  },
  {
   "cell_type": "code",
   "execution_count": null,
   "id": "405f14c6-54ed-4ff3-a3a1-4696da43af35",
   "metadata": {},
   "outputs": [],
   "source": [
    "fig = go.Figure(layout=dict(width=750, height=320))\n",
    "\n",
    "# картофель\n",
    "fig.add_trace(\n",
    "    go.Scatter(\n",
    "        x=smoothed(prices_food_growth['картофель, кг'], datetime_index=True).index,\n",
    "        y=smoothed(prices_food_growth['картофель, кг'],  datetime_index=True).values.ravel(),\n",
    "        mode='lines', line_color=palette[5], hoverinfo='skip',\n",
    "        name='Картофель'))\n",
    "fig.add_trace(\n",
    "    go.Scatter(\n",
    "        x=prices_food_growth['картофель, кг'].index,\n",
    "        y=prices_food_growth['картофель, кг'],\n",
    "        marker=dict(opacity=0, size=6),\n",
    "        mode='markers', line_color=palette[5], showlegend=False,\n",
    "        name='Картофель'))\n",
    "# огурцы\n",
    "fig.add_trace(\n",
    "    go.Scatter(\n",
    "        x=smoothed(prices_food_growth['огурцы свежие, кг'], datetime_index=True).index,\n",
    "        y=smoothed(prices_food_growth['огурцы свежие, кг'],  datetime_index=True).values.ravel(),\n",
    "        mode='lines', line_color=palette[3], hoverinfo='skip',\n",
    "        name='Огурцы'))\n",
    "fig.add_trace(\n",
    "    go.Scatter(\n",
    "        x=prices_food_growth['огурцы свежие, кг'].index,\n",
    "        y=prices_food_growth['огурцы свежие, кг'],\n",
    "        marker=dict(opacity=0, size=6),\n",
    "        mode='markers', line_color=palette[3], showlegend=False,\n",
    "        name='Огурцы'))\n",
    "# помидоры\n",
    "fig.add_trace(\n",
    "    go.Scatter(\n",
    "        x=smoothed(prices_food_growth['помидоры свежие, кг'], datetime_index=True).index,\n",
    "        y=smoothed(prices_food_growth['помидоры свежие, кг'],  datetime_index=True).values.ravel(),\n",
    "        mode='lines', line_color=palette[1], hoverinfo='skip',\n",
    "        name='Помидоры'))\n",
    "fig.add_trace(\n",
    "    go.Scatter(\n",
    "        x=prices_food_growth['помидоры свежие, кг'].index,\n",
    "        y=prices_food_growth['помидоры свежие, кг'],\n",
    "        marker=dict(opacity=0, size=6),\n",
    "        mode='markers', line_color=palette[1], showlegend=False,\n",
    "        name='Помидоры'))\n",
    "# лук\n",
    "fig.add_trace(\n",
    "    go.Scatter(\n",
    "        x=smoothed(prices_food_growth['лук репчатый, кг'], datetime_index=True).index,\n",
    "        y=smoothed(prices_food_growth['лук репчатый, кг'],  datetime_index=True).values.ravel(),\n",
    "        mode='lines', line_color=palette[2], hoverinfo='skip',\n",
    "        name='Лук'))\n",
    "fig.add_trace(\n",
    "    go.Scatter(\n",
    "        x=prices_food_growth['лук репчатый, кг'].index,\n",
    "        y=prices_food_growth['лук репчатый, кг'],\n",
    "        marker=dict(opacity=0, size=6),\n",
    "        mode='markers', line_color=palette[2], showlegend=False,\n",
    "        name='Лук'))\n",
    "# морковь\n",
    "fig.add_trace(\n",
    "    go.Scatter(\n",
    "        x=smoothed(prices_food_growth['морковь, кг'], datetime_index=True).index,\n",
    "        y=smoothed(prices_food_growth['морковь, кг'],  datetime_index=True).values.ravel(),\n",
    "        mode='lines', line_color=palette[9], hoverinfo='skip',\n",
    "        name='Морковь'))\n",
    "fig.add_trace(\n",
    "    go.Scatter(\n",
    "        x=prices_food_growth['морковь, кг'].index,\n",
    "        y=prices_food_growth['морковь, кг'],\n",
    "        marker=dict(opacity=0, size=6),\n",
    "        mode='markers', line_color=palette[9], showlegend=False,\n",
    "        name='Морковь'))\n",
    "# овощи средняя цена\n",
    "fig.add_trace(\n",
    "    go.Scatter(\n",
    "        x=smoothed(prices_food_growth['овощи'], datetime_index=True).index,\n",
    "        y=smoothed(prices_food_growth['овощи'],  datetime_index=True).values.ravel(),\n",
    "        mode='lines', line_color=palette[-5], opacity=1, line_dash='5px', hoverinfo='skip',\n",
    "        name='Овощи (средняя цена производителей)'))\n",
    "fig.add_trace(\n",
    "    go.Scatter(\n",
    "        x=prices_food_growth['овощи'].index,\n",
    "        y=prices_food_growth['овощи'],\n",
    "        marker=dict(opacity=0, size=6),\n",
    "        mode='markers', line_color=palette[0], showlegend=False,\n",
    "        name='Овощи (средняя цена производителей)'))\n",
    "\n",
    "pl_hline(1)\n",
    "\n",
    "fig.update_xaxes(dtick='M3', tickformat=\"%b<br>%Y\", labelalias=xtickaliases)\n",
    "fig.update_yaxes(dtick=0.5)\n",
    "fig.update_layout(legend=dict(entrywidth=90, entrywidthmode='pixels'))\n",
    "\n",
    "fig.show(config=config)\n",
    "pl_savefig(figure=fig, name='prices-vegetables', path=path_img, config=config, fmt='html')"
   ]
  },
  {
   "cell_type": "markdown",
   "id": "c92f15bb-fc0e-4709-809b-504bcb6ee1d0",
   "metadata": {},
   "source": [
    "### Цена куриных яиц"
   ]
  },
  {
   "cell_type": "code",
   "execution_count": null,
   "id": "4513518a-725c-47a8-a01c-36971291a3ab",
   "metadata": {},
   "outputs": [],
   "source": [
    "fig = go.Figure(layout=dict(width=750, height=300))\n",
    "\n",
    "fig.add_trace(\n",
    "    go.Scatter(\n",
    "        x=smoothed(prices_food_growth['яйца куриные, 10 шт.'], datetime_index=True).index,\n",
    "        y=smoothed(prices_food_growth['яйца куриные, 10 шт.'],  datetime_index=True).values.ravel(),\n",
    "        mode='lines', line_color=palette[7], hoverinfo='skip',\n",
    "        name='Цены для потребителей'))\n",
    "fig.add_trace(\n",
    "    go.Scatter(\n",
    "        x=prices_food_growth['яйца куриные, 10 шт.'].index,\n",
    "        y=prices_food_growth['яйца куриные, 10 шт.'],\n",
    "        marker=dict(opacity=0, size=6),\n",
    "        mode='markers', line_color=palette[7], showlegend=False,\n",
    "        name='Цены для потребителей'))\n",
    "fig.add_trace(\n",
    "    go.Scatter(\n",
    "        x=smoothed(prices_food_growth['яйца куриные в скорлупе свежие'], datetime_index=True).index,\n",
    "        y=smoothed(prices_food_growth['яйца куриные в скорлупе свежие'],  datetime_index=True).values.ravel(),\n",
    "        mode='lines', line_color=palette[-5], opacity=1, line_dash='5px', hoverinfo='skip',\n",
    "        name='Цены производителей'))\n",
    "fig.add_trace(\n",
    "    go.Scatter(\n",
    "        x=prices_food_growth['яйца куриные в скорлупе свежие'].index,\n",
    "        y=prices_food_growth['яйца куриные в скорлупе свежие'],\n",
    "        marker=dict(opacity=0, size=6),\n",
    "        mode='markers', line_color=palette[0], showlegend=False,\n",
    "        name='Цены производителей'))\n",
    "\n",
    "pl_hline(1)\n",
    "\n",
    "fig.update_xaxes(dtick='M3', tickformat=\"%b<br>%Y\", labelalias=xtickaliases)\n",
    "fig.update_yaxes(dtick=0.1)\n",
    "\n",
    "fig.show(config=config)\n",
    "# pl_savefig(figure=fig, name='prices-eggs', path=path_img, config=config, fmt='html')"
   ]
  },
  {
   "cell_type": "markdown",
   "id": "0c59d280-185e-4cd1-a389-e9e5a6c6a5d3",
   "metadata": {},
   "source": [
    "## Дашборд"
   ]
  },
  {
   "cell_type": "code",
   "execution_count": 98,
   "id": "90b1413f-9fc7-4198-8a40-38485c6e3427",
   "metadata": {},
   "outputs": [
    {
     "data": {
      "text/html": [
       "\n",
       "        <iframe\n",
       "            width=\"100%\"\n",
       "            height=\"650\"\n",
       "            src=\"http://127.0.0.1:8050/\"\n",
       "            frameborder=\"0\"\n",
       "            allowfullscreen\n",
       "            \n",
       "        ></iframe>\n",
       "        "
      ],
      "text/plain": [
       "<IPython.lib.display.IFrame at 0x132708920>"
      ]
     },
     "metadata": {},
     "output_type": "display_data"
    }
   ],
   "source": [
    "df1 = smoothed(prices_food_growth, datetime_index=True)\n",
    "df2 = prices_food_growth.copy()\n",
    "\n",
    "app = Dash()\n",
    "\n",
    "app.layout = [\n",
    "    html.H1(children='Динамика цен на продукты питания', style={'textAlign':'left', 'font-family': 'Ubuntu'}),\n",
    "    dcc.Dropdown(df1.columns, 'овощи', id='dropdown-selection'),\n",
    "    dcc.Graph(id='graph-content', config=config)]\n",
    "\n",
    "@callback(\n",
    "    Output('graph-content', 'figure'),\n",
    "    Input('dropdown-selection', 'value'))\n",
    "\n",
    "def update_graph(value):\n",
    "    \n",
    "    df3 = df1[value]\n",
    "    df4 = df2[value]\n",
    "\n",
    "    fig = go.Figure(layout=dict(width=750, height=300))\n",
    "\n",
    "    fig.add_trace(\n",
    "        go.Scatter(\n",
    "            x=df3.index,\n",
    "            y=df3,\n",
    "            marker=dict(opacity=0, size=6),\n",
    "            mode='lines', line_color=palette[1], hoverinfo='skip',\n",
    "            name=value.capitalize()))\n",
    "\n",
    "    fig.add_trace(\n",
    "        go.Scatter(\n",
    "            x=df4.index,\n",
    "            y=df4,\n",
    "            marker=dict(opacity=0, size=6),\n",
    "            mode='markers', line_color=palette[1], showlegend=False,\n",
    "            name=value.capitalize()))\n",
    "\n",
    "    fig.update_xaxes(dtick='M3', tickformat=\"%b<br>%Y\", labelalias=xtickaliases)\n",
    "    fig.update_yaxes(dtick=0.1)\n",
    "    \n",
    "    return fig\n",
    "\n",
    "if __name__ == '__main__':\n",
    "    app.run(debug=True)"
   ]
  },
  {
   "cell_type": "code",
   "execution_count": null,
   "id": "cf856d71-e60c-4766-82d3-e82afbf52bc0",
   "metadata": {},
   "outputs": [],
   "source": []
  },
  {
   "cell_type": "code",
   "execution_count": null,
   "id": "db659273-b591-420e-9235-53ab168bdb24",
   "metadata": {},
   "outputs": [],
   "source": []
  },
  {
   "cell_type": "code",
   "execution_count": null,
   "id": "07312b5b-ef63-4a4c-b07e-622c2edcfbf4",
   "metadata": {},
   "outputs": [],
   "source": []
  },
  {
   "cell_type": "code",
   "execution_count": null,
   "id": "f718ae30-2a70-4225-b1f4-ed3da8e46bd7",
   "metadata": {},
   "outputs": [],
   "source": []
  },
  {
   "cell_type": "code",
   "execution_count": null,
   "id": "a58550c5-bf93-462e-a3f4-d83ca898d829",
   "metadata": {},
   "outputs": [],
   "source": []
  },
  {
   "cell_type": "markdown",
   "id": "59d95360-2222-4357-9641-97bcd98add48",
   "metadata": {},
   "source": [
    "### Execution time"
   ]
  },
  {
   "cell_type": "code",
   "execution_count": 27,
   "id": "ece216a4-0004-4c45-a137-83605c3a6305",
   "metadata": {},
   "outputs": [
    {
     "name": "stdout",
     "output_type": "stream",
     "text": [
      "Execution time: 0:00:02\n"
     ]
    }
   ],
   "source": [
    "stopwatch_stop(start)"
   ]
  }
 ],
 "metadata": {
  "kernelspec": {
   "display_name": "economy-rus",
   "language": "python",
   "name": "economy-rus"
  },
  "language_info": {
   "codemirror_mode": {
    "name": "ipython",
    "version": 3
   },
   "file_extension": ".py",
   "mimetype": "text/x-python",
   "name": "python",
   "nbconvert_exporter": "python",
   "pygments_lexer": "ipython3",
   "version": "3.12.3"
  }
 },
 "nbformat": 4,
 "nbformat_minor": 5
}
