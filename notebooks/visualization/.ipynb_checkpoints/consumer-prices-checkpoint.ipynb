{
 "cells": [
  {
   "cell_type": "code",
   "execution_count": null,
   "id": "f60444b8-12db-41be-8dc8-3273e1390436",
   "metadata": {},
   "outputs": [],
   "source": [
    "import numpy as np\n",
    "import pandas as pd\n",
    "import scipy\n",
    "import statsmodels\n",
    "import statsmodels.api as sm\n",
    "import statsmodels.stats.api as sms\n",
    "import statsmodels.formula.api as smf\n",
    "import plotly\n",
    "import plotly.io as pio\n",
    "import plotly.graph_objects as go\n",
    "import plotly.express as px\n",
    "import chart_studio.plotly as py\n",
    "import matplotlib as mpl\n",
    "import matplotlib.pyplot as plt\n",
    "import seaborn as sns\n",
    "import docx\n",
    "import datetime as dt\n",
    "import pickle\n",
    "import random\n",
    "import math\n",
    "import time\n",
    "import os\n",
    "import re\n",
    "import colorsys\n",
    "import arrow\n",
    "import locale\n",
    "import requests\n",
    "import collections\n",
    "import numbers\n",
    "import decimal\n",
    "\n",
    "from warnings import simplefilter\n",
    "\n",
    "from scipy import stats\n",
    "from scipy.interpolate import make_interp_spline, BSpline\n",
    "from sklearn import preprocessing\n",
    "from sklearn.preprocessing import MinMaxScaler\n",
    "from matplotlib.lines import Line2D\n",
    "import matplotlib.dates as mdates\n",
    "# from pathlib import Path"
   ]
  },
  {
   "cell_type": "code",
   "execution_count": null,
   "id": "2f6fbc66-a4fd-4141-b939-9359ddc99d6a",
   "metadata": {},
   "outputs": [],
   "source": [
    "path_current = os.getcwd()\n",
    "path_main = os.path.sep.join(path_current.split(os.path.sep)[:-2])"
   ]
  },
  {
   "cell_type": "code",
   "execution_count": null,
   "id": "e33fac2b-dd98-4088-8ad2-bf9201fefa24",
   "metadata": {},
   "outputs": [],
   "source": [
    "path_current"
   ]
  },
  {
   "cell_type": "code",
   "execution_count": null,
   "id": "fea8c8ad-2f90-45d0-8da9-00990dd1bf42",
   "metadata": {},
   "outputs": [],
   "source": [
    "path_main"
   ]
  },
  {
   "cell_type": "markdown",
   "id": "aed2721c-b30a-4adc-9635-8c946823e837",
   "metadata": {},
   "source": [
    "### To main directory"
   ]
  },
  {
   "cell_type": "code",
   "execution_count": null,
   "id": "7dd73736-f9f1-4dbe-bda0-ad97bb97cbf6",
   "metadata": {},
   "outputs": [],
   "source": [
    "# change directory to main path\n",
    "os.chdir(path_main)"
   ]
  },
  {
   "cell_type": "markdown",
   "id": "cdbbdd3a-7644-4725-9fba-bdbc8431c53b",
   "metadata": {},
   "source": [
    "### Load libraries, functions, palette, theme"
   ]
  },
  {
   "cell_type": "code",
   "execution_count": null,
   "id": "875a8f50-d2bf-4b15-8f8c-bdc0913d6033",
   "metadata": {},
   "outputs": [],
   "source": [
    "# load libraries and palette\n",
    "%run __theme.ipynb"
   ]
  },
  {
   "cell_type": "code",
   "execution_count": null,
   "id": "07623594-1404-4900-8760-57cbc4cadcbb",
   "metadata": {},
   "outputs": [],
   "source": [
    "# load functions\n",
    "# from __functions import *\n",
    "%run __functions.ipynb"
   ]
  },
  {
   "cell_type": "code",
   "execution_count": null,
   "id": "da6c70cf-8594-423a-a08f-c48be160041d",
   "metadata": {},
   "outputs": [],
   "source": [
    "# start stopwatch\n",
    "start = stopwatch_start()"
   ]
  },
  {
   "cell_type": "markdown",
   "id": "0489d9e6-5234-4e5a-845d-6b90887bfba8",
   "metadata": {},
   "source": [
    "### Variables"
   ]
  },
  {
   "cell_type": "code",
   "execution_count": null,
   "id": "88f78c3d-cce0-46cb-9960-78cdefb6b0ab",
   "metadata": {},
   "outputs": [],
   "source": [
    "path_img = path_main + '/docs/img/'"
   ]
  },
  {
   "cell_type": "code",
   "execution_count": null,
   "id": "e2cf6238-0e90-482b-82fd-e8558a512c47",
   "metadata": {},
   "outputs": [],
   "source": [
    "path_files = path_main + '/files'"
   ]
  },
  {
   "cell_type": "code",
   "execution_count": null,
   "id": "23980069-3e37-4871-96a6-0cefcdad7eae",
   "metadata": {},
   "outputs": [],
   "source": [
    "path_excel_csv = path_main + '/excel-csv'"
   ]
  },
  {
   "cell_type": "markdown",
   "id": "23352383-9300-4ad6-83e9-9c235b36975d",
   "metadata": {},
   "source": [
    "### Load Files"
   ]
  },
  {
   "cell_type": "code",
   "execution_count": null,
   "id": "3400b855-c10d-484f-8678-2c76e0e69f7f",
   "metadata": {},
   "outputs": [],
   "source": [
    "economics_data = loadit('economics_data', path=path_files, create_empty_dict=True)"
   ]
  },
  {
   "cell_type": "code",
   "execution_count": null,
   "id": "b75e246f-e2f2-4b66-a0b9-fb8d09bbe5b1",
   "metadata": {},
   "outputs": [],
   "source": [
    "prices_food_growth = economics_data['prices_food_growth']"
   ]
  },
  {
   "cell_type": "markdown",
   "id": "3ff4718d-8ca6-4189-b9ce-8250f0dcb93d",
   "metadata": {},
   "source": [
    "### Back to notebook directory"
   ]
  },
  {
   "cell_type": "code",
   "execution_count": null,
   "id": "3d785657-0853-4bb6-b124-e5a630701740",
   "metadata": {},
   "outputs": [],
   "source": [
    "# back to current path\n",
    "os.chdir(path_current)"
   ]
  },
  {
   "cell_type": "markdown",
   "id": "236454a0-089f-4bb2-a1c4-9afd314edf4a",
   "metadata": {},
   "source": [
    "# Динамика цен на продукты питания"
   ]
  },
  {
   "cell_type": "code",
   "execution_count": null,
   "id": "076df531-2de9-425d-b0d7-e8cb4b9046f8",
   "metadata": {},
   "outputs": [],
   "source": [
    "xtickaliases = pl_tickaliases(arange(2021, 2024, True))"
   ]
  },
  {
   "cell_type": "markdown",
   "id": "8a3973bf-a38d-4040-a13d-542dc3506627",
   "metadata": {},
   "source": [
    "### Цена хлеба"
   ]
  },
  {
   "cell_type": "code",
   "execution_count": null,
   "id": "69745d23-c86b-4668-a7bf-8887bcab0e17",
   "metadata": {},
   "outputs": [],
   "source": [
    "wheat = prices_food_growth['пшеница'].copy()"
   ]
  },
  {
   "cell_type": "code",
   "execution_count": null,
   "id": "eeb6ce38-99cb-48a7-9931-922a177f0420",
   "metadata": {},
   "outputs": [],
   "source": [
    "wheat_smoothed = smoothed(wheat, datetime_index=True)"
   ]
  },
  {
   "cell_type": "code",
   "execution_count": null,
   "id": "f39219c8-c2a9-4298-9609-9871e410f3ad",
   "metadata": {},
   "outputs": [],
   "source": [
    "bread = prices_food_growth['хлеб и булочные изделия из пшеничной муки различных сортов, кг'].copy()"
   ]
  },
  {
   "cell_type": "code",
   "execution_count": null,
   "id": "f64cf198-9fad-42f1-be9d-b6ad771315ee",
   "metadata": {},
   "outputs": [],
   "source": [
    "bread_smoothed = smoothed(bread, datetime_index=True)"
   ]
  },
  {
   "cell_type": "code",
   "execution_count": null,
   "id": "3fe347cc-9e61-4d77-a027-a3ccb2efe8ac",
   "metadata": {},
   "outputs": [],
   "source": [
    "fig = go.Figure(layout=dict(width=750, height=300))\n",
    "\n",
    "fig.add_trace(\n",
    "    go.Scatter(\n",
    "        x=wheat_smoothed.index,\n",
    "        y=wheat_smoothed.values.ravel(),\n",
    "        mode='lines', line_color=palette[-5], line_dash='5px',\n",
    "        hoverinfo='skip', name='Цена пшеницы'))\n",
    "fig.add_trace(\n",
    "    go.Scatter(\n",
    "        x=wheat.index,\n",
    "        y=wheat,\n",
    "        marker=dict(opacity=0, size=6),\n",
    "        mode='markers', line_color=palette[0],\n",
    "        showlegend=False, name='Цена пшеницы'))\n",
    "fig.add_trace(\n",
    "    go.Scatter(\n",
    "        x=bread_smoothed.index,\n",
    "        y=bread_smoothed.values.ravel(),\n",
    "        mode='lines', line_color=palette[6], hoverinfo='skip', name='Цена хлеба'))\n",
    "fig.add_trace(\n",
    "    go.Scatter(\n",
    "        x=bread.index,\n",
    "        y=bread,\n",
    "        marker=dict(opacity=0, size=6),\n",
    "        mode='markers', line_color=palette[6], name='Цена хлеба', showlegend=False))\n",
    "\n",
    "fig.update_xaxes(dtick='M3', tickformat=\"%b<br>%Y\", labelalias=xtickaliases)\n",
    "fig.update_yaxes(dtick=0.1)\n",
    "\n",
    "pl_hline(1)\n",
    "\n",
    "fig.show(config=config)"
   ]
  },
  {
   "cell_type": "markdown",
   "id": "3b3507fd-6354-41e4-9a6e-10a3bcc34047",
   "metadata": {},
   "source": [
    "### Цена говядины"
   ]
  },
  {
   "cell_type": "code",
   "execution_count": null,
   "id": "6f85e17d-0d64-45d0-b217-dd4c6f79d72f",
   "metadata": {},
   "outputs": [],
   "source": [
    "fig = go.Figure(layout=dict(width=750, height=300))\n",
    "\n",
    "fig.add_trace(\n",
    "    go.Scatter(\n",
    "        x=smoothed(prices_food_growth['крупный рогатый скот'], datetime_index=True).index,\n",
    "        y=smoothed(prices_food_growth['крупный рогатый скот'],  datetime_index=True).values.ravel(),\n",
    "        mode='lines', line_color=palette[-5], opacity=1, line_dash='5px', hoverinfo='skip',\n",
    "        name='Цена КРС'))\n",
    "fig.add_trace(\n",
    "    go.Scatter(\n",
    "        x=prices_food_growth['крупный рогатый скот'].index,\n",
    "        y=prices_food_growth['крупный рогатый скот'],\n",
    "        marker=dict(opacity=0, size=6),\n",
    "        mode='markers', line_color=palette[0], showlegend=False,\n",
    "        name='Цена КРС'))\n",
    "fig.add_trace(\n",
    "    go.Scatter(\n",
    "        x=smoothed(prices_food_growth['говядина (кроме бескостного мяса), кг'], datetime_index=True).index,\n",
    "        y=smoothed(prices_food_growth['говядина (кроме бескостного мяса), кг'],  datetime_index=True).values.ravel(),\n",
    "        mode='lines', line_color=palette[1], hoverinfo='skip',\n",
    "        name='Цена говядины'))\n",
    "fig.add_trace(\n",
    "    go.Scatter(\n",
    "        x=prices_food_growth['говядина (кроме бескостного мяса), кг'].index,\n",
    "        y=prices_food_growth['говядина (кроме бескостного мяса), кг'],\n",
    "        marker=dict(opacity=0, size=6),\n",
    "        mode='markers', line_color=palette[1], showlegend=False,\n",
    "        name='Цена говядины'))\n",
    "\n",
    "pl_hline(1)\n",
    "\n",
    "fig.update_xaxes(dtick='M3', tickformat=\"%b<br>%Y\", labelalias=xtickaliases)\n",
    "fig.update_yaxes(dtick=0.1)\n",
    "\n",
    "fig.show(config=config)"
   ]
  },
  {
   "cell_type": "markdown",
   "id": "e553270f-dcbc-48e7-8fbe-a2544b01771b",
   "metadata": {},
   "source": [
    "### Цена свинины"
   ]
  },
  {
   "cell_type": "code",
   "execution_count": null,
   "id": "5bb89336-06c8-4fb1-bc40-ef1bb6501f05",
   "metadata": {},
   "outputs": [],
   "source": [
    "fig = go.Figure(layout=dict(width=750, height=300))\n",
    "\n",
    "fig.add_trace(\n",
    "    go.Scatter(\n",
    "        x=smoothed(prices_food_growth['свиньи'], datetime_index=True).index,\n",
    "        y=smoothed(prices_food_growth['свиньи'],  datetime_index=True).values.ravel(),\n",
    "        mode='lines', line_color=palette[-5], opacity=1, line_dash='5px', hoverinfo='skip',\n",
    "        name='Цена свиней у производителей'))\n",
    "fig.add_trace(\n",
    "    go.Scatter(\n",
    "        x=prices_food_growth['свиньи'].index,\n",
    "        y=prices_food_growth['свиньи'],\n",
    "        marker=dict(opacity=0, size=6),\n",
    "        mode='markers', line_color=palette[0], showlegend=False,\n",
    "        name='Цена свиней у производителей',))\n",
    "fig.add_trace(\n",
    "    go.Scatter(\n",
    "        x=smoothed(prices_food_growth['свинина (кроме бескостного мяса), кг'], datetime_index=True).index,\n",
    "        y=smoothed(prices_food_growth['свинина (кроме бескостного мяса), кг'],  datetime_index=True).values.ravel(),\n",
    "        mode='lines', line_color=palette[8], hoverinfo='skip',\n",
    "        name='Цена свинины'))\n",
    "fig.add_trace(\n",
    "    go.Scatter(\n",
    "        x=prices_food_growth['свинина (кроме бескостного мяса), кг'].index,\n",
    "        y=prices_food_growth['свинина (кроме бескостного мяса), кг'],\n",
    "        marker=dict(opacity=0, size=6),\n",
    "        mode='markers', line_color=palette[8], showlegend=False,\n",
    "        name='Цена свинины'))\n",
    "\n",
    "pl_hline(1)\n",
    "\n",
    "fig.update_xaxes(dtick='M3', tickformat=\"%b<br>%Y\", labelalias=xtickaliases)\n",
    "fig.update_yaxes(dtick=0.1)\n",
    "\n",
    "fig.show(config=config)"
   ]
  },
  {
   "cell_type": "markdown",
   "id": "5ae5fd12-23ba-4480-885b-6473d09bfe3d",
   "metadata": {},
   "source": [
    "### Цена курицы"
   ]
  },
  {
   "cell_type": "code",
   "execution_count": null,
   "id": "dc4601d8-8c42-41a1-8892-df69639c5617",
   "metadata": {},
   "outputs": [],
   "source": [
    "fig = go.Figure(layout=dict(width=750, height=300))\n",
    "\n",
    "fig.add_trace(\n",
    "    go.Scatter(\n",
    "        x=smoothed(prices_food_growth['птица сельскохозяйственная живая'], datetime_index=True).index,\n",
    "        y=smoothed(prices_food_growth['птица сельскохозяйственная живая'],  datetime_index=True).values.ravel(),\n",
    "        mode='lines', line_color=palette[-5], opacity=1, line_dash='5px', hoverinfo='skip',\n",
    "        name='Цена птицы у производителей'))\n",
    "fig.add_trace(\n",
    "    go.Scatter(\n",
    "        x=prices_food_growth['птица сельскохозяйственная живая'].index,\n",
    "        y=prices_food_growth['птица сельскохозяйственная живая'],\n",
    "        marker=dict(opacity=0, size=6),\n",
    "        mode='markers', line_color=palette[0], showlegend=False,\n",
    "        name='Цена птицы у производителей'))\n",
    "fig.add_trace(\n",
    "    go.Scatter(\n",
    "        x=smoothed(prices_food_growth['куры охлажденные и мороженые, кг'], datetime_index=True).index,\n",
    "        y=smoothed(prices_food_growth['куры охлажденные и мороженые, кг'],  datetime_index=True).values.ravel(),\n",
    "        mode='lines', line_color=palette[7], hoverinfo='skip',\n",
    "        name='Цена курицы'))\n",
    "fig.add_trace(\n",
    "    go.Scatter(\n",
    "        x=prices_food_growth['куры охлажденные и мороженые, кг'].index,\n",
    "        y=prices_food_growth['куры охлажденные и мороженые, кг'],\n",
    "        marker=dict(opacity=0, size=6),\n",
    "        mode='markers', line_color=palette[7], showlegend=False,\n",
    "        name='Цена курицы'))\n",
    "\n",
    "pl_hline(1)\n",
    "\n",
    "fig.update_xaxes(dtick='M3', tickformat=\"%b<br>%Y\", labelalias=xtickaliases)\n",
    "fig.update_yaxes(dtick=0.1)\n",
    "\n",
    "fig.show(config=config)"
   ]
  },
  {
   "cell_type": "markdown",
   "id": "164dbbb1-5f86-4e09-95de-52fde13737ab",
   "metadata": {},
   "source": [
    "### Цена молочных продуктов"
   ]
  },
  {
   "cell_type": "code",
   "execution_count": null,
   "id": "ac183b84-c5e3-4d60-ba1b-effcde6badd9",
   "metadata": {},
   "outputs": [],
   "source": [
    "fig = go.Figure(layout=dict(width=750, height=320))\n",
    "\n",
    "# сырое молоко\n",
    "fig.add_trace(\n",
    "    go.Scatter(\n",
    "        x=smoothed(prices_food_growth['молоко сырое крупного рогатого скота'], datetime_index=True).index,\n",
    "        y=smoothed(prices_food_growth['молоко сырое крупного рогатого скота'],  datetime_index=True).values.ravel(),\n",
    "        mode='lines', line_color=palette[-5], opacity=1, line_dash='5px', hoverinfo='skip', name='Сырое молоко',))\n",
    "fig.add_trace(\n",
    "    go.Scatter(\n",
    "        x=prices_food_growth['молоко сырое крупного рогатого скота'].index,\n",
    "        y=prices_food_growth['молоко сырое крупного рогатого скота'],\n",
    "        marker=dict(opacity=0, size=6),\n",
    "        mode='markers', line_color=palette[0], showlegend=False, name='Сырое молоко',))\n",
    "# сыр\n",
    "fig.add_trace(\n",
    "    go.Scatter(\n",
    "        x=smoothed(prices_food_growth['сыры твердые, полутвердые и мягкие, кг'], datetime_index=True).index,\n",
    "        y=smoothed(prices_food_growth['сыры твердые, полутвердые и мягкие, кг'],  datetime_index=True).values.ravel(),\n",
    "        mode='lines', line_color=palette[2], hoverinfo='skip', name='Сыр'))\n",
    "fig.add_trace(\n",
    "    go.Scatter(\n",
    "        x=prices_food_growth['сыры твердые, полутвердые и мягкие, кг'].index,\n",
    "        y=prices_food_growth['сыры твердые, полутвердые и мягкие, кг'],\n",
    "        marker=dict(opacity=0, size=6),\n",
    "        mode='markers', line_color=palette[2], showlegend=False, name='Сыр'))\n",
    "# сметана\n",
    "fig.add_trace(\n",
    "    go.Scatter(\n",
    "        x=smoothed(prices_food_growth['сметана, кг'], datetime_index=True).index,\n",
    "        y=smoothed(prices_food_growth['сметана, кг'],  datetime_index=True).values.ravel(),\n",
    "        mode='lines', line_color=palette[3], hoverinfo='skip', name='Сметана'))\n",
    "fig.add_trace(\n",
    "    go.Scatter(\n",
    "        x=prices_food_growth['сметана, кг'].index,\n",
    "        y=prices_food_growth['сметана, кг'],\n",
    "        marker=dict(opacity=0, size=6),\n",
    "        mode='markers', line_color=palette[3], showlegend=False, name='Сметана'))\n",
    "# йогурт\n",
    "fig.add_trace(\n",
    "    go.Scatter(\n",
    "        x=smoothed(prices_food_growth['йогурт, кг'], datetime_index=True).index,\n",
    "        y=smoothed(prices_food_growth['йогурт, кг'],  datetime_index=True).values.ravel(),\n",
    "        mode='lines', line_color=palette[4], hoverinfo='skip', name='Йогрут'))\n",
    "fig.add_trace(\n",
    "    go.Scatter(\n",
    "        x=prices_food_growth['йогурт, кг'].index,\n",
    "        y=prices_food_growth['йогурт, кг'],\n",
    "        marker=dict(opacity=0, size=6),\n",
    "        mode='markers', line_color=palette[4], showlegend=False, name='Йогрут'))\n",
    "# масло\n",
    "fig.add_trace(\n",
    "    go.Scatter(\n",
    "        x=smoothed(prices_food_growth['масло сливочное, кг'], datetime_index=True).index,\n",
    "        y=smoothed(prices_food_growth['масло сливочное, кг'],  datetime_index=True).values.ravel(),\n",
    "        mode='lines', line_color=palette[1], hoverinfo='skip', name='Масло сливочное'))\n",
    "fig.add_trace(\n",
    "    go.Scatter(\n",
    "        x=prices_food_growth['масло сливочное, кг'].index,\n",
    "        y=prices_food_growth['масло сливочное, кг'],\n",
    "        marker=dict(opacity=0, size=6),\n",
    "        mode='markers', line_color=palette[1], showlegend=False, name='Масло сливочное'))\n",
    "# творог\n",
    "fig.add_trace(\n",
    "    go.Scatter(\n",
    "        x=smoothed(prices_food_growth['творог, кг'], datetime_index=True).index,\n",
    "        y=smoothed(prices_food_growth['творог, кг'],  datetime_index=True).values.ravel(),\n",
    "        mode='lines', line_color=palette[7], hoverinfo='skip', name='Творог'))\n",
    "fig.add_trace(\n",
    "    go.Scatter(\n",
    "        x=prices_food_growth['творог, кг'].index,\n",
    "        y=prices_food_growth['творог, кг'],\n",
    "        marker=dict(opacity=0, size=6),\n",
    "        mode='markers', line_color=palette[7], showlegend=False, name='Творог'))\n",
    "# молоко пастеризованное\n",
    "fig.add_trace(\n",
    "    go.Scatter(\n",
    "        x=smoothed(prices_food_growth['молоко питьевое цельное пастеризованное 2,5-3,2% жирности, л'], datetime_index=True).index,\n",
    "        y=smoothed(prices_food_growth['молоко питьевое цельное пастеризованное 2,5-3,2% жирности, л'],  datetime_index=True).values.ravel(),\n",
    "        mode='lines', line_color=alpha_color(palette[0], 0.75, return_type='HEX'), hoverinfo='skip', name='Пастеризованное молоко'))\n",
    "fig.add_trace(\n",
    "    go.Scatter(\n",
    "        x=prices_food_growth['молоко питьевое цельное пастеризованное 2,5-3,2% жирности, л'].index,\n",
    "        y=prices_food_growth['молоко питьевое цельное пастеризованное 2,5-3,2% жирности, л'],\n",
    "        marker=dict(opacity=0, size=6),\n",
    "        mode='markers', line_color=palette[0], showlegend=False, name='Пастеризованное молоко'))\n",
    "\n",
    "pl_hline(1)\n",
    "\n",
    "fig.update_xaxes(dtick='M3', tickformat=\"%b<br>%Y\", labelalias=xtickaliases)\n",
    "fig.update_yaxes(dtick=0.1)\n",
    "fig.update_layout(legend=dict(entrywidth=90, entrywidthmode='pixels'))\n",
    "\n",
    "fig.show(config=config)"
   ]
  },
  {
   "cell_type": "markdown",
   "id": "0fe376b9-594d-4e3f-abdb-47f1eab8f13b",
   "metadata": {},
   "source": [
    "### Цена овощей"
   ]
  },
  {
   "cell_type": "code",
   "execution_count": null,
   "id": "405f14c6-54ed-4ff3-a3a1-4696da43af35",
   "metadata": {},
   "outputs": [],
   "source": [
    "fig = go.Figure(layout=dict(width=750, height=320))\n",
    "\n",
    "# картофель\n",
    "fig.add_trace(\n",
    "    go.Scatter(\n",
    "        x=smoothed(prices_food_growth['картофель, кг'], datetime_index=True).index,\n",
    "        y=smoothed(prices_food_growth['картофель, кг'],  datetime_index=True).values.ravel(),\n",
    "        mode='lines', line_color=palette[5], hoverinfo='skip',\n",
    "        name='Картофель'))\n",
    "fig.add_trace(\n",
    "    go.Scatter(\n",
    "        x=prices_food_growth['картофель, кг'].index,\n",
    "        y=prices_food_growth['картофель, кг'],\n",
    "        marker=dict(opacity=0, size=6),\n",
    "        mode='markers', line_color=palette[5], showlegend=False,\n",
    "        name='Картофель'))\n",
    "# огурцы\n",
    "fig.add_trace(\n",
    "    go.Scatter(\n",
    "        x=smoothed(prices_food_growth['огурцы свежие, кг'], datetime_index=True).index,\n",
    "        y=smoothed(prices_food_growth['огурцы свежие, кг'],  datetime_index=True).values.ravel(),\n",
    "        mode='lines', line_color=palette[3], hoverinfo='skip',\n",
    "        name='Огурцы'))\n",
    "fig.add_trace(\n",
    "    go.Scatter(\n",
    "        x=prices_food_growth['огурцы свежие, кг'].index,\n",
    "        y=prices_food_growth['огурцы свежие, кг'],\n",
    "        marker=dict(opacity=0, size=6),\n",
    "        mode='markers', line_color=palette[3], showlegend=False,\n",
    "        name='Огурцы'))\n",
    "# помидоры\n",
    "fig.add_trace(\n",
    "    go.Scatter(\n",
    "        x=smoothed(prices_food_growth['помидоры свежие, кг'], datetime_index=True).index,\n",
    "        y=smoothed(prices_food_growth['помидоры свежие, кг'],  datetime_index=True).values.ravel(),\n",
    "        mode='lines', line_color=palette[1], hoverinfo='skip',\n",
    "        name='Помидоры'))\n",
    "fig.add_trace(\n",
    "    go.Scatter(\n",
    "        x=prices_food_growth['помидоры свежие, кг'].index,\n",
    "        y=prices_food_growth['помидоры свежие, кг'],\n",
    "        marker=dict(opacity=0, size=6),\n",
    "        mode='markers', line_color=palette[1], showlegend=False,\n",
    "        name='Помидоры'))\n",
    "# лук\n",
    "fig.add_trace(\n",
    "    go.Scatter(\n",
    "        x=smoothed(prices_food_growth['лук репчатый, кг'], datetime_index=True).index,\n",
    "        y=smoothed(prices_food_growth['лук репчатый, кг'],  datetime_index=True).values.ravel(),\n",
    "        mode='lines', line_color=palette[2], hoverinfo='skip',\n",
    "        name='Лук'))\n",
    "fig.add_trace(\n",
    "    go.Scatter(\n",
    "        x=prices_food_growth['лук репчатый, кг'].index,\n",
    "        y=prices_food_growth['лук репчатый, кг'],\n",
    "        marker=dict(opacity=0, size=6),\n",
    "        mode='markers', line_color=palette[2], showlegend=False,\n",
    "        name='Лук'))\n",
    "# морковь\n",
    "fig.add_trace(\n",
    "    go.Scatter(\n",
    "        x=smoothed(prices_food_growth['морковь, кг'], datetime_index=True).index,\n",
    "        y=smoothed(prices_food_growth['морковь, кг'],  datetime_index=True).values.ravel(),\n",
    "        mode='lines', line_color=palette[9], hoverinfo='skip',\n",
    "        name='Морковь'))\n",
    "fig.add_trace(\n",
    "    go.Scatter(\n",
    "        x=prices_food_growth['морковь, кг'].index,\n",
    "        y=prices_food_growth['морковь, кг'],\n",
    "        marker=dict(opacity=0, size=6),\n",
    "        mode='markers', line_color=palette[9], showlegend=False,\n",
    "        name='Морковь'))\n",
    "# овощи средняя цена\n",
    "fig.add_trace(\n",
    "    go.Scatter(\n",
    "        x=smoothed(prices_food_growth['овощи'], datetime_index=True).index,\n",
    "        y=smoothed(prices_food_growth['овощи'],  datetime_index=True).values.ravel(),\n",
    "        mode='lines', line_color=palette[-5], opacity=1, line_dash='5px', hoverinfo='skip',\n",
    "        name='Овощи (средняя цена производителей)'))\n",
    "fig.add_trace(\n",
    "    go.Scatter(\n",
    "        x=prices_food_growth['овощи'].index,\n",
    "        y=prices_food_growth['овощи'],\n",
    "        marker=dict(opacity=0, size=6),\n",
    "        mode='markers', line_color=palette[0], showlegend=False,\n",
    "        name='Овощи (средняя цена производителей)'))\n",
    "\n",
    "pl_hline(1)\n",
    "\n",
    "fig.update_xaxes(dtick='M3', tickformat=\"%b<br>%Y\", labelalias=xtickaliases)\n",
    "fig.update_yaxes(dtick=0.5)\n",
    "fig.update_layout(legend=dict(entrywidth=90, entrywidthmode='pixels'))\n",
    "\n",
    "fig.show(config=config)"
   ]
  },
  {
   "cell_type": "markdown",
   "id": "c92f15bb-fc0e-4709-809b-504bcb6ee1d0",
   "metadata": {},
   "source": [
    "### Цена куриных яиц"
   ]
  },
  {
   "cell_type": "code",
   "execution_count": null,
   "id": "4513518a-725c-47a8-a01c-36971291a3ab",
   "metadata": {},
   "outputs": [],
   "source": [
    "fig = go.Figure(layout=dict(width=750, height=300))\n",
    "\n",
    "fig.add_trace(\n",
    "    go.Scatter(\n",
    "        x=smoothed(prices_food_growth['яйца куриные, 10 шт.'], datetime_index=True).index,\n",
    "        y=smoothed(prices_food_growth['яйца куриные, 10 шт.'],  datetime_index=True).values.ravel(),\n",
    "        mode='lines', line_color=palette[7], hoverinfo='skip',\n",
    "        name='Цены для потребителей'))\n",
    "fig.add_trace(\n",
    "    go.Scatter(\n",
    "        x=prices_food_growth['яйца куриные, 10 шт.'].index,\n",
    "        y=prices_food_growth['яйца куриные, 10 шт.'],\n",
    "        marker=dict(opacity=0, size=6),\n",
    "        mode='markers', line_color=palette[7], showlegend=False,\n",
    "        name='Цены для потребителей'))\n",
    "fig.add_trace(\n",
    "    go.Scatter(\n",
    "        x=smoothed(prices_food_growth['яйца куриные в скорлупе свежие'], datetime_index=True).index,\n",
    "        y=smoothed(prices_food_growth['яйца куриные в скорлупе свежие'],  datetime_index=True).values.ravel(),\n",
    "        mode='lines', line_color=palette[-5], opacity=1, line_dash='5px', hoverinfo='skip',\n",
    "        name='Цены производителей'))\n",
    "fig.add_trace(\n",
    "    go.Scatter(\n",
    "        x=prices_food_growth['яйца куриные в скорлупе свежие'].index,\n",
    "        y=prices_food_growth['яйца куриные в скорлупе свежие'],\n",
    "        marker=dict(opacity=0, size=6),\n",
    "        mode='markers', line_color=palette[0], showlegend=False,\n",
    "        name='Цены производителей'))\n",
    "\n",
    "pl_hline(1)\n",
    "\n",
    "fig.update_xaxes(dtick='M3', tickformat=\"%b<br>%Y\", labelalias=xtickaliases)\n",
    "fig.update_yaxes(dtick=0.1)\n",
    "\n",
    "fig.show(config=config)\n",
    "# pl_savefig(figure=fig, name='prices-eggs', path=path_img, config=config, fmt='html')"
   ]
  },
  {
   "cell_type": "code",
   "execution_count": null,
   "id": "ef36d3e3-6f42-4086-a70a-c4eef86a564b",
   "metadata": {},
   "outputs": [],
   "source": []
  },
  {
   "cell_type": "code",
   "execution_count": null,
   "id": "5699595a-4a58-4228-8501-e9e9430c1ed2",
   "metadata": {},
   "outputs": [],
   "source": []
  },
  {
   "cell_type": "code",
   "execution_count": null,
   "id": "544f04e1-fc05-43f6-a59e-4ed12e69fc75",
   "metadata": {},
   "outputs": [],
   "source": []
  },
  {
   "cell_type": "code",
   "execution_count": null,
   "id": "7ea9ee25-9f14-4ea9-951a-55e1a7eb9a6f",
   "metadata": {},
   "outputs": [],
   "source": []
  },
  {
   "cell_type": "code",
   "execution_count": null,
   "id": "eade46fb-4284-432f-a642-48b5b771cca1",
   "metadata": {},
   "outputs": [],
   "source": []
  },
  {
   "cell_type": "markdown",
   "id": "59d95360-2222-4357-9641-97bcd98add48",
   "metadata": {},
   "source": [
    "### Execution time"
   ]
  },
  {
   "cell_type": "code",
   "execution_count": null,
   "id": "ece216a4-0004-4c45-a137-83605c3a6305",
   "metadata": {},
   "outputs": [],
   "source": [
    "stopwatch_stop(start)"
   ]
  }
 ],
 "metadata": {
  "kernelspec": {
   "display_name": "economy-rus",
   "language": "python",
   "name": "economy-rus"
  },
  "language_info": {
   "codemirror_mode": {
    "name": "ipython",
    "version": 3
   },
   "file_extension": ".py",
   "mimetype": "text/x-python",
   "name": "python",
   "nbconvert_exporter": "python",
   "pygments_lexer": "ipython3",
   "version": "3.12.3"
  }
 },
 "nbformat": 4,
 "nbformat_minor": 5
}
