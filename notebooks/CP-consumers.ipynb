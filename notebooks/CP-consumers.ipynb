{
 "cells": [
  {
   "cell_type": "code",
   "execution_count": null,
   "id": "b0d2da77-83d1-4b79-90ab-7f283b371403",
   "metadata": {},
   "outputs": [],
   "source": [
    "import os\n",
    "from pathlib import Path"
   ]
  },
  {
   "cell_type": "code",
   "execution_count": null,
   "id": "2316d4ee-0659-41bd-810c-fa8bb03b4e36",
   "metadata": {},
   "outputs": [],
   "source": [
    "path_current = os.getcwd()\n",
    "path_main = str(Path(path_current).parent)"
   ]
  },
  {
   "cell_type": "markdown",
   "id": "d861e97f-267b-4c19-a432-bd68288c29fa",
   "metadata": {},
   "source": [
    "### To main directory"
   ]
  },
  {
   "cell_type": "code",
   "execution_count": null,
   "id": "17fbe07e-b87c-42b8-8a63-0c5bdabf8140",
   "metadata": {},
   "outputs": [],
   "source": [
    "# change directory to main path\n",
    "os.chdir(path_main)"
   ]
  },
  {
   "cell_type": "markdown",
   "id": "8de89b6b-5506-4ce5-ab16-672fe3c8a88b",
   "metadata": {},
   "source": [
    "### Load libraries, functions, palette, theme"
   ]
  },
  {
   "cell_type": "code",
   "execution_count": null,
   "id": "580a96a2-5ed7-42e5-b17a-fda6012dd26a",
   "metadata": {},
   "outputs": [],
   "source": [
    "# load libraries and palette\n",
    "%run __libraries.ipynb"
   ]
  },
  {
   "cell_type": "code",
   "execution_count": null,
   "id": "2fa59a70-d601-4cd7-aa8d-48a5c45fb2aa",
   "metadata": {},
   "outputs": [],
   "source": [
    "# load functions\n",
    "%run __functions.ipynb"
   ]
  },
  {
   "cell_type": "code",
   "execution_count": null,
   "id": "09977c21-9064-4933-9d5e-c04c032fffda",
   "metadata": {},
   "outputs": [],
   "source": [
    "# load regions data\n",
    "path_regions_data = path_main + '/files'\n",
    "path_change(path_regions_data)\n",
    "\n",
    "%run regions_data.ipynb"
   ]
  },
  {
   "cell_type": "code",
   "execution_count": null,
   "id": "543b5662-a16a-40b3-923a-82de9030385e",
   "metadata": {},
   "outputs": [],
   "source": [
    "# start stopwatch\n",
    "start = stopwatch_start()"
   ]
  },
  {
   "cell_type": "markdown",
   "id": "6c022df5-793e-4359-801e-d814f0f16427",
   "metadata": {},
   "source": [
    "### Variables"
   ]
  },
  {
   "cell_type": "raw",
   "id": "44bb1674-bace-4d7e-8a24-167b8961b9cb",
   "metadata": {},
   "source": [
    "notebook_name = 'CP-consumers'"
   ]
  },
  {
   "cell_type": "code",
   "execution_count": null,
   "id": "85784e98-232d-4e77-9470-06ca92c43717",
   "metadata": {},
   "outputs": [],
   "source": [
    "path_files = path_main + '/files'"
   ]
  },
  {
   "cell_type": "code",
   "execution_count": null,
   "id": "977fd4b1-ee00-4c64-b926-4c4af5fe6fd9",
   "metadata": {},
   "outputs": [],
   "source": [
    "path_excel_csv = path_main + '/excel-csv'"
   ]
  },
  {
   "cell_type": "markdown",
   "id": "f0c9ef2f-ff66-45a5-be7a-502b57921b97",
   "metadata": {},
   "source": [
    "### Load Files"
   ]
  },
  {
   "cell_type": "code",
   "execution_count": null,
   "id": "3400b855-c10d-484f-8678-2c76e0e69f7f",
   "metadata": {},
   "outputs": [],
   "source": [
    "economics_data = loadit('economics_data', path=path_files, create_empty_dict=True)"
   ]
  },
  {
   "cell_type": "code",
   "execution_count": null,
   "id": "fc8d3e48-5d97-44b3-882b-d61e933fdd1e",
   "metadata": {},
   "outputs": [],
   "source": [
    "prices_2021 = economics_data['prices_2021'] \\\n",
    "                if 'prices_2021' in economics_data.keys() else None"
   ]
  },
  {
   "cell_type": "markdown",
   "id": "8bd3eb97-29c1-4ef9-bbdc-22533dad54c2",
   "metadata": {},
   "source": [
    "### Back to notebook directory"
   ]
  },
  {
   "cell_type": "code",
   "execution_count": null,
   "id": "e5555a41-1f1d-4983-93e0-29f2c16ef880",
   "metadata": {},
   "outputs": [],
   "source": [
    "# back to current path\n",
    "os.chdir(path_current)"
   ]
  },
  {
   "cell_type": "markdown",
   "id": "2a49c3d7-7839-4d4e-8cfa-ade641a55644",
   "metadata": {},
   "source": [
    "# <font color='#2C8B6D'>II. Цены, инфляция</font>"
   ]
  },
  {
   "cell_type": "markdown",
   "id": "d9ac40c1-1de2-42b6-8f86-b6e4f96c0f10",
   "metadata": {},
   "source": [
    "# Section I. Потребительские цены"
   ]
  },
  {
   "cell_type": "markdown",
   "id": "13ccc087-516f-463f-8698-241362acce3e",
   "metadata": {},
   "source": [
    "## Средние потребительские цены"
   ]
  },
  {
   "cell_type": "markdown",
   "id": "b6d4d0ba-7180-44f7-a572-4e873e972635",
   "metadata": {},
   "source": [
    "### Средние потребительские цены на отдельные виды товаров и услуг по Российской Федерации, федеральным округам, субъектам Российской Федерации и обследуемым городам (в 2021 г.)"
   ]
  },
  {
   "cell_type": "code",
   "execution_count": null,
   "id": "e9c9d6cd-93f2-4031-98c5-cda8819c5306",
   "metadata": {},
   "outputs": [],
   "source": [
    "if prices_2021 is None:\n",
    "    %run CP-consumers-2021.ipynb"
   ]
  },
  {
   "cell_type": "markdown",
   "id": "8bbaf12d-cd5b-4243-9546-2835708ddeea",
   "metadata": {},
   "source": [
    "### 9.2. Средние потребительские цены на отдельные виды товаров и услуг по Российской Федерации, федеральным округам, субъектам Российской Федерации и обследуемым городам (в 2022 г.)"
   ]
  },
  {
   "cell_type": "markdown",
   "id": "36349a45-d0b3-4db1-923e-1a2bccebd41f",
   "metadata": {},
   "source": [
    "### 9.3. Средние потребительские цены на отдельные виды товаров и услуг по Российской Федерации, федеральным округам, субъектам Российской Федерации и обследуемым городам (в 2023 г.)"
   ]
  },
  {
   "cell_type": "markdown",
   "id": "10bb3195-210d-45ec-b1d5-bd4078bcd727",
   "metadata": {},
   "source": [
    "*Источник: https://rosstat.gov.ru/storage/mediabank/sred_potreb_cen_10-2023.xlsx*  \n",
    "*Единицы измерения: *\n",
    "\n",
    "*Примечания:*  "
   ]
  },
  {
   "cell_type": "raw",
   "id": "a573d059-9720-43fe-81a6-cd60e5994ee8",
   "metadata": {},
   "source": [
    "prices_2023_link = \\\n",
    "    ('data/03-Prices-Inflation/01-Consumers/'\n",
    "     'sred_potreb_cen_10-2023.xlsx')"
   ]
  },
  {
   "cell_type": "raw",
   "id": "fc06e11e-a3e1-4330-8181-f3f7bbdf15fe",
   "metadata": {},
   "source": [
    "prices_2023_link = \\\n",
    "    'https://rosstat.gov.ru/storage/mediabank/sred_potreb_cen_10-2023.xlsx'"
   ]
  },
  {
   "cell_type": "raw",
   "id": "3c3a3753-cd92-49f6-86b9-a93ff9e88f25",
   "metadata": {},
   "source": [
    "# define link, that content actual months of Rosstat data\n",
    "# for every month we check if link exist and take the last month exist link\n",
    "for i in range(1,13):\n",
    "    link = f'https://rosstat.gov.ru/storage/mediabank/sred_potreb_cen_' + str(i).zfill(2) + '-2023.xlsx'\n",
    "    link_next = f'https://rosstat.gov.ru/storage/mediabank/sred_potreb_cen_' + str(i+1).zfill(2) + '-2023.xlsx'\n",
    "    response = requests.get(link)\n",
    "    response_next = requests.get(link_next)\n",
    "    condition = ((response.status_code == 200) & (response_next.status_code == 404))\n",
    "    if condition:\n",
    "        prices_2023_link = link"
   ]
  },
  {
   "cell_type": "markdown",
   "id": "c0c3933d-79ab-45a5-b16a-461e8e90039b",
   "metadata": {},
   "source": [
    "#### 2024 year link formula"
   ]
  },
  {
   "cell_type": "code",
   "execution_count": null,
   "id": "91515448-8fbb-4ea0-ba51-acc8bb9bca25",
   "metadata": {},
   "outputs": [],
   "source": [
    "for i in range(1,13):\n",
    "    link = f'https://rosstat.gov.ru/storage/mediabank/sred_potreb_cen_{str(i).zfill(2)}-2024.xlsx'\n",
    "    link_next = f'https://rosstat.gov.ru/storage/mediabank/sred_potreb_cen_{str(i+1).zfill(2)}-2024.xlsx'\n",
    "    response = requests.get(link)\n",
    "    response_next = requests.get(link_next)\n",
    "    condition = ((response.status_code == 200) & (response_next.status_code == 404))\n",
    "    if condition:\n",
    "        pci_counsumers_link = link"
   ]
  },
  {
   "cell_type": "code",
   "execution_count": null,
   "id": "04416b9a-33ea-49ae-a40a-7036bbf5d095",
   "metadata": {},
   "outputs": [],
   "source": [
    "pci_counsumers_link"
   ]
  },
  {
   "cell_type": "markdown",
   "id": "26e234d7-aae1-42ea-a02e-f5a33fd1a08d",
   "metadata": {},
   "source": [
    "##### Extract Data "
   ]
  },
  {
   "cell_type": "raw",
   "id": "69117ad7-6548-4504-9c68-f92dce7f5584",
   "metadata": {},
   "source": [
    "# create list with sheets names\n",
    "prices_2023_sheets_list = []\n",
    "for i in range(2022, 2024):\n",
    "    for j in range(1, 13):\n",
    "        prices_2023_sheets_list.append(str(j).zfill(2) + '(' + str(i) + ')')"
   ]
  },
  {
   "cell_type": "raw",
   "id": "c8185b98-4010-4635-8005-3e1e0b974b66",
   "metadata": {},
   "source": [
    "print(prices_2023_sheets_list)"
   ]
  },
  {
   "cell_type": "code",
   "execution_count": null,
   "id": "e692425f-ab75-4329-938b-d63de6cdadc3",
   "metadata": {},
   "outputs": [],
   "source": [
    "# read excel file\n",
    "prices_2022_2023_data = pd.ExcelFile(pci_counsumers_link)"
   ]
  },
  {
   "cell_type": "code",
   "execution_count": null,
   "id": "5330b295-7cbe-4eb1-b9ea-6d47701a1b42",
   "metadata": {},
   "outputs": [],
   "source": [
    "# assign sheet names\n",
    "prices_2022_2023_data_sheets = prices_2022_2023_data.sheet_names"
   ]
  },
  {
   "cell_type": "code",
   "execution_count": null,
   "id": "197ef3e1-657a-45d9-ab77-8ebe9b80323e",
   "metadata": {},
   "outputs": [],
   "source": [
    "# remove 'Содержание'\n",
    "prices_2022_2023_data_sheets = prices_2022_2023_data_sheets[1:]"
   ]
  },
  {
   "cell_type": "code",
   "execution_count": null,
   "id": "91063963-748e-4952-b00d-9c8c3ab914ff",
   "metadata": {},
   "outputs": [],
   "source": [
    "print(prices_2022_2023_data_sheets)"
   ]
  },
  {
   "cell_type": "code",
   "execution_count": null,
   "id": "6eccd2ae-a3c7-4651-8e78-69b327fd61d8",
   "metadata": {},
   "outputs": [],
   "source": [
    "prices_2022_2023_raw_dict = {}\n",
    "for sheet in prices_2022_2023_data_sheets:\n",
    "    prices_2022_2023_raw_dict['prices_'+ sheet[:2] + '_' + sheet[3:7]] = \\\n",
    "        prices_2022_2023_data.parse(sheet)"
   ]
  },
  {
   "cell_type": "code",
   "execution_count": null,
   "id": "20ae0a60-147d-4bdb-a263-27cfdd51fd6d",
   "metadata": {},
   "outputs": [],
   "source": [
    "prices_2022_2023_raw_dict.keys()"
   ]
  },
  {
   "cell_type": "code",
   "execution_count": null,
   "id": "a136d01e-2fc7-4671-8203-4ff99420caf4",
   "metadata": {},
   "outputs": [],
   "source": [
    "# find number of the month of last year in Rosstat data\n",
    "full_months = len(prices_2022_2023_data_sheets) // 12\n",
    "month_number = len(prices_2022_2023_data_sheets) - full_months*12"
   ]
  },
  {
   "cell_type": "code",
   "execution_count": null,
   "id": "39bd2155-7c06-4a1f-8476-5d8ddbadbdc0",
   "metadata": {},
   "outputs": [],
   "source": [
    "months_2022_2023 = months_list*full_months + months_list[:month_number]"
   ]
  },
  {
   "cell_type": "code",
   "execution_count": null,
   "id": "928880f0-9a6e-43fa-b242-dfcc58d079a8",
   "metadata": {},
   "outputs": [],
   "source": [
    "print(months_2022_2023)"
   ]
  },
  {
   "cell_type": "code",
   "execution_count": null,
   "id": "c0df5978-c118-4d58-b3ee-46b704195a89",
   "metadata": {},
   "outputs": [],
   "source": [
    "prices_2022_2023_dict = {}\n",
    "zip_ = zip(prices_2022_2023_raw_dict.keys(), months_2022_2023, prices_2022_2023_data_sheets)\n",
    "for key, month, sheet in zip_:\n",
    "    prices_2022_2023_dict['prices_' + month.lower() + '_' + sheet[-5:-1]] = \\\n",
    "        transform_prices_9_6(prices_2022_2023_raw_dict[key], month, sheet[-5:-1])"
   ]
  },
  {
   "cell_type": "markdown",
   "id": "4eb3cfed-8b6f-4019-a06a-0a9b5ca2b86c",
   "metadata": {},
   "source": [
    "##### Concat DataFrames"
   ]
  },
  {
   "cell_type": "code",
   "execution_count": null,
   "id": "b66b1d91-3179-4390-9475-a5c072feced5",
   "metadata": {},
   "outputs": [],
   "source": [
    "prices_2022 = pd.DataFrame(\n",
    "    columns=prices_2022_2023_dict['prices_january_2022'].columns)\n",
    "prices_2023 = pd.DataFrame(\n",
    "    columns=prices_2022_2023_dict['prices_january_2023'].columns)\n",
    "prices_2024 = pd.DataFrame(\n",
    "    columns=prices_2022_2023_dict['prices_january_2024'].columns)\n",
    "for key in prices_2022_2023_dict.keys():\n",
    "    if key[-4:] == '2022':\n",
    "        prices_2022 = pd.merge(\n",
    "            prices_2022.T, prices_2022_2023_dict[key].T,\n",
    "            on=prices_2022.columns)\n",
    "        prices_2022.index = prices_2022['key_0']\n",
    "        prices_2022.index.name = None\n",
    "        prices_2022 = prices_2022.drop('key_0', axis=1)\n",
    "        prices_2022 = prices_2022.T\n",
    "    elif key[-4:] == '2023':\n",
    "        prices_2023 = pd.merge(\n",
    "            prices_2023.T, prices_2022_2023_dict[key].T,\n",
    "            on=prices_2023.columns)\n",
    "        prices_2023.index = prices_2023['key_0']\n",
    "        prices_2023.index.name = None\n",
    "        prices_2023 = prices_2023.drop('key_0', axis=1)\n",
    "        prices_2023 = prices_2023.T\n",
    "    elif key[-4:] == '2024':\n",
    "        prices_2024 = pd.merge(\n",
    "            prices_2024.T, prices_2022_2023_dict[key].T,\n",
    "            on=prices_2024.columns)\n",
    "        prices_2024.index = prices_2024['key_0']\n",
    "        prices_2024.index.name = None\n",
    "        prices_2024 = prices_2024.drop('key_0', axis=1)\n",
    "        prices_2024 = prices_2024.T"
   ]
  },
  {
   "cell_type": "code",
   "execution_count": null,
   "id": "0ba35fcf-5464-41cb-9b99-03dfedeba587",
   "metadata": {},
   "outputs": [],
   "source": [
    "prices_2022.columns = [i.lower() for i in prices_2022.columns]\n",
    "prices_2023.columns = [i.lower() for i in prices_2023.columns]\n",
    "prices_2024.columns = [i.lower() for i in prices_2024.columns]"
   ]
  },
  {
   "cell_type": "code",
   "execution_count": null,
   "id": "c8f7b35b-aaf0-4e80-b881-0f37ce13aa77",
   "metadata": {},
   "outputs": [],
   "source": [
    "prices_2022 = prices_2022.astype(float)\n",
    "prices_2023 = prices_2023.astype(float)\n",
    "prices_2024 = prices_2024.astype(float)"
   ]
  },
  {
   "cell_type": "code",
   "execution_count": null,
   "id": "5ddb295e-b1f6-4466-9744-6879f499e6f0",
   "metadata": {},
   "outputs": [],
   "source": [
    "prices_2022 = prices_2022.round(2)\n",
    "prices_2023 = prices_2023.round(2)\n",
    "prices_2024 = prices_2024.round(2)"
   ]
  },
  {
   "cell_type": "code",
   "execution_count": null,
   "id": "4b2edf9b-2653-42e6-a0be-67c333f51149",
   "metadata": {},
   "outputs": [],
   "source": [
    "prices_2022"
   ]
  },
  {
   "cell_type": "code",
   "execution_count": null,
   "id": "e37edf88-f845-4e84-aaa3-7a95758efb99",
   "metadata": {},
   "outputs": [],
   "source": [
    "prices_2023"
   ]
  },
  {
   "cell_type": "code",
   "execution_count": null,
   "id": "36c6cdfa-ac85-4876-911f-556b15390b03",
   "metadata": {},
   "outputs": [],
   "source": [
    "prices_2024"
   ]
  },
  {
   "cell_type": "markdown",
   "id": "2ff5d060-4f75-4283-9913-4484e4425052",
   "metadata": {},
   "source": [
    "### Combibnig Prices "
   ]
  },
  {
   "cell_type": "code",
   "execution_count": null,
   "id": "2dcedc16-a4ff-4320-ac61-a40406a0ce25",
   "metadata": {},
   "outputs": [],
   "source": [
    "prices = (prices_2021.T\n",
    "          .join(prices_2022.T, how='outer')\n",
    "          .join(prices_2023.T, how='outer')\n",
    "          .join(prices_2024.T, how='outer')).T.copy()"
   ]
  },
  {
   "cell_type": "code",
   "execution_count": null,
   "id": "59758385-9a20-451b-ae87-d61992f0427b",
   "metadata": {},
   "outputs": [],
   "source": [
    "len(prices.T)"
   ]
  },
  {
   "cell_type": "code",
   "execution_count": null,
   "id": "93c6812d-b25f-44a4-82aa-7cfc72dce111",
   "metadata": {},
   "outputs": [],
   "source": [
    "prices.head()"
   ]
  },
  {
   "cell_type": "code",
   "execution_count": null,
   "id": "14e8225f-5811-4c5c-83ce-edf06333a5a4",
   "metadata": {},
   "outputs": [],
   "source": [
    "prices.tail()"
   ]
  },
  {
   "cell_type": "markdown",
   "id": "a8830e86-d41a-44c3-b993-2b867cc7d7d8",
   "metadata": {},
   "source": [
    "### Growth since January 2021"
   ]
  },
  {
   "cell_type": "code",
   "execution_count": null,
   "id": "70f046c1-5c68-4d21-a809-f53e450d76b4",
   "metadata": {},
   "outputs": [],
   "source": [
    "prices_growth = pd.DataFrame()\n",
    "for column in prices.columns:\n",
    "    prices_growth = pd.concat(\n",
    "        [prices_growth, normalized_by_first(prices[column], return_type='df')],\n",
    "        axis=1)"
   ]
  },
  {
   "cell_type": "code",
   "execution_count": null,
   "id": "6a13affa-ae72-4239-838c-356257a98495",
   "metadata": {},
   "outputs": [],
   "source": [
    "prices_growth.head()"
   ]
  },
  {
   "cell_type": "markdown",
   "id": "b92b7eba-d45d-4ed7-bc5a-2dc5616b1363",
   "metadata": {},
   "source": [
    "#### <font color='#820A22'> Export Dataset to Excel and CSV"
   ]
  },
  {
   "cell_type": "code",
   "execution_count": null,
   "id": "b2924b74-2bf3-4560-bab0-e5ff6dde9176",
   "metadata": {},
   "outputs": [],
   "source": [
    "saveit_excel(\n",
    "    data=prices,\n",
    "    filename='prices-2021-2024-consumers-food',\n",
    "    path=path_excel_csv,\n",
    "    sheet='Цены')"
   ]
  },
  {
   "cell_type": "code",
   "execution_count": null,
   "id": "a2a3ed59-ab55-4385-a326-70dfc2937fbe",
   "metadata": {},
   "outputs": [],
   "source": [
    "saveit_csv(\n",
    "    data=prices, \n",
    "    filename='prices-2021-2024-consumers-food',\n",
    "    path=path_excel_csv)"
   ]
  },
  {
   "cell_type": "code",
   "execution_count": null,
   "id": "6107d040-de1e-4f7d-9109-788caf9102c3",
   "metadata": {},
   "outputs": [],
   "source": [
    "saveit_excel(\n",
    "    data=prices_growth,\n",
    "    filename='prices-growth-2021-2024-consumers-food',\n",
    "    path=path_excel_csv,\n",
    "    sheet='Цены')"
   ]
  },
  {
   "cell_type": "code",
   "execution_count": null,
   "id": "aec3ace0-e61b-403f-9dd6-3c26ab72051e",
   "metadata": {},
   "outputs": [],
   "source": [
    "saveit_csv(\n",
    "    data=prices_growth, \n",
    "    filename='prices-growth-2021-2024-consumers-food',\n",
    "    path=path_excel_csv)"
   ]
  },
  {
   "cell_type": "markdown",
   "id": "ab16cc57-767f-4e8b-b3fe-7aeb74f927d0",
   "metadata": {},
   "source": [
    "### Save Datasets"
   ]
  },
  {
   "cell_type": "code",
   "execution_count": null,
   "id": "ff29123b-b11b-4475-8437-b32c4a6ff89f",
   "metadata": {},
   "outputs": [],
   "source": [
    "economics_data['prices_consumers_food'] = prices"
   ]
  },
  {
   "cell_type": "code",
   "execution_count": null,
   "id": "461f8ed5-e814-4a0d-a8b5-bb2735b785bc",
   "metadata": {},
   "outputs": [],
   "source": [
    "economics_data['prices_consumers_food_growth'] = prices_growth"
   ]
  },
  {
   "cell_type": "code",
   "execution_count": null,
   "id": "4cc4ade9-6454-405a-a2a5-68b11fcb6610",
   "metadata": {},
   "outputs": [],
   "source": [
    "economics_data['prices_2021_consumers_food'] = prices_2021"
   ]
  },
  {
   "cell_type": "code",
   "execution_count": null,
   "id": "8efee057-1407-4ee0-9c64-11e153fff6f2",
   "metadata": {},
   "outputs": [],
   "source": [
    "economics_data['prices_2022_consumers_food'] = prices_2022"
   ]
  },
  {
   "cell_type": "code",
   "execution_count": null,
   "id": "25f213ae-d975-4e8b-938b-b0982d0e569f",
   "metadata": {},
   "outputs": [],
   "source": [
    "economics_data['prices_2023_consumers_food'] = prices_2023"
   ]
  },
  {
   "cell_type": "code",
   "execution_count": null,
   "id": "5a675ec1-c56b-43d4-ab4e-bcce6bbcfc25",
   "metadata": {},
   "outputs": [],
   "source": [
    "economics_data['prices_2024_consumers_food'] = prices_2024"
   ]
  },
  {
   "cell_type": "code",
   "execution_count": null,
   "id": "d9e957e0-64e7-42ba-b5c0-b2e86ee7d22d",
   "metadata": {},
   "outputs": [],
   "source": [
    "saveit(\n",
    "    file=economics_data,\n",
    "    name='economics_data',\n",
    "    path=path_files\n",
    ")"
   ]
  },
  {
   "cell_type": "markdown",
   "id": "4f576727-2c81-448c-9623-e88e98c4b6b3",
   "metadata": {},
   "source": [
    "### Execution time"
   ]
  },
  {
   "cell_type": "code",
   "execution_count": null,
   "id": "f9aa45c6-e653-4b65-9349-af30e6963a2c",
   "metadata": {},
   "outputs": [],
   "source": [
    "stopwatch_stop(start)"
   ]
  }
 ],
 "metadata": {
  "kernelspec": {
   "display_name": "economy-rus",
   "language": "python",
   "name": "economy-rus"
  },
  "language_info": {
   "codemirror_mode": {
    "name": "ipython",
    "version": 3
   },
   "file_extension": ".py",
   "mimetype": "text/x-python",
   "name": "python",
   "nbconvert_exporter": "python",
   "pygments_lexer": "ipython3",
   "version": "3.12.3"
  }
 },
 "nbformat": 4,
 "nbformat_minor": 5
}
