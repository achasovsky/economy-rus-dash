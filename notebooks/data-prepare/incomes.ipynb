{
 "cells": [
  {
   "cell_type": "markdown",
   "id": "dcb349fb-2919-45dc-adae-23a35b98ed65",
   "metadata": {},
   "source": [
    "# Цены на продукты питания"
   ]
  },
  {
   "cell_type": "code",
   "execution_count": 62,
   "id": "f8a36acf-fd45-469d-9341-b5af029a7737",
   "metadata": {},
   "outputs": [],
   "source": [
    "import numpy as np\n",
    "import pandas as pd\n",
    "import scipy\n",
    "import statsmodels\n",
    "import statsmodels.api as sm\n",
    "import statsmodels.stats.api as sms\n",
    "import statsmodels.formula.api as smf\n",
    "import plotly\n",
    "import plotly.io as pio\n",
    "import plotly.graph_objects as go\n",
    "import plotly.express as px\n",
    "import chart_studio.plotly as py\n",
    "import matplotlib as mpl\n",
    "import matplotlib.pyplot as plt\n",
    "import seaborn as sns\n",
    "import docx\n",
    "import datetime as dt\n",
    "import pickle\n",
    "import random\n",
    "import math\n",
    "import time\n",
    "import os\n",
    "import re\n",
    "import colorsys\n",
    "import arrow\n",
    "import locale\n",
    "import requests\n",
    "import collections\n",
    "import numbers\n",
    "import decimal\n",
    "\n",
    "from warnings import simplefilter\n",
    "\n",
    "from scipy import stats\n",
    "from scipy.interpolate import make_interp_spline, BSpline\n",
    "from sklearn import preprocessing\n",
    "from sklearn.preprocessing import MinMaxScaler\n",
    "from matplotlib.lines import Line2D\n",
    "import matplotlib.dates as mdates"
   ]
  },
  {
   "cell_type": "code",
   "execution_count": 63,
   "id": "2f6fbc66-a4fd-4141-b939-9359ddc99d6a",
   "metadata": {},
   "outputs": [],
   "source": [
    "path_current = os.getcwd()\n",
    "path_main = os.path.sep.join(path_current.split(os.path.sep)[:-2])"
   ]
  },
  {
   "cell_type": "code",
   "execution_count": 64,
   "id": "e33fac2b-dd98-4088-8ad2-bf9201fefa24",
   "metadata": {},
   "outputs": [
    {
     "data": {
      "text/plain": [
       "'/Users/achasovsky/Library/CloudStorage/GoogleDrive-alexanderchasovsky@gmail.com/Мой диск/Data Science Projects/# economy-rus-dash/notebooks/data-prepare'"
      ]
     },
     "execution_count": 64,
     "metadata": {},
     "output_type": "execute_result"
    }
   ],
   "source": [
    "path_current"
   ]
  },
  {
   "cell_type": "code",
   "execution_count": 65,
   "id": "fea8c8ad-2f90-45d0-8da9-00990dd1bf42",
   "metadata": {},
   "outputs": [
    {
     "data": {
      "text/plain": [
       "'/Users/achasovsky/Library/CloudStorage/GoogleDrive-alexanderchasovsky@gmail.com/Мой диск/Data Science Projects/# economy-rus-dash'"
      ]
     },
     "execution_count": 65,
     "metadata": {},
     "output_type": "execute_result"
    }
   ],
   "source": [
    "path_main"
   ]
  },
  {
   "cell_type": "markdown",
   "id": "71577d41-3ca4-423a-81a5-9ad062863eed",
   "metadata": {},
   "source": [
    "### To main directory"
   ]
  },
  {
   "cell_type": "code",
   "execution_count": 66,
   "id": "7dd73736-f9f1-4dbe-bda0-ad97bb97cbf6",
   "metadata": {},
   "outputs": [],
   "source": [
    "# change directory to main path\n",
    "os.chdir(path_main)"
   ]
  },
  {
   "cell_type": "markdown",
   "id": "24e4ab22-ebd4-4a98-88f6-e90e67f0eaa2",
   "metadata": {},
   "source": [
    "### Load libraries, functions, palette, theme"
   ]
  },
  {
   "cell_type": "code",
   "execution_count": 67,
   "id": "875a8f50-d2bf-4b15-8f8c-bdc0913d6033",
   "metadata": {},
   "outputs": [],
   "source": [
    "# load libraries and palette\n",
    "%run __theme.ipynb"
   ]
  },
  {
   "cell_type": "code",
   "execution_count": 68,
   "id": "07623594-1404-4900-8760-57cbc4cadcbb",
   "metadata": {},
   "outputs": [],
   "source": [
    "# load functions\n",
    "# from __functions import *\n",
    "%run __functions.ipynb"
   ]
  },
  {
   "cell_type": "code",
   "execution_count": 69,
   "id": "da6c70cf-8594-423a-a08f-c48be160041d",
   "metadata": {},
   "outputs": [],
   "source": [
    "# start stopwatch\n",
    "start = stopwatch_start()"
   ]
  },
  {
   "cell_type": "markdown",
   "id": "fb7ba096-4563-4796-99f7-624e322475c7",
   "metadata": {},
   "source": [
    "### Variables"
   ]
  },
  {
   "cell_type": "code",
   "execution_count": 70,
   "id": "88f78c3d-cce0-46cb-9960-78cdefb6b0ab",
   "metadata": {},
   "outputs": [],
   "source": [
    "path_img = 'docs/img/'"
   ]
  },
  {
   "cell_type": "code",
   "execution_count": 71,
   "id": "e2cf6238-0e90-482b-82fd-e8558a512c47",
   "metadata": {},
   "outputs": [],
   "source": [
    "path_files = path_main + '/files'"
   ]
  },
  {
   "cell_type": "code",
   "execution_count": 72,
   "id": "23980069-3e37-4871-96a6-0cefcdad7eae",
   "metadata": {},
   "outputs": [],
   "source": [
    "path_excel_csv = path_main + '/excel-csv'"
   ]
  },
  {
   "cell_type": "markdown",
   "id": "26fd66a0-6311-4f6c-9c4c-50692003606b",
   "metadata": {},
   "source": [
    "### Load Files"
   ]
  },
  {
   "cell_type": "code",
   "execution_count": 73,
   "id": "3400b855-c10d-484f-8678-2c76e0e69f7f",
   "metadata": {},
   "outputs": [],
   "source": [
    "economics_data = loadit('economics_data', path=path_files, create_empty_dict=True)"
   ]
  },
  {
   "cell_type": "markdown",
   "id": "66873aa8-a634-43ff-a563-b131d61823a5",
   "metadata": {},
   "source": [
    "### Back to notebook directory"
   ]
  },
  {
   "cell_type": "code",
   "execution_count": 74,
   "id": "3d785657-0853-4bb6-b124-e5a630701740",
   "metadata": {},
   "outputs": [],
   "source": [
    "# back to current path\n",
    "os.chdir(path_current)"
   ]
  },
  {
   "cell_type": "code",
   "execution_count": null,
   "id": "a5eb0cff-b1ae-4624-8803-d0091a8642c1",
   "metadata": {},
   "outputs": [],
   "source": []
  },
  {
   "cell_type": "code",
   "execution_count": null,
   "id": "9071c2e4-2b31-4f74-a19f-5d0fb6b27996",
   "metadata": {},
   "outputs": [],
   "source": []
  },
  {
   "cell_type": "code",
   "execution_count": null,
   "id": "264a1b2a-3624-465e-81ba-ce2efdc16aac",
   "metadata": {},
   "outputs": [],
   "source": []
  },
  {
   "cell_type": "code",
   "execution_count": null,
   "id": "7e8156b4-dc11-4b8f-a837-7234a44259c2",
   "metadata": {},
   "outputs": [],
   "source": []
  },
  {
   "cell_type": "code",
   "execution_count": null,
   "id": "d6735fa2-d4a3-42b7-a14b-05912d091b99",
   "metadata": {},
   "outputs": [],
   "source": []
  },
  {
   "cell_type": "code",
   "execution_count": null,
   "id": "2c717e96-144e-4425-9b35-bc807bcdf4f6",
   "metadata": {},
   "outputs": [],
   "source": []
  },
  {
   "cell_type": "code",
   "execution_count": null,
   "id": "fcca35d0-4ebb-4a62-8305-a64a150f8159",
   "metadata": {},
   "outputs": [],
   "source": []
  },
  {
   "cell_type": "markdown",
   "id": "ab26c548-1f66-4cb2-a514-0460a4b2f85b",
   "metadata": {},
   "source": [
    "### Save Dataset"
   ]
  },
  {
   "cell_type": "code",
   "execution_count": 120,
   "id": "9122f2b4-e445-4ea5-932a-a779999149d1",
   "metadata": {},
   "outputs": [],
   "source": [
    "economics_data['prices_food'] = prices_food"
   ]
  },
  {
   "cell_type": "code",
   "execution_count": 121,
   "id": "87043b66-6981-429a-a352-514cce32ad86",
   "metadata": {},
   "outputs": [],
   "source": [
    "economics_data['prices_food_growth'] = prices_food_growth"
   ]
  },
  {
   "cell_type": "code",
   "execution_count": 122,
   "id": "441daf1b-f0bc-4bf5-b8a8-eca09ffacd3f",
   "metadata": {},
   "outputs": [
    {
     "name": "stdout",
     "output_type": "stream",
     "text": [
      "File 'economics_data.pkl' saved\n"
     ]
    }
   ],
   "source": [
    "saveit(\n",
    "    file=economics_data,\n",
    "    name='economics_data',\n",
    "    path=path_files\n",
    ")"
   ]
  },
  {
   "cell_type": "markdown",
   "id": "de96110f-7964-4b6c-9d9f-0424e1caa904",
   "metadata": {},
   "source": [
    "### Execution time"
   ]
  },
  {
   "cell_type": "code",
   "execution_count": 123,
   "id": "62238376-9abe-4f94-bd7b-36a42705bf23",
   "metadata": {},
   "outputs": [
    {
     "name": "stdout",
     "output_type": "stream",
     "text": [
      "Execution time: 0:00:01\n"
     ]
    }
   ],
   "source": [
    "stopwatch_stop(start)"
   ]
  }
 ],
 "metadata": {
  "kernelspec": {
   "display_name": "economy-rus",
   "language": "python",
   "name": "economy-rus"
  },
  "language_info": {
   "codemirror_mode": {
    "name": "ipython",
    "version": 3
   },
   "file_extension": ".py",
   "mimetype": "text/x-python",
   "name": "python",
   "nbconvert_exporter": "python",
   "pygments_lexer": "ipython3",
   "version": "3.12.3"
  }
 },
 "nbformat": 4,
 "nbformat_minor": 5
}
