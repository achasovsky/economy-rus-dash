{
 "cells": [
  {
   "cell_type": "markdown",
   "id": "dcb349fb-2919-45dc-adae-23a35b98ed65",
   "metadata": {},
   "source": [
    "# Цены на продукты питания"
   ]
  },
  {
   "cell_type": "code",
   "execution_count": 150,
   "id": "f8a36acf-fd45-469d-9341-b5af029a7737",
   "metadata": {},
   "outputs": [],
   "source": [
    "import numpy as np\n",
    "import pandas as pd\n",
    "import scipy\n",
    "import statsmodels\n",
    "import statsmodels.api as sm\n",
    "import statsmodels.stats.api as sms\n",
    "import statsmodels.formula.api as smf\n",
    "import plotly\n",
    "import plotly.io as pio\n",
    "import plotly.graph_objects as go\n",
    "import plotly.express as px\n",
    "import chart_studio.plotly as py\n",
    "import matplotlib as mpl\n",
    "import matplotlib.pyplot as plt\n",
    "import seaborn as sns\n",
    "import docx\n",
    "import datetime as dt\n",
    "import pickle\n",
    "import random\n",
    "import math\n",
    "import time\n",
    "import os\n",
    "import re\n",
    "import colorsys\n",
    "import arrow\n",
    "import locale\n",
    "import requests\n",
    "import collections\n",
    "import numbers\n",
    "import decimal\n",
    "\n",
    "from warnings import simplefilter\n",
    "\n",
    "from scipy import stats\n",
    "from scipy.interpolate import make_interp_spline, BSpline\n",
    "from sklearn import preprocessing\n",
    "from sklearn.preprocessing import MinMaxScaler\n",
    "from matplotlib.lines import Line2D\n",
    "import matplotlib.dates as mdates"
   ]
  },
  {
   "cell_type": "code",
   "execution_count": 151,
   "id": "2f6fbc66-a4fd-4141-b939-9359ddc99d6a",
   "metadata": {},
   "outputs": [],
   "source": [
    "path_current = os.getcwd()\n",
    "path_main = os.path.sep.join(path_current.split(os.path.sep)[:-2])"
   ]
  },
  {
   "cell_type": "code",
   "execution_count": 152,
   "id": "e33fac2b-dd98-4088-8ad2-bf9201fefa24",
   "metadata": {},
   "outputs": [
    {
     "data": {
      "text/plain": [
       "'/Users/achasovsky/Library/CloudStorage/GoogleDrive-alexanderchasovsky@gmail.com/Мой диск/Data Science Projects/# economy-rus-dash/notebooks/data-prepare'"
      ]
     },
     "execution_count": 152,
     "metadata": {},
     "output_type": "execute_result"
    }
   ],
   "source": [
    "path_current"
   ]
  },
  {
   "cell_type": "code",
   "execution_count": 153,
   "id": "fea8c8ad-2f90-45d0-8da9-00990dd1bf42",
   "metadata": {},
   "outputs": [
    {
     "data": {
      "text/plain": [
       "'/Users/achasovsky/Library/CloudStorage/GoogleDrive-alexanderchasovsky@gmail.com/Мой диск/Data Science Projects/# economy-rus-dash'"
      ]
     },
     "execution_count": 153,
     "metadata": {},
     "output_type": "execute_result"
    }
   ],
   "source": [
    "path_main"
   ]
  },
  {
   "cell_type": "markdown",
   "id": "71577d41-3ca4-423a-81a5-9ad062863eed",
   "metadata": {},
   "source": [
    "### To main directory"
   ]
  },
  {
   "cell_type": "code",
   "execution_count": 154,
   "id": "7dd73736-f9f1-4dbe-bda0-ad97bb97cbf6",
   "metadata": {},
   "outputs": [],
   "source": [
    "# change directory to main path\n",
    "os.chdir(path_main)"
   ]
  },
  {
   "cell_type": "markdown",
   "id": "24e4ab22-ebd4-4a98-88f6-e90e67f0eaa2",
   "metadata": {},
   "source": [
    "### Load libraries, functions, palette, theme"
   ]
  },
  {
   "cell_type": "code",
   "execution_count": 155,
   "id": "875a8f50-d2bf-4b15-8f8c-bdc0913d6033",
   "metadata": {},
   "outputs": [],
   "source": [
    "# load libraries and palette\n",
    "%run __theme.ipynb"
   ]
  },
  {
   "cell_type": "code",
   "execution_count": 156,
   "id": "07623594-1404-4900-8760-57cbc4cadcbb",
   "metadata": {},
   "outputs": [],
   "source": [
    "# load functions\n",
    "# from __functions import *\n",
    "%run __functions.ipynb"
   ]
  },
  {
   "cell_type": "code",
   "execution_count": 157,
   "id": "da6c70cf-8594-423a-a08f-c48be160041d",
   "metadata": {},
   "outputs": [],
   "source": [
    "# start stopwatch\n",
    "start = stopwatch_start()"
   ]
  },
  {
   "cell_type": "markdown",
   "id": "fb7ba096-4563-4796-99f7-624e322475c7",
   "metadata": {},
   "source": [
    "### Variables"
   ]
  },
  {
   "cell_type": "code",
   "execution_count": 158,
   "id": "88f78c3d-cce0-46cb-9960-78cdefb6b0ab",
   "metadata": {},
   "outputs": [],
   "source": [
    "path_img = 'docs/img/'"
   ]
  },
  {
   "cell_type": "code",
   "execution_count": 159,
   "id": "e2cf6238-0e90-482b-82fd-e8558a512c47",
   "metadata": {},
   "outputs": [],
   "source": [
    "path_files = path_main + '/files'"
   ]
  },
  {
   "cell_type": "code",
   "execution_count": 160,
   "id": "23980069-3e37-4871-96a6-0cefcdad7eae",
   "metadata": {},
   "outputs": [],
   "source": [
    "path_excel_csv = path_main + '/excel-csv'"
   ]
  },
  {
   "cell_type": "markdown",
   "id": "26fd66a0-6311-4f6c-9c4c-50692003606b",
   "metadata": {},
   "source": [
    "### Load Files"
   ]
  },
  {
   "cell_type": "code",
   "execution_count": 161,
   "id": "3400b855-c10d-484f-8678-2c76e0e69f7f",
   "metadata": {},
   "outputs": [],
   "source": [
    "economics_data = loadit('economics_data', path=path_files, create_empty_dict=True)"
   ]
  },
  {
   "cell_type": "code",
   "execution_count": 162,
   "id": "5a6ec06d-4aae-40a9-9fee-2ec8b13558a0",
   "metadata": {},
   "outputs": [],
   "source": [
    "income = economics_data['households_income'].copy()"
   ]
  },
  {
   "cell_type": "markdown",
   "id": "66873aa8-a634-43ff-a563-b131d61823a5",
   "metadata": {},
   "source": [
    "### Back to notebook directory"
   ]
  },
  {
   "cell_type": "code",
   "execution_count": 163,
   "id": "3d785657-0853-4bb6-b124-e5a630701740",
   "metadata": {},
   "outputs": [],
   "source": [
    "# back to current path\n",
    "os.chdir(path_current)"
   ]
  },
  {
   "cell_type": "markdown",
   "id": "f93fc8ea-849a-426b-8563-f8183022b941",
   "metadata": {},
   "source": [
    "# Домохозяйства"
   ]
  },
  {
   "cell_type": "code",
   "execution_count": 164,
   "id": "8c6f7987-30ad-4093-be5c-09305334d8b4",
   "metadata": {},
   "outputs": [],
   "source": [
    "income_plot_data = income[income['Тип'] == 'Всего'].T[1:].iloc[:, -2:].copy()"
   ]
  },
  {
   "cell_type": "code",
   "execution_count": 165,
   "id": "f4a47918-65a7-4162-9624-c1bc9346c5a8",
   "metadata": {},
   "outputs": [],
   "source": [
    "income_plot_data = income_plot_data.astype(float)"
   ]
  },
  {
   "cell_type": "code",
   "execution_count": 166,
   "id": "ab5a38d2-5ca6-47f0-a025-02fda1da97dc",
   "metadata": {},
   "outputs": [],
   "source": [
    "income_plot_data['delta'] = \\\n",
    "    income_plot_data.iloc[:, 0] - income_plot_data.iloc[:, 1]"
   ]
  },
  {
   "cell_type": "code",
   "execution_count": 167,
   "id": "79b5d9fa-b904-4227-a0ef-8b72a9add94f",
   "metadata": {},
   "outputs": [],
   "source": [
    "income_plot_data['delta_town'] = \\\n",
    "    (income_plot_data['Домашние хозяйства, проживающиев городской местности']\n",
    "     .pct_change()\n",
    "     .mul(100)\n",
    "     .round(2))\n",
    "\n",
    "income_plot_data['delta_country'] = \\\n",
    "    (income_plot_data['Домашние хозяйства, проживающиев сельской местности']\n",
    "     .pct_change()\n",
    "     .mul(100)\n",
    "     .round(2))"
   ]
  },
  {
   "cell_type": "code",
   "execution_count": 168,
   "id": "64e453d9-fa6d-44ac-9279-73a1f79f8c9a",
   "metadata": {},
   "outputs": [],
   "source": [
    "income_plot_data['delta_pct'] = \\\n",
    "    income_plot_data['delta_town'] - income_plot_data['delta_country']"
   ]
  },
  {
   "cell_type": "code",
   "execution_count": 169,
   "id": "f21206dd-0d89-4595-8211-cfd16d35d801",
   "metadata": {},
   "outputs": [],
   "source": [
    "income_plot_data['country/town'] = \\\n",
    "    (income_plot_data['Домашние хозяйства, проживающиев сельской местности']\n",
    "     / income_plot_data['Домашние хозяйства, проживающиев городской местности'])"
   ]
  },
  {
   "cell_type": "code",
   "execution_count": 170,
   "id": "29defb03-d41b-426f-a9f5-b19aa885b5a9",
   "metadata": {},
   "outputs": [],
   "source": [
    "income_plot_data['country/town'] = income_plot_data['country/town'].round(2)"
   ]
  },
  {
   "cell_type": "code",
   "execution_count": 171,
   "id": "6237cef1-ac35-4449-9269-dc37dbefd234",
   "metadata": {},
   "outputs": [],
   "source": [
    "income_plot_data.index = income_plot_data.index.astype(int)"
   ]
  },
  {
   "cell_type": "code",
   "execution_count": 172,
   "id": "9b0a3f0f-442f-4283-9a66-45c23cdb0a24",
   "metadata": {},
   "outputs": [
    {
     "data": {
      "text/html": [
       "<div>\n",
       "<style scoped>\n",
       "    .dataframe tbody tr th:only-of-type {\n",
       "        vertical-align: middle;\n",
       "    }\n",
       "\n",
       "    .dataframe tbody tr th {\n",
       "        vertical-align: top;\n",
       "    }\n",
       "\n",
       "    .dataframe thead th {\n",
       "        text-align: right;\n",
       "    }\n",
       "</style>\n",
       "<table border=\"1\" class=\"dataframe\">\n",
       "  <thead>\n",
       "    <tr style=\"text-align: right;\">\n",
       "      <th></th>\n",
       "      <th>Домашние хозяйства, проживающиев городской местности</th>\n",
       "      <th>Домашние хозяйства, проживающиев сельской местности</th>\n",
       "      <th>delta</th>\n",
       "      <th>delta_town</th>\n",
       "      <th>delta_country</th>\n",
       "      <th>delta_pct</th>\n",
       "      <th>country/town</th>\n",
       "    </tr>\n",
       "  </thead>\n",
       "  <tbody>\n",
       "    <tr>\n",
       "      <th>2003</th>\n",
       "      <td>4009.0</td>\n",
       "      <td>2423.2</td>\n",
       "      <td>1585.8</td>\n",
       "      <td>NaN</td>\n",
       "      <td>NaN</td>\n",
       "      <td>NaN</td>\n",
       "      <td>0.60</td>\n",
       "    </tr>\n",
       "    <tr>\n",
       "      <th>2004</th>\n",
       "      <td>5016.0</td>\n",
       "      <td>2851.3</td>\n",
       "      <td>2164.7</td>\n",
       "      <td>25.12</td>\n",
       "      <td>17.67</td>\n",
       "      <td>7.45</td>\n",
       "      <td>0.57</td>\n",
       "    </tr>\n",
       "    <tr>\n",
       "      <th>2005</th>\n",
       "      <td>6529.5</td>\n",
       "      <td>3604.7</td>\n",
       "      <td>2924.8</td>\n",
       "      <td>30.17</td>\n",
       "      <td>26.42</td>\n",
       "      <td>3.75</td>\n",
       "      <td>0.55</td>\n",
       "    </tr>\n",
       "    <tr>\n",
       "      <th>2006</th>\n",
       "      <td>7984.9</td>\n",
       "      <td>4495.4</td>\n",
       "      <td>3489.5</td>\n",
       "      <td>22.29</td>\n",
       "      <td>24.71</td>\n",
       "      <td>-2.42</td>\n",
       "      <td>0.56</td>\n",
       "    </tr>\n",
       "    <tr>\n",
       "      <th>2007</th>\n",
       "      <td>10354.6</td>\n",
       "      <td>5871.1</td>\n",
       "      <td>4483.5</td>\n",
       "      <td>29.68</td>\n",
       "      <td>30.60</td>\n",
       "      <td>-0.92</td>\n",
       "      <td>0.57</td>\n",
       "    </tr>\n",
       "    <tr>\n",
       "      <th>2008</th>\n",
       "      <td>13465.9</td>\n",
       "      <td>7786.5</td>\n",
       "      <td>5679.4</td>\n",
       "      <td>30.05</td>\n",
       "      <td>32.62</td>\n",
       "      <td>-2.57</td>\n",
       "      <td>0.58</td>\n",
       "    </tr>\n",
       "    <tr>\n",
       "      <th>2009</th>\n",
       "      <td>13869.4</td>\n",
       "      <td>8416.9</td>\n",
       "      <td>5452.5</td>\n",
       "      <td>3.00</td>\n",
       "      <td>8.10</td>\n",
       "      <td>-5.10</td>\n",
       "      <td>0.61</td>\n",
       "    </tr>\n",
       "    <tr>\n",
       "      <th>2010</th>\n",
       "      <td>16265.0</td>\n",
       "      <td>10128.7</td>\n",
       "      <td>6136.3</td>\n",
       "      <td>17.27</td>\n",
       "      <td>20.34</td>\n",
       "      <td>-3.07</td>\n",
       "      <td>0.62</td>\n",
       "    </tr>\n",
       "    <tr>\n",
       "      <th>2011</th>\n",
       "      <td>18291.1</td>\n",
       "      <td>11745.8</td>\n",
       "      <td>6545.3</td>\n",
       "      <td>12.46</td>\n",
       "      <td>15.97</td>\n",
       "      <td>-3.51</td>\n",
       "      <td>0.64</td>\n",
       "    </tr>\n",
       "    <tr>\n",
       "      <th>2012</th>\n",
       "      <td>20405.0</td>\n",
       "      <td>13320.3</td>\n",
       "      <td>7084.7</td>\n",
       "      <td>11.56</td>\n",
       "      <td>13.40</td>\n",
       "      <td>-1.84</td>\n",
       "      <td>0.65</td>\n",
       "    </tr>\n",
       "    <tr>\n",
       "      <th>2013</th>\n",
       "      <td>23645.0</td>\n",
       "      <td>14191.7</td>\n",
       "      <td>9453.3</td>\n",
       "      <td>15.88</td>\n",
       "      <td>6.54</td>\n",
       "      <td>9.34</td>\n",
       "      <td>0.60</td>\n",
       "    </tr>\n",
       "    <tr>\n",
       "      <th>2014</th>\n",
       "      <td>25347.5</td>\n",
       "      <td>15802.3</td>\n",
       "      <td>9545.2</td>\n",
       "      <td>7.20</td>\n",
       "      <td>11.35</td>\n",
       "      <td>-4.15</td>\n",
       "      <td>0.62</td>\n",
       "    </tr>\n",
       "    <tr>\n",
       "      <th>2015</th>\n",
       "      <td>25466.4</td>\n",
       "      <td>16639.7</td>\n",
       "      <td>8826.7</td>\n",
       "      <td>0.47</td>\n",
       "      <td>5.30</td>\n",
       "      <td>-4.83</td>\n",
       "      <td>0.65</td>\n",
       "    </tr>\n",
       "    <tr>\n",
       "      <th>2016</th>\n",
       "      <td>26719.7</td>\n",
       "      <td>16971.0</td>\n",
       "      <td>9748.7</td>\n",
       "      <td>4.92</td>\n",
       "      <td>1.99</td>\n",
       "      <td>2.93</td>\n",
       "      <td>0.64</td>\n",
       "    </tr>\n",
       "    <tr>\n",
       "      <th>2017</th>\n",
       "      <td>27206.8</td>\n",
       "      <td>18309.1</td>\n",
       "      <td>8897.7</td>\n",
       "      <td>1.82</td>\n",
       "      <td>7.88</td>\n",
       "      <td>-6.06</td>\n",
       "      <td>0.67</td>\n",
       "    </tr>\n",
       "    <tr>\n",
       "      <th>2018</th>\n",
       "      <td>29556.9</td>\n",
       "      <td>19188.5</td>\n",
       "      <td>10368.4</td>\n",
       "      <td>8.64</td>\n",
       "      <td>4.80</td>\n",
       "      <td>3.84</td>\n",
       "      <td>0.65</td>\n",
       "    </tr>\n",
       "    <tr>\n",
       "      <th>2019</th>\n",
       "      <td>31931.9</td>\n",
       "      <td>20360.8</td>\n",
       "      <td>11571.1</td>\n",
       "      <td>8.04</td>\n",
       "      <td>6.11</td>\n",
       "      <td>1.93</td>\n",
       "      <td>0.64</td>\n",
       "    </tr>\n",
       "    <tr>\n",
       "      <th>2020</th>\n",
       "      <td>31818.4</td>\n",
       "      <td>21432.4</td>\n",
       "      <td>10386.0</td>\n",
       "      <td>-0.36</td>\n",
       "      <td>5.26</td>\n",
       "      <td>-5.62</td>\n",
       "      <td>0.67</td>\n",
       "    </tr>\n",
       "    <tr>\n",
       "      <th>2021</th>\n",
       "      <td>34663.1</td>\n",
       "      <td>23232.2</td>\n",
       "      <td>11430.9</td>\n",
       "      <td>8.94</td>\n",
       "      <td>8.40</td>\n",
       "      <td>0.54</td>\n",
       "      <td>0.67</td>\n",
       "    </tr>\n",
       "    <tr>\n",
       "      <th>2022</th>\n",
       "      <td>38211.3</td>\n",
       "      <td>25650.2</td>\n",
       "      <td>12561.1</td>\n",
       "      <td>10.24</td>\n",
       "      <td>10.41</td>\n",
       "      <td>-0.17</td>\n",
       "      <td>0.67</td>\n",
       "    </tr>\n",
       "  </tbody>\n",
       "</table>\n",
       "</div>"
      ],
      "text/plain": [
       "      Домашние хозяйства, проживающиев городской местности  \\\n",
       "2003                                             4009.0      \n",
       "2004                                             5016.0      \n",
       "2005                                             6529.5      \n",
       "2006                                             7984.9      \n",
       "2007                                            10354.6      \n",
       "2008                                            13465.9      \n",
       "2009                                            13869.4      \n",
       "2010                                            16265.0      \n",
       "2011                                            18291.1      \n",
       "2012                                            20405.0      \n",
       "2013                                            23645.0      \n",
       "2014                                            25347.5      \n",
       "2015                                            25466.4      \n",
       "2016                                            26719.7      \n",
       "2017                                            27206.8      \n",
       "2018                                            29556.9      \n",
       "2019                                            31931.9      \n",
       "2020                                            31818.4      \n",
       "2021                                            34663.1      \n",
       "2022                                            38211.3      \n",
       "\n",
       "      Домашние хозяйства, проживающиев сельской местности    delta  \\\n",
       "2003                                             2423.2     1585.8   \n",
       "2004                                             2851.3     2164.7   \n",
       "2005                                             3604.7     2924.8   \n",
       "2006                                             4495.4     3489.5   \n",
       "2007                                             5871.1     4483.5   \n",
       "2008                                             7786.5     5679.4   \n",
       "2009                                             8416.9     5452.5   \n",
       "2010                                            10128.7     6136.3   \n",
       "2011                                            11745.8     6545.3   \n",
       "2012                                            13320.3     7084.7   \n",
       "2013                                            14191.7     9453.3   \n",
       "2014                                            15802.3     9545.2   \n",
       "2015                                            16639.7     8826.7   \n",
       "2016                                            16971.0     9748.7   \n",
       "2017                                            18309.1     8897.7   \n",
       "2018                                            19188.5    10368.4   \n",
       "2019                                            20360.8    11571.1   \n",
       "2020                                            21432.4    10386.0   \n",
       "2021                                            23232.2    11430.9   \n",
       "2022                                            25650.2    12561.1   \n",
       "\n",
       "      delta_town  delta_country  delta_pct  country/town  \n",
       "2003         NaN            NaN        NaN          0.60  \n",
       "2004       25.12          17.67       7.45          0.57  \n",
       "2005       30.17          26.42       3.75          0.55  \n",
       "2006       22.29          24.71      -2.42          0.56  \n",
       "2007       29.68          30.60      -0.92          0.57  \n",
       "2008       30.05          32.62      -2.57          0.58  \n",
       "2009        3.00           8.10      -5.10          0.61  \n",
       "2010       17.27          20.34      -3.07          0.62  \n",
       "2011       12.46          15.97      -3.51          0.64  \n",
       "2012       11.56          13.40      -1.84          0.65  \n",
       "2013       15.88           6.54       9.34          0.60  \n",
       "2014        7.20          11.35      -4.15          0.62  \n",
       "2015        0.47           5.30      -4.83          0.65  \n",
       "2016        4.92           1.99       2.93          0.64  \n",
       "2017        1.82           7.88      -6.06          0.67  \n",
       "2018        8.64           4.80       3.84          0.65  \n",
       "2019        8.04           6.11       1.93          0.64  \n",
       "2020       -0.36           5.26      -5.62          0.67  \n",
       "2021        8.94           8.40       0.54          0.67  \n",
       "2022       10.24          10.41      -0.17          0.67  "
      ]
     },
     "execution_count": 172,
     "metadata": {},
     "output_type": "execute_result"
    }
   ],
   "source": [
    "income_plot_data"
   ]
  },
  {
   "cell_type": "markdown",
   "id": "ab26c548-1f66-4cb2-a514-0460a4b2f85b",
   "metadata": {},
   "source": [
    "### Save Dataset"
   ]
  },
  {
   "cell_type": "code",
   "execution_count": 173,
   "id": "9122f2b4-e445-4ea5-932a-a779999149d1",
   "metadata": {},
   "outputs": [],
   "source": [
    "economics_data['households_income_difference'] = income_plot_data"
   ]
  },
  {
   "cell_type": "code",
   "execution_count": 174,
   "id": "441daf1b-f0bc-4bf5-b8a8-eca09ffacd3f",
   "metadata": {},
   "outputs": [
    {
     "name": "stdout",
     "output_type": "stream",
     "text": [
      "File 'economics_data.pkl' saved\n"
     ]
    }
   ],
   "source": [
    "saveit(\n",
    "    file=economics_data,\n",
    "    name='economics_data',\n",
    "    path=path_files\n",
    ")"
   ]
  },
  {
   "cell_type": "markdown",
   "id": "de96110f-7964-4b6c-9d9f-0424e1caa904",
   "metadata": {},
   "source": [
    "### Execution time"
   ]
  },
  {
   "cell_type": "code",
   "execution_count": 175,
   "id": "62238376-9abe-4f94-bd7b-36a42705bf23",
   "metadata": {},
   "outputs": [
    {
     "name": "stdout",
     "output_type": "stream",
     "text": [
      "Execution time: 0:00:00\n"
     ]
    }
   ],
   "source": [
    "stopwatch_stop(start)"
   ]
  }
 ],
 "metadata": {
  "kernelspec": {
   "display_name": "economy-rus",
   "language": "python",
   "name": "economy-rus"
  },
  "language_info": {
   "codemirror_mode": {
    "name": "ipython",
    "version": 3
   },
   "file_extension": ".py",
   "mimetype": "text/x-python",
   "name": "python",
   "nbconvert_exporter": "python",
   "pygments_lexer": "ipython3",
   "version": "3.12.3"
  }
 },
 "nbformat": 4,
 "nbformat_minor": 5
}
