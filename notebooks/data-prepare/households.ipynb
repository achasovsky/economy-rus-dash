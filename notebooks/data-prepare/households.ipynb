{
 "cells": [
  {
   "cell_type": "markdown",
   "id": "dcb349fb-2919-45dc-adae-23a35b98ed65",
   "metadata": {},
   "source": [
    "# Цены на продукты питания"
   ]
  },
  {
   "cell_type": "code",
   "execution_count": 1,
   "id": "f8a36acf-fd45-469d-9341-b5af029a7737",
   "metadata": {},
   "outputs": [],
   "source": [
    "import numpy as np\n",
    "import pandas as pd\n",
    "import scipy\n",
    "import statsmodels\n",
    "import statsmodels.api as sm\n",
    "import statsmodels.stats.api as sms\n",
    "import statsmodels.formula.api as smf\n",
    "import plotly\n",
    "import plotly.io as pio\n",
    "import plotly.graph_objects as go\n",
    "import plotly.express as px\n",
    "import chart_studio.plotly as py\n",
    "import matplotlib as mpl\n",
    "import matplotlib.pyplot as plt\n",
    "import seaborn as sns\n",
    "import docx\n",
    "import datetime as dt\n",
    "import pickle\n",
    "import random\n",
    "import math\n",
    "import time\n",
    "import os\n",
    "import re\n",
    "import colorsys\n",
    "import arrow\n",
    "import locale\n",
    "import requests\n",
    "import collections\n",
    "import numbers\n",
    "import decimal\n",
    "\n",
    "from warnings import simplefilter\n",
    "\n",
    "from scipy import stats\n",
    "from scipy.interpolate import make_interp_spline, BSpline\n",
    "from sklearn import preprocessing\n",
    "from sklearn.preprocessing import MinMaxScaler\n",
    "from matplotlib.lines import Line2D\n",
    "import matplotlib.dates as mdates"
   ]
  },
  {
   "cell_type": "code",
   "execution_count": 2,
   "id": "2f6fbc66-a4fd-4141-b939-9359ddc99d6a",
   "metadata": {},
   "outputs": [],
   "source": [
    "path_current = os.getcwd()\n",
    "path_main = os.path.sep.join(path_current.split(os.path.sep)[:-2])"
   ]
  },
  {
   "cell_type": "code",
   "execution_count": 3,
   "id": "e33fac2b-dd98-4088-8ad2-bf9201fefa24",
   "metadata": {},
   "outputs": [
    {
     "data": {
      "text/plain": [
       "'/Users/achasovsky/Library/CloudStorage/GoogleDrive-alexanderchasovsky@gmail.com/Мой диск/Data Science Projects/# economy-rus-dash/notebooks/data-prepare'"
      ]
     },
     "execution_count": 3,
     "metadata": {},
     "output_type": "execute_result"
    }
   ],
   "source": [
    "path_current"
   ]
  },
  {
   "cell_type": "code",
   "execution_count": 4,
   "id": "fea8c8ad-2f90-45d0-8da9-00990dd1bf42",
   "metadata": {},
   "outputs": [
    {
     "data": {
      "text/plain": [
       "'/Users/achasovsky/Library/CloudStorage/GoogleDrive-alexanderchasovsky@gmail.com/Мой диск/Data Science Projects/# economy-rus-dash'"
      ]
     },
     "execution_count": 4,
     "metadata": {},
     "output_type": "execute_result"
    }
   ],
   "source": [
    "path_main"
   ]
  },
  {
   "cell_type": "markdown",
   "id": "71577d41-3ca4-423a-81a5-9ad062863eed",
   "metadata": {},
   "source": [
    "### To main directory"
   ]
  },
  {
   "cell_type": "code",
   "execution_count": 5,
   "id": "7dd73736-f9f1-4dbe-bda0-ad97bb97cbf6",
   "metadata": {},
   "outputs": [],
   "source": [
    "# change directory to main path\n",
    "os.chdir(path_main)"
   ]
  },
  {
   "cell_type": "markdown",
   "id": "24e4ab22-ebd4-4a98-88f6-e90e67f0eaa2",
   "metadata": {},
   "source": [
    "### Load libraries, functions, palette, theme"
   ]
  },
  {
   "cell_type": "code",
   "execution_count": 6,
   "id": "875a8f50-d2bf-4b15-8f8c-bdc0913d6033",
   "metadata": {},
   "outputs": [],
   "source": [
    "# load libraries and palette\n",
    "%run __theme.ipynb"
   ]
  },
  {
   "cell_type": "code",
   "execution_count": 7,
   "id": "07623594-1404-4900-8760-57cbc4cadcbb",
   "metadata": {},
   "outputs": [],
   "source": [
    "# load functions\n",
    "# from __functions import *\n",
    "%run __functions.ipynb"
   ]
  },
  {
   "cell_type": "code",
   "execution_count": 8,
   "id": "da6c70cf-8594-423a-a08f-c48be160041d",
   "metadata": {},
   "outputs": [],
   "source": [
    "# start stopwatch\n",
    "start = stopwatch_start()"
   ]
  },
  {
   "cell_type": "markdown",
   "id": "fb7ba096-4563-4796-99f7-624e322475c7",
   "metadata": {},
   "source": [
    "### Variables"
   ]
  },
  {
   "cell_type": "code",
   "execution_count": 9,
   "id": "88f78c3d-cce0-46cb-9960-78cdefb6b0ab",
   "metadata": {},
   "outputs": [],
   "source": [
    "path_img = 'docs/img/'"
   ]
  },
  {
   "cell_type": "code",
   "execution_count": 10,
   "id": "e2cf6238-0e90-482b-82fd-e8558a512c47",
   "metadata": {},
   "outputs": [],
   "source": [
    "path_files = path_main + '/files'"
   ]
  },
  {
   "cell_type": "code",
   "execution_count": 11,
   "id": "23980069-3e37-4871-96a6-0cefcdad7eae",
   "metadata": {},
   "outputs": [],
   "source": [
    "path_excel_csv = path_main + '/excel-csv'"
   ]
  },
  {
   "cell_type": "markdown",
   "id": "26fd66a0-6311-4f6c-9c4c-50692003606b",
   "metadata": {},
   "source": [
    "### Load Files"
   ]
  },
  {
   "cell_type": "code",
   "execution_count": 12,
   "id": "3400b855-c10d-484f-8678-2c76e0e69f7f",
   "metadata": {},
   "outputs": [],
   "source": [
    "economics_data = loadit('economics_data', path=path_files, create_empty_dict=True)"
   ]
  },
  {
   "cell_type": "code",
   "execution_count": 13,
   "id": "5a6ec06d-4aae-40a9-9fee-2ec8b13558a0",
   "metadata": {},
   "outputs": [],
   "source": [
    "income = economics_data['households_income'].copy()"
   ]
  },
  {
   "cell_type": "markdown",
   "id": "66873aa8-a634-43ff-a563-b131d61823a5",
   "metadata": {},
   "source": [
    "### Back to notebook directory"
   ]
  },
  {
   "cell_type": "code",
   "execution_count": 14,
   "id": "3d785657-0853-4bb6-b124-e5a630701740",
   "metadata": {},
   "outputs": [],
   "source": [
    "# back to current path\n",
    "os.chdir(path_current)"
   ]
  },
  {
   "cell_type": "markdown",
   "id": "f93fc8ea-849a-426b-8563-f8183022b941",
   "metadata": {},
   "source": [
    "# Домохозяйства"
   ]
  },
  {
   "cell_type": "code",
   "execution_count": 16,
   "id": "8c6f7987-30ad-4093-be5c-09305334d8b4",
   "metadata": {},
   "outputs": [],
   "source": [
    "income_plot_data = income[income['Тип'] == 'Всего'].T[1:].iloc[:, -2:].copy()"
   ]
  },
  {
   "cell_type": "code",
   "execution_count": 17,
   "id": "ab5a38d2-5ca6-47f0-a025-02fda1da97dc",
   "metadata": {},
   "outputs": [],
   "source": [
    "income_plot_data['delta'] = \\\n",
    "    income_plot_data.iloc[:, 0] - income_plot_data.iloc[:, 1]"
   ]
  },
  {
   "cell_type": "code",
   "execution_count": 18,
   "id": "79b5d9fa-b904-4227-a0ef-8b72a9add94f",
   "metadata": {},
   "outputs": [
    {
     "name": "stderr",
     "output_type": "stream",
     "text": [
      "/var/folders/7_/v06wv5911_v97_5yw_ynf0w00000gn/T/ipykernel_83039/3073320293.py:3: FutureWarning: Downcasting object dtype arrays on .fillna, .ffill, .bfill is deprecated and will change in a future version. Call result.infer_objects(copy=False) instead. To opt-in to the future behavior, set `pd.set_option('future.no_silent_downcasting', True)`\n",
      "  .pct_change()\n",
      "/var/folders/7_/v06wv5911_v97_5yw_ynf0w00000gn/T/ipykernel_83039/3073320293.py:8: FutureWarning: Downcasting object dtype arrays on .fillna, .ffill, .bfill is deprecated and will change in a future version. Call result.infer_objects(copy=False) instead. To opt-in to the future behavior, set `pd.set_option('future.no_silent_downcasting', True)`\n",
      "  .pct_change()\n"
     ]
    }
   ],
   "source": [
    "income_plot_data['delta_town'] = \\\n",
    "    (income_plot_data['Домашние хозяйства, проживающиев городской местности']\n",
    "     .pct_change()\n",
    "     .mul(100))\n",
    "\n",
    "income_plot_data['delta_country'] = \\\n",
    "    (income_plot_data['Домашние хозяйства, проживающиев сельской местности']\n",
    "     .pct_change()\n",
    "     .mul(100))"
   ]
  },
  {
   "cell_type": "code",
   "execution_count": 19,
   "id": "64e453d9-fa6d-44ac-9279-73a1f79f8c9a",
   "metadata": {},
   "outputs": [],
   "source": [
    "income_plot_data['delta_pct'] = \\\n",
    "    income_plot_data['delta_town'] - income_plot_data['delta_country']"
   ]
  },
  {
   "cell_type": "code",
   "execution_count": 20,
   "id": "f21206dd-0d89-4595-8211-cfd16d35d801",
   "metadata": {},
   "outputs": [],
   "source": [
    "income_plot_data['country/town'] = \\\n",
    "    (income_plot_data['Домашние хозяйства, проживающиев сельской местности']\n",
    "     / income_plot_data['Домашние хозяйства, проживающиев городской местности'])"
   ]
  },
  {
   "cell_type": "code",
   "execution_count": 21,
   "id": "6237cef1-ac35-4449-9269-dc37dbefd234",
   "metadata": {},
   "outputs": [],
   "source": [
    "income_plot_data.index = income_plot_data.index.astype(int)"
   ]
  },
  {
   "cell_type": "code",
   "execution_count": 22,
   "id": "9b0a3f0f-442f-4283-9a66-45c23cdb0a24",
   "metadata": {},
   "outputs": [
    {
     "data": {
      "text/html": [
       "<div>\n",
       "<style scoped>\n",
       "    .dataframe tbody tr th:only-of-type {\n",
       "        vertical-align: middle;\n",
       "    }\n",
       "\n",
       "    .dataframe tbody tr th {\n",
       "        vertical-align: top;\n",
       "    }\n",
       "\n",
       "    .dataframe thead th {\n",
       "        text-align: right;\n",
       "    }\n",
       "</style>\n",
       "<table border=\"1\" class=\"dataframe\">\n",
       "  <thead>\n",
       "    <tr style=\"text-align: right;\">\n",
       "      <th></th>\n",
       "      <th>Домашние хозяйства, проживающиев городской местности</th>\n",
       "      <th>Домашние хозяйства, проживающиев сельской местности</th>\n",
       "      <th>delta</th>\n",
       "      <th>delta_town</th>\n",
       "      <th>delta_country</th>\n",
       "      <th>delta_pct</th>\n",
       "      <th>country/town</th>\n",
       "    </tr>\n",
       "  </thead>\n",
       "  <tbody>\n",
       "    <tr>\n",
       "      <th>2003</th>\n",
       "      <td>4009.0</td>\n",
       "      <td>2423.2</td>\n",
       "      <td>1585.8</td>\n",
       "      <td>NaN</td>\n",
       "      <td>NaN</td>\n",
       "      <td>NaN</td>\n",
       "      <td>0.60444</td>\n",
       "    </tr>\n",
       "    <tr>\n",
       "      <th>2004</th>\n",
       "      <td>5016.0</td>\n",
       "      <td>2851.3</td>\n",
       "      <td>2164.7</td>\n",
       "      <td>25.118483</td>\n",
       "      <td>17.666722</td>\n",
       "      <td>7.451762</td>\n",
       "      <td>0.568441</td>\n",
       "    </tr>\n",
       "    <tr>\n",
       "      <th>2005</th>\n",
       "      <td>6529.5</td>\n",
       "      <td>3604.7</td>\n",
       "      <td>2924.8</td>\n",
       "      <td>30.173445</td>\n",
       "      <td>26.423035</td>\n",
       "      <td>3.750410</td>\n",
       "      <td>0.552064</td>\n",
       "    </tr>\n",
       "    <tr>\n",
       "      <th>2006</th>\n",
       "      <td>7984.9</td>\n",
       "      <td>4495.4</td>\n",
       "      <td>3489.5</td>\n",
       "      <td>22.289609</td>\n",
       "      <td>24.709407</td>\n",
       "      <td>-2.419798</td>\n",
       "      <td>0.562988</td>\n",
       "    </tr>\n",
       "    <tr>\n",
       "      <th>2007</th>\n",
       "      <td>10354.6</td>\n",
       "      <td>5871.1</td>\n",
       "      <td>4483.5</td>\n",
       "      <td>29.677266</td>\n",
       "      <td>30.602394</td>\n",
       "      <td>-0.925128</td>\n",
       "      <td>0.567004</td>\n",
       "    </tr>\n",
       "    <tr>\n",
       "      <th>2008</th>\n",
       "      <td>13465.9</td>\n",
       "      <td>7786.5</td>\n",
       "      <td>5679.4</td>\n",
       "      <td>30.047515</td>\n",
       "      <td>32.624210</td>\n",
       "      <td>-2.576695</td>\n",
       "      <td>0.578238</td>\n",
       "    </tr>\n",
       "    <tr>\n",
       "      <th>2009</th>\n",
       "      <td>13869.4</td>\n",
       "      <td>8416.9</td>\n",
       "      <td>5452.5</td>\n",
       "      <td>2.996458</td>\n",
       "      <td>8.096064</td>\n",
       "      <td>-5.099606</td>\n",
       "      <td>0.606868</td>\n",
       "    </tr>\n",
       "    <tr>\n",
       "      <th>2010</th>\n",
       "      <td>16265.0</td>\n",
       "      <td>10128.7</td>\n",
       "      <td>6136.3</td>\n",
       "      <td>17.272557</td>\n",
       "      <td>20.337654</td>\n",
       "      <td>-3.065097</td>\n",
       "      <td>0.62273</td>\n",
       "    </tr>\n",
       "    <tr>\n",
       "      <th>2011</th>\n",
       "      <td>18291.1</td>\n",
       "      <td>11745.8</td>\n",
       "      <td>6545.3</td>\n",
       "      <td>12.456809</td>\n",
       "      <td>15.965524</td>\n",
       "      <td>-3.508715</td>\n",
       "      <td>0.642159</td>\n",
       "    </tr>\n",
       "    <tr>\n",
       "      <th>2012</th>\n",
       "      <td>20405.0</td>\n",
       "      <td>13320.3</td>\n",
       "      <td>7084.7</td>\n",
       "      <td>11.556987</td>\n",
       "      <td>13.404791</td>\n",
       "      <td>-1.847805</td>\n",
       "      <td>0.652796</td>\n",
       "    </tr>\n",
       "    <tr>\n",
       "      <th>2013</th>\n",
       "      <td>23645.0</td>\n",
       "      <td>14191.7</td>\n",
       "      <td>9453.3</td>\n",
       "      <td>15.878461</td>\n",
       "      <td>6.541895</td>\n",
       "      <td>9.336566</td>\n",
       "      <td>0.600199</td>\n",
       "    </tr>\n",
       "    <tr>\n",
       "      <th>2014</th>\n",
       "      <td>25347.5</td>\n",
       "      <td>15802.3</td>\n",
       "      <td>9545.2</td>\n",
       "      <td>7.200254</td>\n",
       "      <td>11.348887</td>\n",
       "      <td>-4.148633</td>\n",
       "      <td>0.623426</td>\n",
       "    </tr>\n",
       "    <tr>\n",
       "      <th>2015</th>\n",
       "      <td>25466.4</td>\n",
       "      <td>16639.7</td>\n",
       "      <td>8826.7</td>\n",
       "      <td>0.469080</td>\n",
       "      <td>5.299229</td>\n",
       "      <td>-4.830149</td>\n",
       "      <td>0.653398</td>\n",
       "    </tr>\n",
       "    <tr>\n",
       "      <th>2016</th>\n",
       "      <td>26719.7</td>\n",
       "      <td>16971.0</td>\n",
       "      <td>9748.7</td>\n",
       "      <td>4.921387</td>\n",
       "      <td>1.991021</td>\n",
       "      <td>2.930365</td>\n",
       "      <td>0.635149</td>\n",
       "    </tr>\n",
       "    <tr>\n",
       "      <th>2017</th>\n",
       "      <td>27206.8</td>\n",
       "      <td>18309.1</td>\n",
       "      <td>8897.7</td>\n",
       "      <td>1.823000</td>\n",
       "      <td>7.884627</td>\n",
       "      <td>-6.061627</td>\n",
       "      <td>0.67296</td>\n",
       "    </tr>\n",
       "    <tr>\n",
       "      <th>2018</th>\n",
       "      <td>29556.9</td>\n",
       "      <td>19188.5</td>\n",
       "      <td>10368.4</td>\n",
       "      <td>8.637914</td>\n",
       "      <td>4.803076</td>\n",
       "      <td>3.834838</td>\n",
       "      <td>0.649205</td>\n",
       "    </tr>\n",
       "    <tr>\n",
       "      <th>2019</th>\n",
       "      <td>31931.9</td>\n",
       "      <td>20360.8</td>\n",
       "      <td>11571.1</td>\n",
       "      <td>8.035349</td>\n",
       "      <td>6.109388</td>\n",
       "      <td>1.925960</td>\n",
       "      <td>0.637632</td>\n",
       "    </tr>\n",
       "    <tr>\n",
       "      <th>2020</th>\n",
       "      <td>31818.4</td>\n",
       "      <td>21432.4</td>\n",
       "      <td>10386.0</td>\n",
       "      <td>-0.355444</td>\n",
       "      <td>5.263054</td>\n",
       "      <td>-5.618498</td>\n",
       "      <td>0.673585</td>\n",
       "    </tr>\n",
       "    <tr>\n",
       "      <th>2021</th>\n",
       "      <td>34663.1</td>\n",
       "      <td>23232.2</td>\n",
       "      <td>11430.9</td>\n",
       "      <td>8.940424</td>\n",
       "      <td>8.397566</td>\n",
       "      <td>0.542858</td>\n",
       "      <td>0.670229</td>\n",
       "    </tr>\n",
       "    <tr>\n",
       "      <th>2022</th>\n",
       "      <td>38211.3</td>\n",
       "      <td>25650.2</td>\n",
       "      <td>12561.1</td>\n",
       "      <td>10.236245</td>\n",
       "      <td>10.407968</td>\n",
       "      <td>-0.171723</td>\n",
       "      <td>0.671273</td>\n",
       "    </tr>\n",
       "  </tbody>\n",
       "</table>\n",
       "</div>"
      ],
      "text/plain": [
       "     Домашние хозяйства, проживающиев городской местности  \\\n",
       "2003                                             4009.0     \n",
       "2004                                             5016.0     \n",
       "2005                                             6529.5     \n",
       "2006                                             7984.9     \n",
       "2007                                            10354.6     \n",
       "2008                                            13465.9     \n",
       "2009                                            13869.4     \n",
       "2010                                            16265.0     \n",
       "2011                                            18291.1     \n",
       "2012                                            20405.0     \n",
       "2013                                            23645.0     \n",
       "2014                                            25347.5     \n",
       "2015                                            25466.4     \n",
       "2016                                            26719.7     \n",
       "2017                                            27206.8     \n",
       "2018                                            29556.9     \n",
       "2019                                            31931.9     \n",
       "2020                                            31818.4     \n",
       "2021                                            34663.1     \n",
       "2022                                            38211.3     \n",
       "\n",
       "     Домашние хозяйства, проживающиев сельской местности    delta  delta_town  \\\n",
       "2003                                             2423.2    1585.8         NaN   \n",
       "2004                                             2851.3    2164.7   25.118483   \n",
       "2005                                             3604.7    2924.8   30.173445   \n",
       "2006                                             4495.4    3489.5   22.289609   \n",
       "2007                                             5871.1    4483.5   29.677266   \n",
       "2008                                             7786.5    5679.4   30.047515   \n",
       "2009                                             8416.9    5452.5    2.996458   \n",
       "2010                                            10128.7    6136.3   17.272557   \n",
       "2011                                            11745.8    6545.3   12.456809   \n",
       "2012                                            13320.3    7084.7   11.556987   \n",
       "2013                                            14191.7    9453.3   15.878461   \n",
       "2014                                            15802.3    9545.2    7.200254   \n",
       "2015                                            16639.7    8826.7    0.469080   \n",
       "2016                                            16971.0    9748.7    4.921387   \n",
       "2017                                            18309.1    8897.7    1.823000   \n",
       "2018                                            19188.5   10368.4    8.637914   \n",
       "2019                                            20360.8   11571.1    8.035349   \n",
       "2020                                            21432.4   10386.0   -0.355444   \n",
       "2021                                            23232.2   11430.9    8.940424   \n",
       "2022                                            25650.2   12561.1   10.236245   \n",
       "\n",
       "      delta_country  delta_pct country/town  \n",
       "2003            NaN        NaN      0.60444  \n",
       "2004      17.666722   7.451762     0.568441  \n",
       "2005      26.423035   3.750410     0.552064  \n",
       "2006      24.709407  -2.419798     0.562988  \n",
       "2007      30.602394  -0.925128     0.567004  \n",
       "2008      32.624210  -2.576695     0.578238  \n",
       "2009       8.096064  -5.099606     0.606868  \n",
       "2010      20.337654  -3.065097      0.62273  \n",
       "2011      15.965524  -3.508715     0.642159  \n",
       "2012      13.404791  -1.847805     0.652796  \n",
       "2013       6.541895   9.336566     0.600199  \n",
       "2014      11.348887  -4.148633     0.623426  \n",
       "2015       5.299229  -4.830149     0.653398  \n",
       "2016       1.991021   2.930365     0.635149  \n",
       "2017       7.884627  -6.061627      0.67296  \n",
       "2018       4.803076   3.834838     0.649205  \n",
       "2019       6.109388   1.925960     0.637632  \n",
       "2020       5.263054  -5.618498     0.673585  \n",
       "2021       8.397566   0.542858     0.670229  \n",
       "2022      10.407968  -0.171723     0.671273  "
      ]
     },
     "execution_count": 22,
     "metadata": {},
     "output_type": "execute_result"
    }
   ],
   "source": [
    "income_plot_data"
   ]
  },
  {
   "cell_type": "markdown",
   "id": "ab26c548-1f66-4cb2-a514-0460a4b2f85b",
   "metadata": {},
   "source": [
    "### Save Dataset"
   ]
  },
  {
   "cell_type": "code",
   "execution_count": 23,
   "id": "9122f2b4-e445-4ea5-932a-a779999149d1",
   "metadata": {},
   "outputs": [],
   "source": [
    "economics_data['households_income_difference'] = income_plot_data"
   ]
  },
  {
   "cell_type": "code",
   "execution_count": 24,
   "id": "441daf1b-f0bc-4bf5-b8a8-eca09ffacd3f",
   "metadata": {},
   "outputs": [
    {
     "name": "stdout",
     "output_type": "stream",
     "text": [
      "File 'economics_data.pkl' saved\n"
     ]
    }
   ],
   "source": [
    "saveit(\n",
    "    file=economics_data,\n",
    "    name='economics_data',\n",
    "    path=path_files\n",
    ")"
   ]
  },
  {
   "cell_type": "markdown",
   "id": "de96110f-7964-4b6c-9d9f-0424e1caa904",
   "metadata": {},
   "source": [
    "### Execution time"
   ]
  },
  {
   "cell_type": "code",
   "execution_count": 123,
   "id": "62238376-9abe-4f94-bd7b-36a42705bf23",
   "metadata": {},
   "outputs": [
    {
     "name": "stdout",
     "output_type": "stream",
     "text": [
      "Execution time: 0:00:01\n"
     ]
    }
   ],
   "source": [
    "stopwatch_stop(start)"
   ]
  }
 ],
 "metadata": {
  "kernelspec": {
   "display_name": "economy-rus",
   "language": "python",
   "name": "economy-rus"
  },
  "language_info": {
   "codemirror_mode": {
    "name": "ipython",
    "version": 3
   },
   "file_extension": ".py",
   "mimetype": "text/x-python",
   "name": "python",
   "nbconvert_exporter": "python",
   "pygments_lexer": "ipython3",
   "version": "3.12.3"
  }
 },
 "nbformat": 4,
 "nbformat_minor": 5
}
