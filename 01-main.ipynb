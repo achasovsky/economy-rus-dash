{
 "cells": [
  {
   "cell_type": "markdown",
   "id": "dcb349fb-2919-45dc-adae-23a35b98ed65",
   "metadata": {},
   "source": [
    "# Section I. Main"
   ]
  },
  {
   "cell_type": "markdown",
   "id": "24e4ab22-ebd4-4a98-88f6-e90e67f0eaa2",
   "metadata": {},
   "source": [
    "### Load libraries, functions, palette, theme"
   ]
  },
  {
   "cell_type": "raw",
   "id": "501afb18-0e94-45d6-9849-7aa31a5a2c94",
   "metadata": {},
   "source": [
    "import os\n",
    "from pathlib import Path"
   ]
  },
  {
   "cell_type": "code",
   "execution_count": 105,
   "id": "875a8f50-d2bf-4b15-8f8c-bdc0913d6033",
   "metadata": {},
   "outputs": [],
   "source": [
    "# load libraries and palette\n",
    "%run _libraries.ipynb"
   ]
  },
  {
   "cell_type": "code",
   "execution_count": 106,
   "id": "07623594-1404-4900-8760-57cbc4cadcbb",
   "metadata": {},
   "outputs": [],
   "source": [
    "# load functions\n",
    "# from __functions import *\n",
    "%run _functions.ipynb"
   ]
  },
  {
   "cell_type": "code",
   "execution_count": 3,
   "id": "da6c70cf-8594-423a-a08f-c48be160041d",
   "metadata": {},
   "outputs": [],
   "source": [
    "# start stopwatch\n",
    "start = stopwatch_start()"
   ]
  },
  {
   "cell_type": "markdown",
   "id": "fb7ba096-4563-4796-99f7-624e322475c7",
   "metadata": {},
   "source": [
    "### Variables"
   ]
  },
  {
   "cell_type": "code",
   "execution_count": 194,
   "id": "88f78c3d-cce0-46cb-9960-78cdefb6b0ab",
   "metadata": {},
   "outputs": [],
   "source": [
    "path_save_img = 'docs/img/'"
   ]
  },
  {
   "cell_type": "markdown",
   "id": "5a14bcd5-3ba8-48ad-9de3-1cbcbf413ce7",
   "metadata": {},
   "source": [
    "## World PCI"
   ]
  },
  {
   "cell_type": "code",
   "execution_count": 4,
   "id": "95a34ff2-7adc-4105-8644-29710da34365",
   "metadata": {},
   "outputs": [],
   "source": [
    "data = pd.read_excel('data/pci_world.xls', sheet_name='Data')"
   ]
  },
  {
   "cell_type": "code",
   "execution_count": 5,
   "id": "0495707d-fe50-4e9c-b827-7655ebe07467",
   "metadata": {},
   "outputs": [],
   "source": [
    "data.columns = data.iloc[2, :].copy()"
   ]
  },
  {
   "cell_type": "code",
   "execution_count": 6,
   "id": "56f79f12-b876-4253-adae-478ecb815cc9",
   "metadata": {},
   "outputs": [],
   "source": [
    "data = data.iloc[3:, :].copy()"
   ]
  },
  {
   "cell_type": "code",
   "execution_count": 7,
   "id": "2464a99a-87ba-46f7-8efb-a319cb37493e",
   "metadata": {},
   "outputs": [],
   "source": [
    "data.columns = [to_int(i) for i in data.columns]"
   ]
  },
  {
   "cell_type": "code",
   "execution_count": 8,
   "id": "b63ddb5f-3430-4e39-b3e1-3cb37551b1c8",
   "metadata": {},
   "outputs": [],
   "source": [
    "data.index = data['Country Name']"
   ]
  },
  {
   "cell_type": "code",
   "execution_count": 9,
   "id": "9dd1ee2e-c0c3-4c7f-b63a-64244a6a369f",
   "metadata": {},
   "outputs": [],
   "source": [
    "data.index.name = None"
   ]
  },
  {
   "cell_type": "code",
   "execution_count": 10,
   "id": "791197cc-fd01-4f84-adf1-9ece88445eda",
   "metadata": {},
   "outputs": [],
   "source": [
    "data = data.iloc[:, 4:].copy()"
   ]
  },
  {
   "cell_type": "code",
   "execution_count": 11,
   "id": "479d3cb2-f12b-4d37-aa50-a8a4d860ec61",
   "metadata": {},
   "outputs": [],
   "source": [
    "data = data.T.copy()"
   ]
  },
  {
   "cell_type": "code",
   "execution_count": 12,
   "id": "84744fd1-15db-4dfa-aa6e-b12cea249996",
   "metadata": {},
   "outputs": [],
   "source": [
    "data_rf = data.loc[data['Russian Federation'].notna(), 'Russian Federation'].copy()"
   ]
  },
  {
   "cell_type": "code",
   "execution_count": 164,
   "id": "4c960e4e-27a8-4286-b89e-3de288ae556f",
   "metadata": {},
   "outputs": [],
   "source": [
    "pio.templates['primetheme'] = go.layout.Template(\n",
    "    layout = {\n",
    "        'hidesources': True,\n",
    "        'autosize': False,\n",
    "        'width': 750,\n",
    "        'height': 250,\n",
    "        'margin': dict(\n",
    "            t=10, r=50, l=50, b=50, pad=120\n",
    "        ),\n",
    "        'font' : {\n",
    "            'family': 'Ubuntu',\n",
    "            'size': 10,\n",
    "        },\n",
    "        'title': {\n",
    "            'font': {\n",
    "                'family': 'Ubuntu',\n",
    "                'color': '#505050',\n",
    "                'size': 15\n",
    "            },\n",
    "            'x': 0.1,\n",
    "            'y': 0.95\n",
    "        },\n",
    "        'colorway': list(\n",
    "            (\n",
    "            #    0 : 0.3    1 red      2 blue     3 green    4 yellow\n",
    "                '#4B4B4B', '#AF4035', '#4682B4', '#2C8B6D', '#FFA500',\n",
    "            #    5 brown    6 khaki    7 purple   8 pink     9 orange\n",
    "                '#6C4839', '#9A7D4D', '#534D89', '#C95576', '#DE6535',\n",
    "            #   -10 dark   -9 blue    -8 blue    -7 blue    -6 ligt\n",
    "                '#304E68', '#3D6384', '#4D7DA8', '#6D9BC3', '#A7CBE8',\n",
    "            #   -5 : 0.2   -4 : 0.5   -3 : 0.65  -2 : 0.75  -1 : 0.85\n",
    "                '#353535', '#7F7F7F', '#A5A5A5', '#BFBFBF', '#D9D9D9')\n",
    "            ),\n",
    "        'dragmode': False,\n",
    "        'xaxis': dict(\n",
    "            anchor='free',\n",
    "            position=0,\n",
    "            color='#909090',\n",
    "            ticks='outside',\n",
    "            griddash='1px',\n",
    "            gridwidth=1,\n",
    "            gridcolor='#F9F9F9',\n",
    "            linecolor='#E1E1E1',\n",
    "            linewidth=1,\n",
    "            ticklen=5,\n",
    "            tickcolor='#FCFCFC',\n",
    "            showgrid=True,\n",
    "            showline=True,\n",
    "            showticklabels=True,\n",
    "            zeroline=False,\n",
    "            title={\n",
    "                'font': dict(\n",
    "                    color='#808080'),\n",
    "                'standoff': 10},\n",
    "            tickangle=0,\n",
    "        ),\n",
    "        'yaxis': dict(\n",
    "            anchor='free',\n",
    "            color='#909090',\n",
    "            ticks='outside',\n",
    "            griddash='1px',\n",
    "            gridwidth=1,\n",
    "            gridcolor='#F9F9F9',\n",
    "            linecolor='#E1E1E1',\n",
    "            linewidth=1,\n",
    "            ticklen=5,\n",
    "            tickcolor='#FCFCFC',\n",
    "            position=0,\n",
    "            showgrid=True,\n",
    "            showline=True,\n",
    "            showticklabels=True,\n",
    "            zeroline=False,\n",
    "            title={\n",
    "                'font': dict(\n",
    "                    color='#808080'),\n",
    "                'standoff': 10},\n",
    "            tickangle=0\n",
    "        ),\n",
    "        'legend': dict(\n",
    "            title={\n",
    "                'font': {\n",
    "                    'family': 'Ubuntu',\n",
    "                    'color': '#4B4B4B',\n",
    "                    'size': 12,\n",
    "                    'style': 'normal',\n",
    "                    'weight': 'bold'\n",
    "                }\n",
    "            },\n",
    "            font={\n",
    "                'family': 'Ubuntu',\n",
    "                'color': '#808080',\n",
    "                'size': 10,\n",
    "                'style': 'normal',\n",
    "                'weight': 'normal'\n",
    "            },\n",
    "            orientation='h',\n",
    "            yanchor=\"top\",\n",
    "            y=1.25,\n",
    "            xanchor=\"left\",\n",
    "            x=0,\n",
    "            entrywidth=50,\n",
    "            itemsizing='trace', itemwidth=30, tracegroupgap=10, indentation=20),\n",
    "        # 'paper_bgcolor': 'rgba(0,0,0,0)',\n",
    "        # 'plot_bgcolor': 'rgba(0,0,0,0)',\n",
    "    },\n",
    "    data = {\n",
    "        # Each graph object must be in a tuple or list for each trace\n",
    "        'bar': [\n",
    "            go.Bar(\n",
    "                texttemplate ='%{value:$.2s}',\n",
    "                textposition='outside',\n",
    "                textfont= {\n",
    "                    'family': 'Ubuntu',\n",
    "                    'size': 10,\n",
    "                    'color': '#FFFFFF'\n",
    "                    })\n",
    "            ],\n",
    "        'scatter': [\n",
    "            go.Scatter(\n",
    "                line={\n",
    "                    'width': 1.75},\n",
    "                marker={\n",
    "                    'size': 3.5}\n",
    "            )\n",
    "        ]\n",
    "    }\n",
    ")\n",
    "\n",
    "pio.templates.default = 'primetheme'\n",
    "palette = pio.templates['primetheme'].layout.colorway"
   ]
  },
  {
   "cell_type": "code",
   "execution_count": 196,
   "id": "191e330e-2272-4168-987b-6fe47d91b17d",
   "metadata": {},
   "outputs": [
    {
     "data": {
      "application/vnd.plotly.v1+json": {
       "config": {
        "displayModeBar": true,
        "displaylogo": false,
        "locale": "ru",
        "modeBarButtonsToRemove": [
         "zoom",
         "pan",
         "zoomIn2d",
         "zoomOut2d",
         "autoScale2d"
        ],
        "plotlyServerURL": "https://plotly.com",
        "responsive": true,
        "scrollZoom": false,
        "toImageButtonOptions": {
         "filename": "custom_image",
         "format": "svg",
         "height": null,
         "scale": 1,
         "width": null
        }
       },
       "data": [
        {
         "line": {
          "color": "#4B4B4B"
         },
         "mode": "lines",
         "name": "Finland",
         "type": "scatter",
         "x": [
          1960,
          1961,
          1962,
          1963,
          1964,
          1965,
          1966,
          1967,
          1968,
          1969,
          1970,
          1971,
          1972,
          1973,
          1974,
          1975,
          1976,
          1977,
          1978,
          1979,
          1980,
          1981,
          1982,
          1983,
          1984,
          1985,
          1986,
          1987,
          1988,
          1989,
          1990,
          1991,
          1992,
          1993,
          1994,
          1995,
          1996,
          1997,
          1998,
          1999,
          2000,
          2001,
          2002,
          2003,
          2004,
          2005,
          2006,
          2007,
          2008,
          2009,
          2010,
          2011,
          2012,
          2013,
          2014,
          2015,
          2016,
          2017,
          2018,
          2019,
          2020,
          2021,
          2022,
          2023
         ],
         "y": [
          3.41812725350792,
          1.69100191533953,
          4.38398278172668,
          4.99638188645285,
          10.2758607417486,
          4.94058806755308,
          3.87365401861324,
          5.37778183372858,
          9.19166799519512,
          2.20561093521246,
          2.7404204305122,
          6.47576543061856,
          6.66249783515328,
          10.7544718831368,
          16.9363999989274,
          17.8113972340213,
          14.3426930852257,
          11.7933469184054,
          7.79935074552145,
          7.46696151310738,
          11.5946192492107,
          11.3057566509549,
          9.58492764677445,
          8.3662926064564,
          7.06765638328172,
          5.19562195429435,
          2.93357920442327,
          4.11302886205058,
          5.08592861394881,
          6.59290980189131,
          6.1495653117985,
          4.31021289843465,
          2.91932319285011,
          2.19065319556437,
          1.08855677589405,
          0.791239406938498,
          0.629194238120966,
          1.19255883425839,
          1.3994737857984,
          1.16223155669444,
          3.04210080667795,
          2.57844080098896,
          1.5712201278938,
          0.877440386254785,
          0.187120559084418,
          0.623874450025191,
          1.56666380704386,
          2.5106656524034,
          4.06595355358379,
          -9.17360384430342e-07,
          1.18413523154646,
          3.41680754255211,
          2.80833622561574,
          1.4782861568881,
          1.04119621178439,
          -0.207928839905268,
          0.356684500891695,
          0.754015047084346,
          1.08382098409305,
          1.02409392963431,
          0.290554555653239,
          2.19457432340007,
          7.12350773301402,
          null
         ]
        },
        {
         "mode": "lines",
         "name": "Norway",
         "type": "scatter",
         "x": [
          1960,
          1961,
          1962,
          1963,
          1964,
          1965,
          1966,
          1967,
          1968,
          1969,
          1970,
          1971,
          1972,
          1973,
          1974,
          1975,
          1976,
          1977,
          1978,
          1979,
          1980,
          1981,
          1982,
          1983,
          1984,
          1985,
          1986,
          1987,
          1988,
          1989,
          1990,
          1991,
          1992,
          1993,
          1994,
          1995,
          1996,
          1997,
          1998,
          1999,
          2000,
          2001,
          2002,
          2003,
          2004,
          2005,
          2006,
          2007,
          2008,
          2009,
          2010,
          2011,
          2012,
          2013,
          2014,
          2015,
          2016,
          2017,
          2018,
          2019,
          2020,
          2021,
          2022,
          2023
         ],
         "y": [
          0.360492346844622,
          2.15517277670922,
          5.27425952920732,
          2.47161052896497,
          5.86701538751922,
          4.18722443998004,
          3.250563343053,
          4.57926975753999,
          3.44829324254207,
          2.96294951075211,
          10.6372065264183,
          6.22386323501293,
          7.25843582961521,
          7.41947283637503,
          9.4117681321189,
          11.6892234816854,
          9.16147276547562,
          9.10383971160298,
          8.1616715433962,
          4.50972761206209,
          10.878661087866,
          13.6429608127722,
          11.3409961685824,
          8.46524432209222,
          6.21827411167512,
          5.71485463958579,
          7.17649274816357,
          8.71704745166956,
          6.67636598771417,
          4.54614335505379,
          4.1310334831135,
          3.43819599109134,
          2.32808504911857,
          2.28826933193057,
          1.3756749807148,
          2.46036778693724,
          1.26253249164502,
          2.56692335900259,
          2.25241329996423,
          2.36596736596734,
          3.08550609131276,
          3.00419703998237,
          1.28672528415184,
          2.48782553461783,
          0.45449850222084,
          1.53213367609254,
          2.32934980757544,
          0.712589073634201,
          3.75393081761005,
          2.19738586853574,
          2.41890639481001,
          1.28495158809152,
          0.696864111498362,
          2.12048620353112,
          2.04170286707211,
          2.17113665389527,
          3.54999999999998,
          1.87510059552554,
          2.76483134528788,
          2.16773003305402,
          1.28658490708005,
          3.48388055266678,
          5.76412317852272,
          null
         ]
        },
        {
         "line": {
          "color": "#4682B4"
         },
         "mode": "lines",
         "name": "Sweden",
         "type": "scatter",
         "x": [
          1960,
          1961,
          1962,
          1963,
          1964,
          1965,
          1966,
          1967,
          1968,
          1969,
          1970,
          1971,
          1972,
          1973,
          1974,
          1975,
          1976,
          1977,
          1978,
          1979,
          1980,
          1981,
          1982,
          1983,
          1984,
          1985,
          1986,
          1987,
          1988,
          1989,
          1990,
          1991,
          1992,
          1993,
          1994,
          1995,
          1996,
          1997,
          1998,
          1999,
          2000,
          2001,
          2002,
          2003,
          2004,
          2005,
          2006,
          2007,
          2008,
          2009,
          2010,
          2011,
          2012,
          2013,
          2014,
          2015,
          2016,
          2017,
          2018,
          2019,
          2020,
          2021,
          2022,
          2023
         ],
         "y": [
          4.14177915090215,
          2.15797310981964,
          4.76619721905823,
          2.8717403448577,
          3.38766231088349,
          5.01277129643838,
          6.40480825348414,
          4.28931922993319,
          1.94312582473244,
          2.691994585557,
          7.01635885100763,
          7.39554113837636,
          6.00738969862495,
          6.71799739819354,
          9.91172530113238,
          9.77987398822576,
          10.2492246529784,
          11.4418051091077,
          9.99526541717732,
          7.20978617047808,
          13.7063223649005,
          12.1039385302598,
          8.58918509047123,
          8.87302152363213,
          8.04424238994422,
          7.37257458126246,
          4.23591011089793,
          4.18857151771368,
          5.82489868439437,
          6.4432758742661,
          10.3665533879493,
          9.4446273294419,
          2.3743672511188,
          4.72817304626053,
          2.15813800724632,
          2.45514857818395,
          0.533131978766297,
          0.658410256243514,
          -0.267132668355006,
          0.462175756339173,
          0.899143734041633,
          2.40595834145438,
          2.15848213589264,
          1.92565534892391,
          0.373659828721813,
          0.453170852576182,
          1.3602146862768,
          2.21216883436735,
          3.43704910602874,
          -0.494460544377991,
          1.15798802715628,
          2.9611507382214,
          0.888377506923638,
          -0.0442929701485858,
          -0.179638494114635,
          -0.0467847449832812,
          0.984269244577992,
          1.79449904665589,
          1.95353530127028,
          1.78415097403835,
          0.497367318853572,
          2.16319736447153,
          8.36929098869189,
          null
         ]
        }
       ],
       "layout": {
        "autosize": false,
        "height": 300,
        "margin": {
         "t": 75
        },
        "template": {
         "data": {
          "bar": [
           {
            "textfont": {
             "color": "#FFFFFF",
             "family": "Ubuntu",
             "size": 10
            },
            "textposition": "outside",
            "texttemplate": "%{value:$.2s}",
            "type": "bar"
           }
          ],
          "scatter": [
           {
            "line": {
             "width": 1.75
            },
            "marker": {
             "size": 3.5
            },
            "type": "scatter"
           }
          ]
         },
         "layout": {
          "autosize": false,
          "colorway": [
           "#4B4B4B",
           "#AF4035",
           "#4682B4",
           "#2C8B6D",
           "#FFA500",
           "#6C4839",
           "#9A7D4D",
           "#534D89",
           "#C95576",
           "#DE6535",
           "#304E68",
           "#3D6384",
           "#4D7DA8",
           "#6D9BC3",
           "#A7CBE8",
           "#353535",
           "#7F7F7F",
           "#A5A5A5",
           "#BFBFBF",
           "#D9D9D9"
          ],
          "dragmode": false,
          "font": {
           "family": "Ubuntu",
           "size": 10
          },
          "height": 250,
          "hidesources": true,
          "legend": {
           "entrywidth": 50,
           "font": {
            "color": "#808080",
            "family": "Ubuntu",
            "size": 10,
            "style": "normal",
            "weight": "normal"
           },
           "indentation": 20,
           "itemsizing": "trace",
           "itemwidth": 30,
           "orientation": "h",
           "title": {
            "font": {
             "color": "#4B4B4B",
             "family": "Ubuntu",
             "size": 12,
             "style": "normal",
             "weight": "bold"
            }
           },
           "tracegroupgap": 10,
           "x": 0,
           "xanchor": "left",
           "y": 1.25,
           "yanchor": "top"
          },
          "margin": {
           "b": 50,
           "l": 50,
           "pad": 120,
           "r": 50,
           "t": 10
          },
          "title": {
           "font": {
            "color": "#505050",
            "family": "Ubuntu",
            "size": 15
           },
           "x": 0.1,
           "y": 0.95
          },
          "width": 750,
          "xaxis": {
           "anchor": "free",
           "color": "#909090",
           "gridcolor": "#F9F9F9",
           "griddash": "1px",
           "gridwidth": 1,
           "linecolor": "#E1E1E1",
           "linewidth": 1,
           "position": 0,
           "showgrid": true,
           "showline": true,
           "showticklabels": true,
           "tickangle": 0,
           "tickcolor": "#FCFCFC",
           "ticklen": 5,
           "ticks": "outside",
           "title": {
            "font": {
             "color": "#808080"
            },
            "standoff": 10
           },
           "zeroline": false
          },
          "yaxis": {
           "anchor": "free",
           "color": "#909090",
           "gridcolor": "#F9F9F9",
           "griddash": "1px",
           "gridwidth": 1,
           "linecolor": "#E1E1E1",
           "linewidth": 1,
           "position": 0,
           "showgrid": true,
           "showline": true,
           "showticklabels": true,
           "tickangle": 0,
           "tickcolor": "#FCFCFC",
           "ticklen": 5,
           "ticks": "outside",
           "title": {
            "font": {
             "color": "#808080"
            },
            "standoff": 10
           },
           "zeroline": false
          }
         }
        },
        "title": {
         "font": {
          "size": 15
         },
         "text": "PCI Northen Europe"
        },
        "width": 800,
        "xaxis": {
         "autorange": true,
         "range": [
          1960,
          2023
         ],
         "side": "right",
         "title": {
          "standoff": 10,
          "text": "xLabel"
         },
         "type": "linear"
        },
        "yaxis": {
         "autorange": true,
         "range": [
          -1.5114526431779516,
          18.82838933282126
         ],
         "title": {
          "standoff": 10,
          "text": "yLabel"
         },
         "type": "linear"
        }
       }
      },
      "image/png": "[encoded data removed]",
      "text/html": [
       "<div>                            <div id=\"ac40b35f-32ff-4f28-a6c5-48255177ac17\" class=\"plotly-graph-div\" style=\"height:300px; width:800px;\"></div>            <script type=\"text/javascript\">                require([\"plotly\"], function(Plotly) {                    window.PLOTLYENV=window.PLOTLYENV || {};                                    if (document.getElementById(\"ac40b35f-32ff-4f28-a6c5-48255177ac17\")) {                    Plotly.newPlot(                        \"ac40b35f-32ff-4f28-a6c5-48255177ac17\",                        [{\"line\":{\"color\":\"#4B4B4B\"},\"mode\":\"lines\",\"name\":\"Finland\",\"x\":[1960,1961,1962,1963,1964,1965,1966,1967,1968,1969,1970,1971,1972,1973,1974,1975,1976,1977,1978,1979,1980,1981,1982,1983,1984,1985,1986,1987,1988,1989,1990,1991,1992,1993,1994,1995,1996,1997,1998,1999,2000,2001,2002,2003,2004,2005,2006,2007,2008,2009,2010,2011,2012,2013,2014,2015,2016,2017,2018,2019,2020,2021,2022,2023],\"y\":[3.41812725350792,1.69100191533953,4.38398278172668,4.99638188645285,10.2758607417486,4.94058806755308,3.87365401861324,5.37778183372858,9.19166799519512,2.20561093521246,2.7404204305122,6.47576543061856,6.66249783515328,10.7544718831368,16.9363999989274,17.8113972340213,14.3426930852257,11.7933469184054,7.79935074552145,7.46696151310738,11.5946192492107,11.3057566509549,9.58492764677445,8.3662926064564,7.06765638328172,5.19562195429435,2.93357920442327,4.11302886205058,5.08592861394881,6.59290980189131,6.1495653117985,4.31021289843465,2.91932319285011,2.19065319556437,1.08855677589405,0.791239406938498,0.629194238120966,1.19255883425839,1.3994737857984,1.16223155669444,3.04210080667795,2.57844080098896,1.5712201278938,0.877440386254785,0.187120559084418,0.623874450025191,1.56666380704386,2.5106656524034,4.06595355358379,-9.17360384430342e-07,1.18413523154646,3.41680754255211,2.80833622561574,1.4782861568881,1.04119621178439,-0.207928839905268,0.356684500891695,0.754015047084346,1.08382098409305,1.02409392963431,0.290554555653239,2.19457432340007,7.12350773301402,null],\"type\":\"scatter\"},{\"mode\":\"lines\",\"name\":\"Norway\",\"x\":[1960,1961,1962,1963,1964,1965,1966,1967,1968,1969,1970,1971,1972,1973,1974,1975,1976,1977,1978,1979,1980,1981,1982,1983,1984,1985,1986,1987,1988,1989,1990,1991,1992,1993,1994,1995,1996,1997,1998,1999,2000,2001,2002,2003,2004,2005,2006,2007,2008,2009,2010,2011,2012,2013,2014,2015,2016,2017,2018,2019,2020,2021,2022,2023],\"y\":[0.360492346844622,2.15517277670922,5.27425952920732,2.47161052896497,5.86701538751922,4.18722443998004,3.250563343053,4.57926975753999,3.44829324254207,2.96294951075211,10.6372065264183,6.22386323501293,7.25843582961521,7.41947283637503,9.4117681321189,11.6892234816854,9.16147276547562,9.10383971160298,8.1616715433962,4.50972761206209,10.878661087866,13.6429608127722,11.3409961685824,8.46524432209222,6.21827411167512,5.71485463958579,7.17649274816357,8.71704745166956,6.67636598771417,4.54614335505379,4.1310334831135,3.43819599109134,2.32808504911857,2.28826933193057,1.3756749807148,2.46036778693724,1.26253249164502,2.56692335900259,2.25241329996423,2.36596736596734,3.08550609131276,3.00419703998237,1.28672528415184,2.48782553461783,0.45449850222084,1.53213367609254,2.32934980757544,0.712589073634201,3.75393081761005,2.19738586853574,2.41890639481001,1.28495158809152,0.696864111498362,2.12048620353112,2.04170286707211,2.17113665389527,3.54999999999998,1.87510059552554,2.76483134528788,2.16773003305402,1.28658490708005,3.48388055266678,5.76412317852272,null],\"type\":\"scatter\"},{\"line\":{\"color\":\"#4682B4\"},\"mode\":\"lines\",\"name\":\"Sweden\",\"x\":[1960,1961,1962,1963,1964,1965,1966,1967,1968,1969,1970,1971,1972,1973,1974,1975,1976,1977,1978,1979,1980,1981,1982,1983,1984,1985,1986,1987,1988,1989,1990,1991,1992,1993,1994,1995,1996,1997,1998,1999,2000,2001,2002,2003,2004,2005,2006,2007,2008,2009,2010,2011,2012,2013,2014,2015,2016,2017,2018,2019,2020,2021,2022,2023],\"y\":[4.14177915090215,2.15797310981964,4.76619721905823,2.8717403448577,3.38766231088349,5.01277129643838,6.40480825348414,4.28931922993319,1.94312582473244,2.691994585557,7.01635885100763,7.39554113837636,6.00738969862495,6.71799739819354,9.91172530113238,9.77987398822576,10.2492246529784,11.4418051091077,9.99526541717732,7.20978617047808,13.7063223649005,12.1039385302598,8.58918509047123,8.87302152363213,8.04424238994422,7.37257458126246,4.23591011089793,4.18857151771368,5.82489868439437,6.4432758742661,10.3665533879493,9.4446273294419,2.3743672511188,4.72817304626053,2.15813800724632,2.45514857818395,0.533131978766297,0.658410256243514,-0.267132668355006,0.462175756339173,0.899143734041633,2.40595834145438,2.15848213589264,1.92565534892391,0.373659828721813,0.453170852576182,1.3602146862768,2.21216883436735,3.43704910602874,-0.494460544377991,1.15798802715628,2.9611507382214,0.888377506923638,-0.0442929701485858,-0.179638494114635,-0.0467847449832812,0.984269244577992,1.79449904665589,1.95353530127028,1.78415097403835,0.497367318853572,2.16319736447153,8.36929098869189,null],\"type\":\"scatter\"}],                        {\"template\":{\"data\":{\"bar\":[{\"textfont\":{\"color\":\"#FFFFFF\",\"family\":\"Ubuntu\",\"size\":10},\"textposition\":\"outside\",\"texttemplate\":\"%{value:$.2s}\",\"type\":\"bar\"}],\"scatter\":[{\"line\":{\"width\":1.75},\"marker\":{\"size\":3.5},\"type\":\"scatter\"}]},\"layout\":{\"autosize\":false,\"colorway\":[\"#4B4B4B\",\"#AF4035\",\"#4682B4\",\"#2C8B6D\",\"#FFA500\",\"#6C4839\",\"#9A7D4D\",\"#534D89\",\"#C95576\",\"#DE6535\",\"#304E68\",\"#3D6384\",\"#4D7DA8\",\"#6D9BC3\",\"#A7CBE8\",\"#353535\",\"#7F7F7F\",\"#A5A5A5\",\"#BFBFBF\",\"#D9D9D9\"],\"dragmode\":false,\"font\":{\"family\":\"Ubuntu\",\"size\":10},\"height\":250,\"hidesources\":true,\"legend\":{\"entrywidth\":50,\"font\":{\"color\":\"#808080\",\"family\":\"Ubuntu\",\"size\":10,\"style\":\"normal\",\"weight\":\"normal\"},\"indentation\":20,\"itemsizing\":\"trace\",\"itemwidth\":30,\"orientation\":\"h\",\"title\":{\"font\":{\"color\":\"#4B4B4B\",\"family\":\"Ubuntu\",\"size\":12,\"style\":\"normal\",\"weight\":\"bold\"}},\"tracegroupgap\":10,\"x\":0,\"xanchor\":\"left\",\"y\":1.25,\"yanchor\":\"top\"},\"margin\":{\"b\":50,\"l\":50,\"pad\":120,\"r\":50,\"t\":10},\"title\":{\"font\":{\"color\":\"#505050\",\"family\":\"Ubuntu\",\"size\":15},\"x\":0.1,\"y\":0.95},\"width\":750,\"xaxis\":{\"anchor\":\"free\",\"color\":\"#909090\",\"gridcolor\":\"#F9F9F9\",\"griddash\":\"1px\",\"gridwidth\":1,\"linecolor\":\"#E1E1E1\",\"linewidth\":1,\"position\":0,\"showgrid\":true,\"showline\":true,\"showticklabels\":true,\"tickangle\":0,\"tickcolor\":\"#FCFCFC\",\"ticklen\":5,\"ticks\":\"outside\",\"title\":{\"font\":{\"color\":\"#808080\"},\"standoff\":10},\"zeroline\":false},\"yaxis\":{\"anchor\":\"free\",\"color\":\"#909090\",\"gridcolor\":\"#F9F9F9\",\"griddash\":\"1px\",\"gridwidth\":1,\"linecolor\":\"#E1E1E1\",\"linewidth\":1,\"position\":0,\"showgrid\":true,\"showline\":true,\"showticklabels\":true,\"tickangle\":0,\"tickcolor\":\"#FCFCFC\",\"ticklen\":5,\"ticks\":\"outside\",\"title\":{\"font\":{\"color\":\"#808080\"},\"standoff\":10},\"zeroline\":false}}},\"autosize\":false,\"width\":800,\"height\":300,\"xaxis\":{\"title\":{\"text\":\"xLabel\",\"standoff\":10},\"side\":\"right\"},\"yaxis\":{\"title\":{\"text\":\"yLabel\",\"standoff\":10}},\"title\":{\"text\":\"PCI Northen Europe\",\"font\":{\"size\":15}},\"margin\":{\"t\":75.0}},                        {\"scrollZoom\": false, \"displaylogo\": false, \"displayModeBar\": true, \"locale\": \"ru\", \"responsive\": true, \"toImageButtonOptions\": {\"format\": \"svg\", \"filename\": \"custom_image\", \"height\": null, \"width\": null, \"scale\": 1}, \"modeBarButtonsToRemove\": [\"zoom\", \"pan\", \"zoomIn2d\", \"zoomOut2d\", \"autoScale2d\"]}                    ).then(function(){\n",
       "                            \n",
       "var gd = document.getElementById('ac40b35f-32ff-4f28-a6c5-48255177ac17');\n",
       "var x = new MutationObserver(function (mutations, observer) {{\n",
       "        var display = window.getComputedStyle(gd).display;\n",
       "        if (!display || display === 'none') {{\n",
       "            console.log([gd, 'removed!']);\n",
       "            Plotly.purge(gd);\n",
       "            observer.disconnect();\n",
       "        }}\n",
       "}});\n",
       "\n",
       "// Listen for the removal of the full notebook cells\n",
       "var notebookContainer = gd.closest('#notebook-container');\n",
       "if (notebookContainer) {{\n",
       "    x.observe(notebookContainer, {childList: true});\n",
       "}}\n",
       "\n",
       "// Listen for the clearing of the current output cell\n",
       "var outputEl = gd.closest('.output');\n",
       "if (outputEl) {{\n",
       "    x.observe(outputEl, {childList: true});\n",
       "}}\n",
       "\n",
       "                        })                };                });            </script>        </div>"
      ]
     },
     "metadata": {},
     "output_type": "display_data"
    }
   ],
   "source": [
    "fig = pl_figure(figsize=(800, 300))\n",
    "\n",
    "pl_plot(\n",
    "    go.Scatter(x=data.index, y=data['Finland'], mode='lines', line_color=palette[0], name='Finland'), fig)\n",
    "pl_plot(\n",
    "    go.Scatter(x=data.index, y=data['Norway'], mode='lines', name='Norway'), fig)\n",
    "pl_plot(\n",
    "    go.Scatter(x=data.index, y=data['Sweden'], mode='lines', line_color=palette[2], name='Sweden'), fig)\n",
    "\n",
    "pl_labels(x='xLabel', y='yLabel', fig=fig)\n",
    "pl_title('PCI Northen Europe', size=15, fig=fig)\n",
    "# pl_rstyle(xticks=[1960, 2025, 5], yticks=[0, 20, 5], ylim=[-1, 20])\n",
    "\n",
    "fig.show(config=config)\n",
    "pl_savefig(fig, 'pci_scandinavia', dir=path_save_img, config=config)"
   ]
  },
  {
   "cell_type": "raw",
   "id": "5f3cd0b2-9c58-4bca-ab23-b3b82643bc5a",
   "metadata": {},
   "source": [
    "py.plot(fig, filename='test', auto_open=False)"
   ]
  },
  {
   "cell_type": "code",
   "execution_count": 187,
   "id": "acf6e067-118e-4af3-8da4-602a2aeb9439",
   "metadata": {},
   "outputs": [],
   "source": [
    "def pl_savefig(fig, name=None, dir=None, config=None, fmt='html'):\n",
    "    \n",
    "    if fmt == 'chart_studio':\n",
    "        py.plot(fig, filename=name, auto_open=False, config=config)\n",
    "        print(\"Figure saved into Chart-studio\")\n",
    "        \n",
    "    elif fmt == 'html':\n",
    "        filename = dir+'/'+name+'.'+fmt\n",
    "        plotly.offline.plot(fig, filename=filename, config=config, auto_open=False)\n",
    "        \n",
    "    else:\n",
    "        # check if dir exists and create it if not\n",
    "        if dir is None:\n",
    "            dir = os.getcwd()\n",
    "        if not os.path.exists(dir):\n",
    "            os.makedirs(dir)\n",
    "\n",
    "        filename = dir+'/'+name+'.'+fmt\n",
    "        fig.write_image(filename, engine='kaleido')\n",
    "        \n",
    "        print(f\"File '{name+'.'+fmt}' saved into folder '{dir.split(os.sep)[-1]}'\")"
   ]
  },
  {
   "cell_type": "code",
   "execution_count": null,
   "id": "9e21a665-870b-466e-8219-2e93a089b61f",
   "metadata": {},
   "outputs": [],
   "source": [
    "config=dict(scrollZoom=True, showLink=False)"
   ]
  },
  {
   "cell_type": "code",
   "execution_count": 185,
   "id": "b1ccf4c6-1db5-4a2e-b9b7-2c023f44a975",
   "metadata": {},
   "outputs": [],
   "source": [
    "config = dict(\n",
    "    scrollZoom=False,\n",
    "    showLink=False,\n",
    "    displaylogo=False,\n",
    "    displayModeBar=True,\n",
    "    locale='ru',\n",
    "    responsive=True,\n",
    "    toImageButtonOptions = {\n",
    "        'format': 'svg', # one of png, svg, jpeg, webp\n",
    "        'filename': 'custom_image',\n",
    "        'height': None,\n",
    "        'width': None,\n",
    "        'scale': 1 # Multiply title/legend/axis/canvas sizes by this factor\n",
    "        },\n",
    "    # double click on plot - reset scale\n",
    "    modeBarButtonsToRemove = [\n",
    "        'zoom',\n",
    "        'pan',\n",
    "        'zoomIn2d',\n",
    "        'zoomOut2d',\n",
    "        'autoScale2d',\n",
    "        # 'resetScale2d',\n",
    "        \n",
    "    ]\n",
    ")"
   ]
  },
  {
   "cell_type": "code",
   "execution_count": null,
   "id": "27757359-c048-4c1a-980b-b519020e46c7",
   "metadata": {},
   "outputs": [],
   "source": []
  },
  {
   "cell_type": "code",
   "execution_count": null,
   "id": "43654b2d-6ac5-4395-9203-d7d462dccd9f",
   "metadata": {},
   "outputs": [],
   "source": []
  },
  {
   "cell_type": "code",
   "execution_count": 201,
   "id": "2f6a3f45-9634-449c-9127-9c1585eb8a4b",
   "metadata": {},
   "outputs": [
    {
     "data": {
      "text/plain": [
       "[<matplotlib.lines.Line2D at 0x12abeb740>]"
      ]
     },
     "execution_count": 201,
     "metadata": {},
     "output_type": "execute_result"
    },
    {
     "data": {
      "image/png": "[encoded data removed]",
      "text/plain": [
       "<Figure size 900x250 with 1 Axes>"
      ]
     },
     "metadata": {},
     "output_type": "display_data"
    }
   ],
   "source": [
    "plt.plot(data.loc[1960:, 'United States'])"
   ]
  },
  {
   "cell_type": "code",
   "execution_count": null,
   "id": "226a2de0-32de-45a6-aa3c-ab71dbe37036",
   "metadata": {},
   "outputs": [],
   "source": []
  },
  {
   "cell_type": "code",
   "execution_count": null,
   "id": "48c77726-3126-405c-9da3-fd183b8f6184",
   "metadata": {},
   "outputs": [],
   "source": []
  },
  {
   "cell_type": "code",
   "execution_count": null,
   "id": "46b98752-37ac-4735-8401-ae534a568f8b",
   "metadata": {},
   "outputs": [],
   "source": []
  },
  {
   "cell_type": "code",
   "execution_count": null,
   "id": "2981f10e-e4a7-4d3b-a7ca-8861fda9ee82",
   "metadata": {},
   "outputs": [],
   "source": []
  },
  {
   "cell_type": "markdown",
   "id": "794f717f-23ec-4f90-bace-9c7d6f403493",
   "metadata": {},
   "source": [
    "### Execution time"
   ]
  },
  {
   "cell_type": "code",
   "execution_count": 17,
   "id": "f9aa45c6-e653-4b65-9349-af30e6963a2c",
   "metadata": {},
   "outputs": [
    {
     "name": "stdout",
     "output_type": "stream",
     "text": [
      "Execution time: 0:00:12\n"
     ]
    }
   ],
   "source": [
    "stopwatch_stop(start)"
   ]
  }
 ],
 "metadata": {
  "kernelspec": {
   "display_name": "economy-rus",
   "language": "python",
   "name": "economy-rus"
  },
  "language_info": {
   "codemirror_mode": {
    "name": "ipython",
    "version": 3
   },
   "file_extension": ".py",
   "mimetype": "text/x-python",
   "name": "python",
   "nbconvert_exporter": "python",
   "pygments_lexer": "ipython3",
   "version": "3.12.3"
  }
 },
 "nbformat": 4,
 "nbformat_minor": 5
}
