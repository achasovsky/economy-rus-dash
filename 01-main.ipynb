{
 "cells": [
  {
   "cell_type": "markdown",
   "id": "dcb349fb-2919-45dc-adae-23a35b98ed65",
   "metadata": {},
   "source": [
    "# Section I. Main"
   ]
  },
  {
   "cell_type": "markdown",
   "id": "24e4ab22-ebd4-4a98-88f6-e90e67f0eaa2",
   "metadata": {},
   "source": [
    "### Load libraries, functions, palette, theme"
   ]
  },
  {
   "cell_type": "raw",
   "id": "501afb18-0e94-45d6-9849-7aa31a5a2c94",
   "metadata": {},
   "source": [
    "import os\n",
    "from pathlib import Path"
   ]
  },
  {
   "cell_type": "code",
   "execution_count": 105,
   "id": "875a8f50-d2bf-4b15-8f8c-bdc0913d6033",
   "metadata": {},
   "outputs": [],
   "source": [
    "# load libraries and palette\n",
    "%run _libraries.ipynb"
   ]
  },
  {
   "cell_type": "code",
   "execution_count": 106,
   "id": "07623594-1404-4900-8760-57cbc4cadcbb",
   "metadata": {},
   "outputs": [],
   "source": [
    "# load functions\n",
    "# from __functions import *\n",
    "%run _functions.ipynb"
   ]
  },
  {
   "cell_type": "code",
   "execution_count": 3,
   "id": "da6c70cf-8594-423a-a08f-c48be160041d",
   "metadata": {},
   "outputs": [],
   "source": [
    "# start stopwatch\n",
    "start = stopwatch_start()"
   ]
  },
  {
   "cell_type": "markdown",
   "id": "fb7ba096-4563-4796-99f7-624e322475c7",
   "metadata": {},
   "source": [
    "### Variables"
   ]
  },
  {
   "cell_type": "code",
   "execution_count": 194,
   "id": "88f78c3d-cce0-46cb-9960-78cdefb6b0ab",
   "metadata": {},
   "outputs": [],
   "source": [
    "path_save_img = 'docs/img/'"
   ]
  },
  {
   "cell_type": "markdown",
   "id": "5a14bcd5-3ba8-48ad-9de3-1cbcbf413ce7",
   "metadata": {},
   "source": [
    "## World PCI"
   ]
  },
  {
   "cell_type": "code",
   "execution_count": 4,
   "id": "95a34ff2-7adc-4105-8644-29710da34365",
   "metadata": {},
   "outputs": [],
   "source": [
    "data = pd.read_excel('data/pci_world.xls', sheet_name='Data')"
   ]
  },
  {
   "cell_type": "code",
   "execution_count": 5,
   "id": "0495707d-fe50-4e9c-b827-7655ebe07467",
   "metadata": {},
   "outputs": [],
   "source": [
    "data.columns = data.iloc[2, :].copy()"
   ]
  },
  {
   "cell_type": "code",
   "execution_count": 6,
   "id": "56f79f12-b876-4253-adae-478ecb815cc9",
   "metadata": {},
   "outputs": [],
   "source": [
    "data = data.iloc[3:, :].copy()"
   ]
  },
  {
   "cell_type": "code",
   "execution_count": 7,
   "id": "2464a99a-87ba-46f7-8efb-a319cb37493e",
   "metadata": {},
   "outputs": [],
   "source": [
    "data.columns = [to_int(i) for i in data.columns]"
   ]
  },
  {
   "cell_type": "code",
   "execution_count": 8,
   "id": "b63ddb5f-3430-4e39-b3e1-3cb37551b1c8",
   "metadata": {},
   "outputs": [],
   "source": [
    "data.index = data['Country Name']"
   ]
  },
  {
   "cell_type": "code",
   "execution_count": 9,
   "id": "9dd1ee2e-c0c3-4c7f-b63a-64244a6a369f",
   "metadata": {},
   "outputs": [],
   "source": [
    "data.index.name = None"
   ]
  },
  {
   "cell_type": "code",
   "execution_count": 10,
   "id": "791197cc-fd01-4f84-adf1-9ece88445eda",
   "metadata": {},
   "outputs": [],
   "source": [
    "data = data.iloc[:, 4:].copy()"
   ]
  },
  {
   "cell_type": "code",
   "execution_count": 11,
   "id": "479d3cb2-f12b-4d37-aa50-a8a4d860ec61",
   "metadata": {},
   "outputs": [],
   "source": [
    "data = data.T.copy()"
   ]
  },
  {
   "cell_type": "code",
   "execution_count": 12,
   "id": "84744fd1-15db-4dfa-aa6e-b12cea249996",
   "metadata": {},
   "outputs": [],
   "source": [
    "data_rf = data.loc[data['Russian Federation'].notna(), 'Russian Federation'].copy()"
   ]
  },
  {
   "cell_type": "code",
   "execution_count": 164,
   "id": "4c960e4e-27a8-4286-b89e-3de288ae556f",
   "metadata": {},
   "outputs": [],
   "source": [
    "pio.templates['primetheme'] = go.layout.Template(\n",
    "    layout = {\n",
    "        'hidesources': True,\n",
    "        'autosize': False,\n",
    "        'width': 750,\n",
    "        'height': 250,\n",
    "        'margin': dict(\n",
    "            t=10, r=50, l=50, b=50, pad=120\n",
    "        ),\n",
    "        'font' : {\n",
    "            'family': 'Ubuntu',\n",
    "            'size': 10,\n",
    "        },\n",
    "        'title': {\n",
    "            'font': {\n",
    "                'family': 'Ubuntu',\n",
    "                'color': '#505050',\n",
    "                'size': 15\n",
    "            },\n",
    "            'x': 0.1,\n",
    "            'y': 0.95\n",
    "        },\n",
    "        'colorway': list(\n",
    "            (\n",
    "            #    0 : 0.3    1 red      2 blue     3 green    4 yellow\n",
    "                '#4B4B4B', '#AF4035', '#4682B4', '#2C8B6D', '#FFA500',\n",
    "            #    5 brown    6 khaki    7 purple   8 pink     9 orange\n",
    "                '#6C4839', '#9A7D4D', '#534D89', '#C95576', '#DE6535',\n",
    "            #   -10 dark   -9 blue    -8 blue    -7 blue    -6 ligt\n",
    "                '#304E68', '#3D6384', '#4D7DA8', '#6D9BC3', '#A7CBE8',\n",
    "            #   -5 : 0.2   -4 : 0.5   -3 : 0.65  -2 : 0.75  -1 : 0.85\n",
    "                '#353535', '#7F7F7F', '#A5A5A5', '#BFBFBF', '#D9D9D9')\n",
    "            ),\n",
    "        'dragmode': False,\n",
    "        'xaxis': dict(\n",
    "            anchor='free',\n",
    "            position=0,\n",
    "            color='#909090',\n",
    "            ticks='outside',\n",
    "            griddash='1px',\n",
    "            gridwidth=1,\n",
    "            gridcolor='#F9F9F9',\n",
    "            linecolor='#E1E1E1',\n",
    "            linewidth=1,\n",
    "            ticklen=5,\n",
    "            tickcolor='#FCFCFC',\n",
    "            showgrid=True,\n",
    "            showline=True,\n",
    "            showticklabels=True,\n",
    "            zeroline=False,\n",
    "            title={\n",
    "                'font': dict(\n",
    "                    color='#808080'),\n",
    "                'standoff': 10},\n",
    "            tickangle=0,\n",
    "        ),\n",
    "        'yaxis': dict(\n",
    "            anchor='free',\n",
    "            color='#909090',\n",
    "            ticks='outside',\n",
    "            griddash='1px',\n",
    "            gridwidth=1,\n",
    "            gridcolor='#F9F9F9',\n",
    "            linecolor='#E1E1E1',\n",
    "            linewidth=1,\n",
    "            ticklen=5,\n",
    "            tickcolor='#FCFCFC',\n",
    "            position=0,\n",
    "            showgrid=True,\n",
    "            showline=True,\n",
    "            showticklabels=True,\n",
    "            zeroline=False,\n",
    "            title={\n",
    "                'font': dict(\n",
    "                    color='#808080'),\n",
    "                'standoff': 10},\n",
    "            tickangle=0\n",
    "        ),\n",
    "        'legend': dict(\n",
    "            title={\n",
    "                'font': {\n",
    "                    'family': 'Ubuntu',\n",
    "                    'color': '#4B4B4B',\n",
    "                    'size': 12,\n",
    "                    'style': 'normal',\n",
    "                    'weight': 'bold'\n",
    "                }\n",
    "            },\n",
    "            font={\n",
    "                'family': 'Ubuntu',\n",
    "                'color': '#808080',\n",
    "                'size': 10,\n",
    "                'style': 'normal',\n",
    "                'weight': 'normal'\n",
    "            },\n",
    "            orientation='h',\n",
    "            yanchor=\"top\",\n",
    "            y=1.25,\n",
    "            xanchor=\"left\",\n",
    "            x=0,\n",
    "            entrywidth=50,\n",
    "            itemsizing='trace', itemwidth=30, tracegroupgap=10, indentation=20),\n",
    "        # 'paper_bgcolor': 'rgba(0,0,0,0)',\n",
    "        # 'plot_bgcolor': 'rgba(0,0,0,0)',\n",
    "    },\n",
    "    data = {\n",
    "        # Each graph object must be in a tuple or list for each trace\n",
    "        'bar': [\n",
    "            go.Bar(\n",
    "                texttemplate ='%{value:$.2s}',\n",
    "                textposition='outside',\n",
    "                textfont= {\n",
    "                    'family': 'Ubuntu',\n",
    "                    'size': 10,\n",
    "                    'color': '#FFFFFF'\n",
    "                    })\n",
    "            ],\n",
    "        'scatter': [\n",
    "            go.Scatter(\n",
    "                line={\n",
    "                    'width': 1.75},\n",
    "                marker={\n",
    "                    'size': 3.5}\n",
    "            )\n",
    "        ]\n",
    "    }\n",
    ")\n",
    "\n",
    "pio.templates.default = 'primetheme'\n",
    "palette = pio.templates['primetheme'].layout.colorway"
   ]
  },
  {
   "cell_type": "code",
   "execution_count": 196,
   "id": "191e330e-2272-4168-987b-6fe47d91b17d",
   "metadata": {},
   "outputs": [
    {
     "data": {
      "application/vnd.plotly.v1+json": {
       "config": {
        "displayModeBar": true,
        "displaylogo": false,
        "locale": "ru",
        "modeBarButtonsToRemove": [
         "zoom",
         "pan",
         "zoomIn2d",
         "zoomOut2d",
         "autoScale2d"
        ],
        "plotlyServerURL": "https://plotly.com",
        "responsive": true,
        "scrollZoom": false,
        "toImageButtonOptions": {
         "filename": "custom_image",
         "format": "svg",
         "height": null,
         "scale": 1,
         "width": null
        }
       },
       "data": [
        {
         "line": {
          "color": "#4B4B4B"
         },
         "mode": "lines",
         "name": "Finland",
         "type": "scatter",
         "x": [
          1960,
          1961,
          1962,
          1963,
          1964,
          1965,
          1966,
          1967,
          1968,
          1969,
          1970,
          1971,
          1972,
          1973,
          1974,
          1975,
          1976,
          1977,
          1978,
          1979,
          1980,
          1981,
          1982,
          1983,
          1984,
          1985,
          1986,
          1987,
          1988,
          1989,
          1990,
          1991,
          1992,
          1993,
          1994,
          1995,
          1996,
          1997,
          1998,
          1999,
          2000,
          2001,
          2002,
          2003,
          2004,
          2005,
          2006,
          2007,
          2008,
          2009,
          2010,
          2011,
          2012,
          2013,
          2014,
          2015,
          2016,
          2017,
          2018,
          2019,
          2020,
          2021,
          2022,
          2023
         ],
         "y": [
          3.41812725350792,
          1.69100191533953,
          4.38398278172668,
          4.99638188645285,
          10.2758607417486,
          4.94058806755308,
          3.87365401861324,
          5.37778183372858,
          9.19166799519512,
          2.20561093521246,
          2.7404204305122,
          6.47576543061856,
          6.66249783515328,
          10.7544718831368,
          16.9363999989274,
          17.8113972340213,
          14.3426930852257,
          11.7933469184054,
          7.79935074552145,
          7.46696151310738,
          11.5946192492107,
          11.3057566509549,
          9.58492764677445,
          8.3662926064564,
          7.06765638328172,
          5.19562195429435,
          2.93357920442327,
          4.11302886205058,
          5.08592861394881,
          6.59290980189131,
          6.1495653117985,
          4.31021289843465,
          2.91932319285011,
          2.19065319556437,
          1.08855677589405,
          0.791239406938498,
          0.629194238120966,
          1.19255883425839,
          1.3994737857984,
          1.16223155669444,
          3.04210080667795,
          2.57844080098896,
          1.5712201278938,
          0.877440386254785,
          0.187120559084418,
          0.623874450025191,
          1.56666380704386,
          2.5106656524034,
          4.06595355358379,
          -9.17360384430342e-07,
          1.18413523154646,
          3.41680754255211,
          2.80833622561574,
          1.4782861568881,
          1.04119621178439,
          -0.207928839905268,
          0.356684500891695,
          0.754015047084346,
          1.08382098409305,
          1.02409392963431,
          0.290554555653239,
          2.19457432340007,
          7.12350773301402,
          null
         ]
        },
        {
         "mode": "lines",
         "name": "Norway",
         "type": "scatter",
         "x": [
          1960,
          1961,
          1962,
          1963,
          1964,
          1965,
          1966,
          1967,
          1968,
          1969,
          1970,
          1971,
          1972,
          1973,
          1974,
          1975,
          1976,
          1977,
          1978,
          1979,
          1980,
          1981,
          1982,
          1983,
          1984,
          1985,
          1986,
          1987,
          1988,
          1989,
          1990,
          1991,
          1992,
          1993,
          1994,
          1995,
          1996,
          1997,
          1998,
          1999,
          2000,
          2001,
          2002,
          2003,
          2004,
          2005,
          2006,
          2007,
          2008,
          2009,
          2010,
          2011,
          2012,
          2013,
          2014,
          2015,
          2016,
          2017,
          2018,
          2019,
          2020,
          2021,
          2022,
          2023
         ],
         "y": [
          0.360492346844622,
          2.15517277670922,
          5.27425952920732,
          2.47161052896497,
          5.86701538751922,
          4.18722443998004,
          3.250563343053,
          4.57926975753999,
          3.44829324254207,
          2.96294951075211,
          10.6372065264183,
          6.22386323501293,
          7.25843582961521,
          7.41947283637503,
          9.4117681321189,
          11.6892234816854,
          9.16147276547562,
          9.10383971160298,
          8.1616715433962,
          4.50972761206209,
          10.878661087866,
          13.6429608127722,
          11.3409961685824,
          8.46524432209222,
          6.21827411167512,
          5.71485463958579,
          7.17649274816357,
          8.71704745166956,
          6.67636598771417,
          4.54614335505379,
          4.1310334831135,
          3.43819599109134,
          2.32808504911857,
          2.28826933193057,
          1.3756749807148,
          2.46036778693724,
          1.26253249164502,
          2.56692335900259,
          2.25241329996423,
          2.36596736596734,
          3.08550609131276,
          3.00419703998237,
          1.28672528415184,
          2.48782553461783,
          0.45449850222084,
          1.53213367609254,
          2.32934980757544,
          0.712589073634201,
          3.75393081761005,
          2.19738586853574,
          2.41890639481001,
          1.28495158809152,
          0.696864111498362,
          2.12048620353112,
          2.04170286707211,
          2.17113665389527,
          3.54999999999998,
          1.87510059552554,
          2.76483134528788,
          2.16773003305402,
          1.28658490708005,
          3.48388055266678,
          5.76412317852272,
          null
         ]
        },
        {
         "line": {
          "color": "#4682B4"
         },
         "mode": "lines",
         "name": "Sweden",
         "type": "scatter",
         "x": [
          1960,
          1961,
          1962,
          1963,
          1964,
          1965,
          1966,
          1967,
          1968,
          1969,
          1970,
          1971,
          1972,
          1973,
          1974,
          1975,
          1976,
          1977,
          1978,
          1979,
          1980,
          1981,
          1982,
          1983,
          1984,
          1985,
          1986,
          1987,
          1988,
          1989,
          1990,
          1991,
          1992,
          1993,
          1994,
          1995,
          1996,
          1997,
          1998,
          1999,
          2000,
          2001,
          2002,
          2003,
          2004,
          2005,
          2006,
          2007,
          2008,
          2009,
          2010,
          2011,
          2012,
          2013,
          2014,
          2015,
          2016,
          2017,
          2018,
          2019,
          2020,
          2021,
          2022,
          2023
         ],
         "y": [
          4.14177915090215,
          2.15797310981964,
          4.76619721905823,
          2.8717403448577,
          3.38766231088349,
          5.01277129643838,
          6.40480825348414,
          4.28931922993319,
          1.94312582473244,
          2.691994585557,
          7.01635885100763,
          7.39554113837636,
          6.00738969862495,
          6.71799739819354,
          9.91172530113238,
          9.77987398822576,
          10.2492246529784,
          11.4418051091077,
          9.99526541717732,
          7.20978617047808,
          13.7063223649005,
          12.1039385302598,
          8.58918509047123,
          8.87302152363213,
          8.04424238994422,
          7.37257458126246,
          4.23591011089793,
          4.18857151771368,
          5.82489868439437,
          6.4432758742661,
          10.3665533879493,
          9.4446273294419,
          2.3743672511188,
          4.72817304626053,
          2.15813800724632,
          2.45514857818395,
          0.533131978766297,
          0.658410256243514,
          -0.267132668355006,
          0.462175756339173,
          0.899143734041633,
          2.40595834145438,
          2.15848213589264,
          1.92565534892391,
          0.373659828721813,
          0.453170852576182,
          1.3602146862768,
          2.21216883436735,
          3.43704910602874,
          -0.494460544377991,
          1.15798802715628,
          2.9611507382214,
          0.888377506923638,
          -0.0442929701485858,
          -0.179638494114635,
          -0.0467847449832812,
          0.984269244577992,
          1.79449904665589,
          1.95353530127028,
          1.78415097403835,
          0.497367318853572,
          2.16319736447153,
          8.36929098869189,
          null
         ]
        }
       ],
       "layout": {
        "autosize": false,
        "height": 300,
        "margin": {
         "t": 75
        },
        "template": {
         "data": {
          "bar": [
           {
            "textfont": {
             "color": "#FFFFFF",
             "family": "Ubuntu",
             "size": 10
            },
            "textposition": "outside",
            "texttemplate": "%{value:$.2s}",
            "type": "bar"
           }
          ],
          "scatter": [
           {
            "line": {
             "width": 1.75
            },
            "marker": {
             "size": 3.5
            },
            "type": "scatter"
           }
          ]
         },
         "layout": {
          "autosize": false,
          "colorway": [
           "#4B4B4B",
           "#AF4035",
           "#4682B4",
           "#2C8B6D",
           "#FFA500",
           "#6C4839",
           "#9A7D4D",
           "#534D89",
           "#C95576",
           "#DE6535",
           "#304E68",
           "#3D6384",
           "#4D7DA8",
           "#6D9BC3",
           "#A7CBE8",
           "#353535",
           "#7F7F7F",
           "#A5A5A5",
           "#BFBFBF",
           "#D9D9D9"
          ],
          "dragmode": false,
          "font": {
           "family": "Ubuntu",
           "size": 10
          },
          "height": 250,
          "hidesources": true,
          "legend": {
           "entrywidth": 50,
           "font": {
            "color": "#808080",
            "family": "Ubuntu",
            "size": 10,
            "style": "normal",
            "weight": "normal"
           },
           "indentation": 20,
           "itemsizing": "trace",
           "itemwidth": 30,
           "orientation": "h",
           "title": {
            "font": {
             "color": "#4B4B4B",
             "family": "Ubuntu",
             "size": 12,
             "style": "normal",
             "weight": "bold"
            }
           },
           "tracegroupgap": 10,
           "x": 0,
           "xanchor": "left",
           "y": 1.25,
           "yanchor": "top"
          },
          "margin": {
           "b": 50,
           "l": 50,
           "pad": 120,
           "r": 50,
           "t": 10
          },
          "title": {
           "font": {
            "color": "#505050",
            "family": "Ubuntu",
            "size": 15
           },
           "x": 0.1,
           "y": 0.95
          },
          "width": 750,
          "xaxis": {
           "anchor": "free",
           "color": "#909090",
           "gridcolor": "#F9F9F9",
           "griddash": "1px",
           "gridwidth": 1,
           "linecolor": "#E1E1E1",
           "linewidth": 1,
           "position": 0,
           "showgrid": true,
           "showline": true,
           "showticklabels": true,
           "tickangle": 0,
           "tickcolor": "#FCFCFC",
           "ticklen": 5,
           "ticks": "outside",
           "title": {
            "font": {
             "color": "#808080"
            },
            "standoff": 10
           },
           "zeroline": false
          },
          "yaxis": {
           "anchor": "free",
           "color": "#909090",
           "gridcolor": "#F9F9F9",
           "griddash": "1px",
           "gridwidth": 1,
           "linecolor": "#E1E1E1",
           "linewidth": 1,
           "position": 0,
           "showgrid": true,
           "showline": true,
           "showticklabels": true,
           "tickangle": 0,
           "tickcolor": "#FCFCFC",
           "ticklen": 5,
           "ticks": "outside",
           "title": {
            "font": {
             "color": "#808080"
            },
            "standoff": 10
           },
           "zeroline": false
          }
         }
        },
        "title": {
         "font": {
          "size": 15
         },
         "text": "PCI Northen Europe"
        },
        "width": 800,
        "xaxis": {
         "autorange": true,
         "range": [
          1960,
          2023
         ],
         "side": "right",
         "title": {
          "standoff": 10,
          "text": "xLabel"
         },
         "type": "linear"
        },
        "yaxis": {
         "autorange": true,
         "range": [
          -1.5114526431779516,
          18.82838933282126
         ],
         "title": {
          "standoff": 10,
          "text": "yLabel"
         },
         "type": "linear"
        }
       }
      },
      "image/png": "[encoded data removed]",
      "text/html": [
       "<div>                            <div id=\"ac40b35f-32ff-4f28-a6c5-48255177ac17\" class=\"plotly-graph-div\" style=\"height:300px; width:800px;\"></div>            <script type=\"text/javascript\">                require([\"plotly\"], function(Plotly) {                    window.PLOTLYENV=window.PLOTLYENV || {};                                    if (document.getElementById(\"ac40b35f-32ff-4f28-a6c5-48255177ac17\")) {                    Plotly.newPlot(                        \"ac40b35f-32ff-4f28-a6c5-48255177ac17\",                        [{\"line\":{\"color\":\"#4B4B4B\"},\"mode\":\"lines\",\"name\":\"Finland\",\"x\":[1960,1961,1962,1963,1964,1965,1966,1967,1968,1969,1970,1971,1972,1973,1974,1975,1976,1977,1978,1979,1980,1981,1982,1983,1984,1985,1986,1987,1988,1989,1990,1991,1992,1993,1994,1995,1996,1997,1998,1999,2000,2001,2002,2003,2004,2005,2006,2007,2008,2009,2010,2011,2012,2013,2014,2015,2016,2017,2018,2019,2020,2021,2022,2023],\"y\":[3.41812725350792,1.69100191533953,4.38398278172668,4.99638188645285,10.2758607417486,4.94058806755308,3.87365401861324,5.37778183372858,9.19166799519512,2.20561093521246,2.7404204305122,6.47576543061856,6.66249783515328,10.7544718831368,16.9363999989274,17.8113972340213,14.3426930852257,11.7933469184054,7.79935074552145,7.46696151310738,11.5946192492107,11.3057566509549,9.58492764677445,8.3662926064564,7.06765638328172,5.19562195429435,2.93357920442327,4.11302886205058,5.08592861394881,6.59290980189131,6.1495653117985,4.31021289843465,2.91932319285011,2.19065319556437,1.08855677589405,0.791239406938498,0.629194238120966,1.19255883425839,1.3994737857984,1.16223155669444,3.04210080667795,2.57844080098896,1.5712201278938,0.877440386254785,0.187120559084418,0.623874450025191,1.56666380704386,2.5106656524034,4.06595355358379,-9.17360384430342e-07,1.18413523154646,3.41680754255211,2.80833622561574,1.4782861568881,1.04119621178439,-0.207928839905268,0.356684500891695,0.754015047084346,1.08382098409305,1.02409392963431,0.290554555653239,2.19457432340007,7.12350773301402,null],\"type\":\"scatter\"},{\"mode\":\"lines\",\"name\":\"Norway\",\"x\":[1960,1961,1962,1963,1964,1965,1966,1967,1968,1969,1970,1971,1972,1973,1974,1975,1976,1977,1978,1979,1980,1981,1982,1983,1984,1985,1986,1987,1988,1989,1990,1991,1992,1993,1994,1995,1996,1997,1998,1999,2000,2001,2002,2003,2004,2005,2006,2007,2008,2009,2010,2011,2012,2013,2014,2015,2016,2017,2018,2019,2020,2021,2022,2023],\"y\":[0.360492346844622,2.15517277670922,5.27425952920732,2.47161052896497,5.86701538751922,4.18722443998004,3.250563343053,4.57926975753999,3.44829324254207,2.96294951075211,10.6372065264183,6.22386323501293,7.25843582961521,7.41947283637503,9.4117681321189,11.6892234816854,9.16147276547562,9.10383971160298,8.1616715433962,4.50972761206209,10.878661087866,13.6429608127722,11.3409961685824,8.46524432209222,6.21827411167512,5.71485463958579,7.17649274816357,8.71704745166956,6.67636598771417,4.54614335505379,4.1310334831135,3.43819599109134,2.32808504911857,2.28826933193057,1.3756749807148,2.46036778693724,1.26253249164502,2.56692335900259,2.25241329996423,2.36596736596734,3.08550609131276,3.00419703998237,1.28672528415184,2.48782553461783,0.45449850222084,1.53213367609254,2.32934980757544,0.712589073634201,3.75393081761005,2.19738586853574,2.41890639481001,1.28495158809152,0.696864111498362,2.12048620353112,2.04170286707211,2.17113665389527,3.54999999999998,1.87510059552554,2.76483134528788,2.16773003305402,1.28658490708005,3.48388055266678,5.76412317852272,null],\"type\":\"scatter\"},{\"line\":{\"color\":\"#4682B4\"},\"mode\":\"lines\",\"name\":\"Sweden\",\"x\":[1960,1961,1962,1963,1964,1965,1966,1967,1968,1969,1970,1971,1972,1973,1974,1975,1976,1977,1978,1979,1980,1981,1982,1983,1984,1985,1986,1987,1988,1989,1990,1991,1992,1993,1994,1995,1996,1997,1998,1999,2000,2001,2002,2003,2004,2005,2006,2007,2008,2009,2010,2011,2012,2013,2014,2015,2016,2017,2018,2019,2020,2021,2022,2023],\"y\":[4.14177915090215,2.15797310981964,4.76619721905823,2.8717403448577,3.38766231088349,5.01277129643838,6.40480825348414,4.28931922993319,1.94312582473244,2.691994585557,7.01635885100763,7.39554113837636,6.00738969862495,6.71799739819354,9.91172530113238,9.77987398822576,10.2492246529784,11.4418051091077,9.99526541717732,7.20978617047808,13.7063223649005,12.1039385302598,8.58918509047123,8.87302152363213,8.04424238994422,7.37257458126246,4.23591011089793,4.18857151771368,5.82489868439437,6.4432758742661,10.3665533879493,9.4446273294419,2.3743672511188,4.72817304626053,2.15813800724632,2.45514857818395,0.533131978766297,0.658410256243514,-0.267132668355006,0.462175756339173,0.899143734041633,2.40595834145438,2.15848213589264,1.92565534892391,0.373659828721813,0.453170852576182,1.3602146862768,2.21216883436735,3.43704910602874,-0.494460544377991,1.15798802715628,2.9611507382214,0.888377506923638,-0.0442929701485858,-0.179638494114635,-0.0467847449832812,0.984269244577992,1.79449904665589,1.95353530127028,1.78415097403835,0.497367318853572,2.16319736447153,8.36929098869189,null],\"type\":\"scatter\"}],                        {\"template\":{\"data\":{\"bar\":[{\"textfont\":{\"color\":\"#FFFFFF\",\"family\":\"Ubuntu\",\"size\":10},\"textposition\":\"outside\",\"texttemplate\":\"%{value:$.2s}\",\"type\":\"bar\"}],\"scatter\":[{\"line\":{\"width\":1.75},\"marker\":{\"size\":3.5},\"type\":\"scatter\"}]},\"layout\":{\"autosize\":false,\"colorway\":[\"#4B4B4B\",\"#AF4035\",\"#4682B4\",\"#2C8B6D\",\"#FFA500\",\"#6C4839\",\"#9A7D4D\",\"#534D89\",\"#C95576\",\"#DE6535\",\"#304E68\",\"#3D6384\",\"#4D7DA8\",\"#6D9BC3\",\"#A7CBE8\",\"#353535\",\"#7F7F7F\",\"#A5A5A5\",\"#BFBFBF\",\"#D9D9D9\"],\"dragmode\":false,\"font\":{\"family\":\"Ubuntu\",\"size\":10},\"height\":250,\"hidesources\":true,\"legend\":{\"entrywidth\":50,\"font\":{\"color\":\"#808080\",\"family\":\"Ubuntu\",\"size\":10,\"style\":\"normal\",\"weight\":\"normal\"},\"indentation\":20,\"itemsizing\":\"trace\",\"itemwidth\":30,\"orientation\":\"h\",\"title\":{\"font\":{\"color\":\"#4B4B4B\",\"family\":\"Ubuntu\",\"size\":12,\"style\":\"normal\",\"weight\":\"bold\"}},\"tracegroupgap\":10,\"x\":0,\"xanchor\":\"left\",\"y\":1.25,\"yanchor\":\"top\"},\"margin\":{\"b\":50,\"l\":50,\"pad\":120,\"r\":50,\"t\":10},\"title\":{\"font\":{\"color\":\"#505050\",\"family\":\"Ubuntu\",\"size\":15},\"x\":0.1,\"y\":0.95},\"width\":750,\"xaxis\":{\"anchor\":\"free\",\"color\":\"#909090\",\"gridcolor\":\"#F9F9F9\",\"griddash\":\"1px\",\"gridwidth\":1,\"linecolor\":\"#E1E1E1\",\"linewidth\":1,\"position\":0,\"showgrid\":true,\"showline\":true,\"showticklabels\":true,\"tickangle\":0,\"tickcolor\":\"#FCFCFC\",\"ticklen\":5,\"ticks\":\"outside\",\"title\":{\"font\":{\"color\":\"#808080\"},\"standoff\":10},\"zeroline\":false},\"yaxis\":{\"anchor\":\"free\",\"color\":\"#909090\",\"gridcolor\":\"#F9F9F9\",\"griddash\":\"1px\",\"gridwidth\":1,\"linecolor\":\"#E1E1E1\",\"linewidth\":1,\"position\":0,\"showgrid\":true,\"showline\":true,\"showticklabels\":true,\"tickangle\":0,\"tickcolor\":\"#FCFCFC\",\"ticklen\":5,\"ticks\":\"outside\",\"title\":{\"font\":{\"color\":\"#808080\"},\"standoff\":10},\"zeroline\":false}}},\"autosize\":false,\"width\":800,\"height\":300,\"xaxis\":{\"title\":{\"text\":\"xLabel\",\"standoff\":10},\"side\":\"right\"},\"yaxis\":{\"title\":{\"text\":\"yLabel\",\"standoff\":10}},\"title\":{\"text\":\"PCI Northen Europe\",\"font\":{\"size\":15}},\"margin\":{\"t\":75.0}},                        {\"scrollZoom\": false, \"displaylogo\": false, \"displayModeBar\": true, \"locale\": \"ru\", \"responsive\": true, \"toImageButtonOptions\": {\"format\": \"svg\", \"filename\": \"custom_image\", \"height\": null, \"width\": null, \"scale\": 1}, \"modeBarButtonsToRemove\": [\"zoom\", \"pan\", \"zoomIn2d\", \"zoomOut2d\", \"autoScale2d\"]}                    ).then(function(){\n",
       "                            \n",
       "var gd = document.getElementById('ac40b35f-32ff-4f28-a6c5-48255177ac17');\n",
       "var x = new MutationObserver(function (mutations, observer) {{\n",
       "        var display = window.getComputedStyle(gd).display;\n",
       "        if (!display || display === 'none') {{\n",
       "            console.log([gd, 'removed!']);\n",
       "            Plotly.purge(gd);\n",
       "            observer.disconnect();\n",
       "        }}\n",
       "}});\n",
       "\n",
       "// Listen for the removal of the full notebook cells\n",
       "var notebookContainer = gd.closest('#notebook-container');\n",
       "if (notebookContainer) {{\n",
       "    x.observe(notebookContainer, {childList: true});\n",
       "}}\n",
       "\n",
       "// Listen for the clearing of the current output cell\n",
       "var outputEl = gd.closest('.output');\n",
       "if (outputEl) {{\n",
       "    x.observe(outputEl, {childList: true});\n",
       "}}\n",
       "\n",
       "                        })                };                });            </script>        </div>"
      ]
     },
     "metadata": {},
     "output_type": "display_data"
    }
   ],
   "source": [
    "fig = pl_figure(figsize=(800, 300))\n",
    "\n",
    "pl_plot(\n",
    "    go.Scatter(x=data.index, y=data['Finland'], mode='lines', line_color=palette[0], name='Finland'), fig)\n",
    "pl_plot(\n",
    "    go.Scatter(x=data.index, y=data['Norway'], mode='lines', name='Norway'), fig)\n",
    "pl_plot(\n",
    "    go.Scatter(x=data.index, y=data['Sweden'], mode='lines', line_color=palette[2], name='Sweden'), fig)\n",
    "\n",
    "pl_labels(x='xLabel', y='yLabel', fig=fig)\n",
    "pl_title('PCI Northen Europe', size=15, fig=fig)\n",
    "# pl_rstyle(xticks=[1960, 2025, 5], yticks=[0, 20, 5], ylim=[-1, 20])\n",
    "\n",
    "fig.show(config=config)\n",
    "pl_savefig(fig, 'pci_scandinavia', dir=path_save_img, config=config)"
   ]
  },
  {
   "cell_type": "raw",
   "id": "5f3cd0b2-9c58-4bca-ab23-b3b82643bc5a",
   "metadata": {},
   "source": [
    "py.plot(fig, filename='test', auto_open=False)"
   ]
  },
  {
   "cell_type": "code",
   "execution_count": 187,
   "id": "acf6e067-118e-4af3-8da4-602a2aeb9439",
   "metadata": {},
   "outputs": [],
   "source": [
    "def pl_savefig(fig, name=None, dir=None, config=None, fmt='html'):\n",
    "    \n",
    "    if fmt == 'chart_studio':\n",
    "        py.plot(fig, filename=name, auto_open=False, config=config)\n",
    "        print(\"Figure saved into Chart-studio\")\n",
    "        \n",
    "    elif fmt == 'html':\n",
    "        filename = dir+'/'+name+'.'+fmt\n",
    "        plotly.offline.plot(fig, filename=filename, config=config, auto_open=False)\n",
    "        \n",
    "    else:\n",
    "        # check if dir exists and create it if not\n",
    "        if dir is None:\n",
    "            dir = os.getcwd()\n",
    "        if not os.path.exists(dir):\n",
    "            os.makedirs(dir)\n",
    "\n",
    "        filename = dir+'/'+name+'.'+fmt\n",
    "        fig.write_image(filename, engine='kaleido')\n",
    "        \n",
    "        print(f\"File '{name+'.'+fmt}' saved into folder '{dir.split(os.sep)[-1]}'\")"
   ]
  },
  {
   "cell_type": "code",
   "execution_count": null,
   "id": "9e21a665-870b-466e-8219-2e93a089b61f",
   "metadata": {},
   "outputs": [],
   "source": [
    "config=dict(scrollZoom=True, showLink=False)"
   ]
  },
  {
   "cell_type": "code",
   "execution_count": 185,
   "id": "b1ccf4c6-1db5-4a2e-b9b7-2c023f44a975",
   "metadata": {},
   "outputs": [],
   "source": [
    "config = dict(\n",
    "    scrollZoom=False,\n",
    "    showLink=False,\n",
    "    displaylogo=False,\n",
    "    displayModeBar=True,\n",
    "    locale='ru',\n",
    "    responsive=True,\n",
    "    toImageButtonOptions = {\n",
    "        'format': 'svg', # one of png, svg, jpeg, webp\n",
    "        'filename': 'custom_image',\n",
    "        'height': None,\n",
    "        'width': None,\n",
    "        'scale': 1 # Multiply title/legend/axis/canvas sizes by this factor\n",
    "        },\n",
    "    # double click on plot - reset scale\n",
    "    modeBarButtonsToRemove = [\n",
    "        'zoom',\n",
    "        'pan',\n",
    "        'zoomIn2d',\n",
    "        'zoomOut2d',\n",
    "        'autoScale2d',\n",
    "        # 'resetScale2d',\n",
    "        \n",
    "    ]\n",
    ")"
   ]
  },
  {
   "cell_type": "code",
   "execution_count": null,
   "id": "27757359-c048-4c1a-980b-b519020e46c7",
   "metadata": {},
   "outputs": [],
   "source": []
  },
  {
   "cell_type": "code",
   "execution_count": null,
   "id": "43654b2d-6ac5-4395-9203-d7d462dccd9f",
   "metadata": {},
   "outputs": [],
   "source": []
  },
  {
   "cell_type": "code",
   "execution_count": 218,
   "id": "2f6a3f45-9634-449c-9127-9c1585eb8a4b",
   "metadata": {},
   "outputs": [
    {
     "data": {
      "application/vnd.plotly.v1+json": {
       "config": {
        "plotlyServerURL": "https://plotly.com"
       },
       "data": [
        {
         "type": "scatter",
         "x": [
          1960,
          1960.2073578595318,
          1960.4147157190635,
          1960.6220735785953,
          1960.8294314381271,
          1961.036789297659,
          1961.2441471571906,
          1961.4515050167224,
          1961.6588628762543,
          1961.8662207357859,
          1962.0735785953177,
          1962.2809364548496,
          1962.4882943143812,
          1962.695652173913,
          1962.9030100334448,
          1963.1103678929767,
          1963.3177257525083,
          1963.5250836120401,
          1963.732441471572,
          1963.9397993311036,
          1964.1471571906354,
          1964.3545150501673,
          1964.561872909699,
          1964.7692307692307,
          1964.9765886287626,
          1965.1839464882944,
          1965.391304347826,
          1965.5986622073578,
          1965.8060200668897,
          1966.0133779264213,
          1966.2207357859531,
          1966.428093645485,
          1966.6354515050168,
          1966.8428093645484,
          1967.0501672240803,
          1967.257525083612,
          1967.4648829431437,
          1967.6722408026756,
          1967.8795986622074,
          1968.0869565217392,
          1968.2943143812709,
          1968.5016722408027,
          1968.7090301003345,
          1968.9163879598661,
          1969.123745819398,
          1969.3311036789298,
          1969.5384615384614,
          1969.7458193979933,
          1969.953177257525,
          1970.160535117057,
          1970.3678929765886,
          1970.5752508361204,
          1970.7826086956522,
          1970.9899665551839,
          1971.1973244147157,
          1971.4046822742475,
          1971.6120401337794,
          1971.819397993311,
          1972.0267558528428,
          1972.2341137123747,
          1972.4414715719063,
          1972.6488294314381,
          1972.85618729097,
          1973.0635451505016,
          1973.2709030100334,
          1973.4782608695652,
          1973.685618729097,
          1973.8929765886287,
          1974.1003344481605,
          1974.3076923076924,
          1974.515050167224,
          1974.7224080267558,
          1974.9297658862877,
          1975.1371237458195,
          1975.3444816053511,
          1975.551839464883,
          1975.7591973244148,
          1975.9665551839464,
          1976.1739130434783,
          1976.38127090301,
          1976.5886287625417,
          1976.7959866220735,
          1977.0033444816054,
          1977.2107023411372,
          1977.4180602006688,
          1977.6254180602007,
          1977.8327759197325,
          1978.0401337792641,
          1978.247491638796,
          1978.4548494983278,
          1978.6622073578596,
          1978.8695652173913,
          1979.076923076923,
          1979.284280936455,
          1979.4916387959865,
          1979.6989966555184,
          1979.9063545150502,
          1980.1137123745818,
          1980.3210702341137,
          1980.5284280936455,
          1980.7357859531774,
          1980.943143812709,
          1981.1505016722408,
          1981.3578595317726,
          1981.5652173913043,
          1981.772575250836,
          1981.979933110368,
          1982.1872909698998,
          1982.3946488294314,
          1982.6020066889632,
          1982.809364548495,
          1983.0167224080267,
          1983.2240802675585,
          1983.4314381270904,
          1983.638795986622,
          1983.8461538461538,
          1984.0535117056857,
          1984.2608695652175,
          1984.468227424749,
          1984.675585284281,
          1984.8829431438128,
          1985.0903010033444,
          1985.2976588628762,
          1985.505016722408,
          1985.71237458194,
          1985.9197324414715,
          1986.1270903010034,
          1986.3344481605352,
          1986.5418060200668,
          1986.7491638795987,
          1986.9565217391305,
          1987.163879598662,
          1987.371237458194,
          1987.5785953177258,
          1987.7859531772576,
          1987.9933110367892,
          1988.200668896321,
          1988.408026755853,
          1988.6153846153845,
          1988.8227424749164,
          1989.0301003344482,
          1989.2374581939798,
          1989.4448160535117,
          1989.6521739130435,
          1989.8595317725753,
          1990.066889632107,
          1990.2742474916388,
          1990.4816053511706,
          1990.6889632107022,
          1990.896321070234,
          1991.103678929766,
          1991.3110367892978,
          1991.5183946488294,
          1991.7257525083612,
          1991.933110367893,
          1992.1404682274247,
          1992.3478260869565,
          1992.5551839464883,
          1992.7625418060202,
          1992.9698996655518,
          1993.1772575250836,
          1993.3846153846155,
          1993.591973244147,
          1993.799331103679,
          1994.0066889632108,
          1994.2140468227424,
          1994.4214046822742,
          1994.628762541806,
          1994.836120401338,
          1995.0434782608695,
          1995.2508361204013,
          1995.4581939799332,
          1995.6655518394648,
          1995.8729096989966,
          1996.0802675585285,
          1996.28762541806,
          1996.494983277592,
          1996.7023411371238,
          1996.9096989966556,
          1997.1170568561872,
          1997.324414715719,
          1997.531772575251,
          1997.7391304347825,
          1997.9464882943143,
          1998.1538461538462,
          1998.361204013378,
          1998.5685618729096,
          1998.7759197324415,
          1998.9832775919733,
          1999.190635451505,
          1999.3979933110368,
          1999.6053511705686,
          1999.8127090301005,
          2000.020066889632,
          2000.227424749164,
          2000.4347826086957,
          2000.6421404682274,
          2000.8494983277592,
          2001.056856187291,
          2001.2642140468226,
          2001.4715719063545,
          2001.6789297658863,
          2001.8862876254182,
          2002.0936454849498,
          2002.3010033444816,
          2002.5083612040135,
          2002.715719063545,
          2002.923076923077,
          2003.1304347826087,
          2003.3377926421404,
          2003.5451505016722,
          2003.752508361204,
          2003.9598662207359,
          2004.1672240802675,
          2004.3745819397993,
          2004.5819397993312,
          2004.7892976588628,
          2004.9966555183946,
          2005.2040133779265,
          2005.4113712374583,
          2005.61872909699,
          2005.8260869565217,
          2006.0334448160536,
          2006.2408026755852,
          2006.448160535117,
          2006.6555183946489,
          2006.8628762541807,
          2007.0702341137123,
          2007.2775919732442,
          2007.484949832776,
          2007.6923076923076,
          2007.8996655518395,
          2008.1070234113713,
          2008.314381270903,
          2008.5217391304348,
          2008.7290969899666,
          2008.9364548494984,
          2009.14381270903,
          2009.3511705685619,
          2009.5585284280937,
          2009.7658862876253,
          2009.9732441471572,
          2010.180602006689,
          2010.3879598662206,
          2010.5953177257525,
          2010.8026755852843,
          2011.0100334448161,
          2011.2173913043478,
          2011.4247491638796,
          2011.6321070234114,
          2011.839464882943,
          2012.046822742475,
          2012.2541806020067,
          2012.4615384615386,
          2012.6688963210702,
          2012.876254180602,
          2013.0836120401339,
          2013.2909698996655,
          2013.4983277591973,
          2013.7056856187291,
          2013.9130434782608,
          2014.1204013377926,
          2014.3277591973244,
          2014.5351170568563,
          2014.742474916388,
          2014.9498327759197,
          2015.1571906354516,
          2015.3645484949832,
          2015.571906354515,
          2015.7792642140469,
          2015.9866220735787,
          2016.1939799331103,
          2016.4013377926422,
          2016.608695652174,
          2016.8160535117056,
          2017.0234113712374,
          2017.2307692307693,
          2017.438127090301,
          2017.6454849498327,
          2017.8528428093646,
          2018.0602006688964,
          2018.267558528428,
          2018.4749163879599,
          2018.6822742474917,
          2018.8896321070233,
          2019.0969899665552,
          2019.304347826087,
          2019.5117056856188,
          2019.7190635451504,
          2019.9264214046823,
          2020.1337792642141,
          2020.3411371237457,
          2020.5484949832776,
          2020.7558528428094,
          2020.963210702341,
          2021.1705685618729,
          2021.3779264214047,
          2021.5852842809365,
          2021.7926421404682,
          2022
         ],
         "y": [
          [
           1.45797598627791
          ],
          [
           1.295328003297253
          ],
          [
           1.182598232000979
          ],
          [
           1.1125241264254901
          ],
          [
           1.0778431406075792
          ],
          [
           1.07129272858389
          ],
          [
           1.085610344391041
          ],
          [
           1.113533442065713
          ],
          [
           1.1477994756445444
          ],
          [
           1.1811458991641444
          ],
          [
           1.2063946602283129
          ],
          [
           1.2207329323208795
          ],
          [
           1.2277373419834552
          ],
          [
           1.2314923658978738
          ],
          [
           1.236082480745948
          ],
          [
           1.2453763840253862
          ],
          [
           1.2589578899152298
          ],
          [
           1.2724718532638812
          ],
          [
           1.2814166882451443
          ],
          [
           1.2812908090328414
          ],
          [
           1.269546300776725
          ],
          [
           1.2631361802265593
          ],
          [
           1.290221018404657
          ],
          [
           1.3790951416056778
          ],
          [
           1.5580528761245909
          ],
          [
           1.8447839969389106
          ],
          [
           2.197311512100355
          ],
          [
           2.5528070931974858
          ],
          [
           2.8484205493918178
          ],
          [
           3.021307794287807
          ],
          [
           3.03602224329092
          ],
          [
           2.9474966378958944
          ],
          [
           2.8292738761612806
          ],
          [
           2.754896856145655
          ],
          [
           2.7976199199145078
          ],
          [
           2.9928189422237543
          ],
          [
           3.3006539805063277
          ],
          [
           3.6724084258722614
          ],
          [
           4.059365669430585
          ],
          [
           4.413551372364305
          ],
          [
           4.712802058190948
          ],
          [
           4.96682118516746
          ],
          [
           5.187282588914261
          ],
          [
           5.385860105051915
          ],
          [
           5.572926250937393
          ],
          [
           5.739131017831634
          ],
          [
           5.859812577568733
          ],
          [
           5.909907682563227
          ],
          [
           5.8643530852291965
          ],
          [
           5.7022960878994295
          ],
          [
           5.4367167239835155
          ],
          [
           5.096890196207346
          ],
          [
           4.712196179130846
          ],
          [
           4.312014347314147
          ],
          [
           3.927021690693706
          ],
          [
           3.5938963385058162
          ],
          [
           3.3510504586442953
          ],
          [
           3.236896389553621
          ],
          [
           3.2898323243204266
          ],
          [
           3.5388367530305413
          ],
          [
           3.987165717206381
          ],
          [
           4.633724897871363
          ],
          [
           5.477419976047537
          ],
          [
           6.516497138777402
          ],
          [
           7.700742409419789
          ],
          [
           8.899214421619128
          ],
          [
           9.973327197887471
          ],
          [
           10.784494760736182
          ],
          [
           11.198386923929542
          ],
          [
           11.186388616862256
          ],
          [
           10.830143178156616
          ],
          [
           10.216458900792437
          ],
          [
           9.43214407775061
          ],
          [
           8.563437119988604
          ],
          [
           7.689820614871398
          ],
          [
           6.886355559494914
          ],
          [
           6.228026375205842
          ],
          [
           5.789817483350221
          ],
          [
           5.630988629683671
          ],
          [
           5.708012108111211
          ],
          [
           5.936065940433474
          ],
          [
           6.230216315017257
          ],
          [
           6.50552952325475
          ],
          [
           6.70283282628816
          ],
          [
           6.861131541819032
          ],
          [
           7.042815968031859
          ],
          [
           7.310276403110667
          ],
          [
           7.725765976322894
          ],
          [
           8.319919746710486
          ],
          [
           9.051539444028753
          ],
          [
           9.869504278053112
          ],
          [
           10.722693458558044
          ],
          [
           11.559890067624794
          ],
          [
           12.325409686826353
          ],
          [
           12.957302452992597
          ],
          [
           13.393149841921131
          ],
          [
           13.570533329407333
          ],
          [
           13.430870903257437
          ],
          [
           12.986594677506666
          ],
          [
           12.31272430966068
          ],
          [
           11.486422219072296
          ],
          [
           10.584850825095316
          ],
          [
           9.679974216310981
          ],
          [
           8.794665812931624
          ],
          [
           7.924794127537293
          ],
          [
           7.065947404951318
          ],
          [
           6.213713889999898
          ],
          [
           5.37184823116671
          ],
          [
           4.587842879620498
          ],
          [
           3.9237716621558727
          ],
          [
           3.4417184498894904
          ],
          [
           3.2037530968573327
          ],
          [
           3.238274973453778
          ],
          [
           3.4677830659634905
          ],
          [
           3.794009440080976
          ],
          [
           4.118686161501922
          ],
          [
           4.343878442499459
          ],
          [
           4.40891641273214
          ],
          [
           4.323921247096748
          ],
          [
           4.106930906469062
          ],
          [
           3.775983351725083
          ],
          [
           3.349927469179751
          ],
          [
           2.873412658980743
          ],
          [
           2.4216241156170524
          ],
          [
           2.071513452729498
          ],
          [
           1.9000322839589612
          ],
          [
           1.9775166189307154
          ],
          [
           2.280200587969213
          ],
          [
           2.7142994012236525
          ],
          [
           3.184361588025696
          ],
          [
           3.594935677705549
          ],
          [
           3.8625222302147044
          ],
          [
           3.9947521150547316
          ],
          [
           4.04122195131326
          ],
          [
           4.051751552591426
          ],
          [
           4.076160732490314
          ],
          [
           4.1547119097343375
          ],
          [
           4.285550895646795
          ],
          [
           4.455225779856651
          ],
          [
           4.650284298015871
          ],
          [
           4.857269049069144
          ],
          [
           5.060221253081182
          ],
          [
           5.2366617749856585
          ],
          [
           5.36306245709972
          ],
          [
           5.415895141740742
          ],
          [
           5.37189950555787
          ],
          [
           5.225203297845785
          ],
          [
           4.997672262623342
          ],
          [
           4.71365255765525
          ],
          [
           4.3974903407052395
          ],
          [
           4.073370234259797
          ],
          [
           3.7617615494070047
          ],
          [
           3.4794182858371245
          ],
          [
           3.242932907961316
          ],
          [
           3.0688978801917024
          ],
          [
           2.971594625668491
          ],
          [
           2.9394606329395723
          ],
          [
           2.944732644370634
          ],
          [
           2.9593978567844355
          ],
          [
           2.955443467003761
          ],
          [
           2.909936382900827
          ],
          [
           2.8315172072415304
          ],
          [
           2.740939038503087
          ],
          [
           2.6589798487785727
          ],
          [
           2.6064174278553156
          ],
          [
           2.5980564897607397
          ],
          [
           2.6270107911612817
          ],
          [
           2.681471825095225
          ],
          [
           2.7496310846008205
          ],
          [
           2.8196883561317754
          ],
          [
           2.8814027807810922
          ],
          [
           2.927919700825899
          ],
          [
           2.9528285696239367
          ],
          [
           2.9497188405330195
          ],
          [
           2.9122693355893934
          ],
          [
           2.837913343969471
          ],
          [
           2.7291299683634076
          ],
          [
           2.588753045122489
          ],
          [
           2.419616410597943
          ],
          [
           2.225167198776075
          ],
          [
           2.0194545179380157
          ],
          [
           1.8254853695657478
          ],
          [
           1.6665483070326719
          ],
          [
           1.565931883711674
          ],
          [
           1.5446793208476064
          ],
          [
           1.6037563222803923
          ],
          [
           1.7335596417111099
          ],
          [
           1.924391546932715
          ],
          [
           2.1665543057377663
          ],
          [
           2.44759973344312
          ],
          [
           2.7410537828233887
          ],
          [
           3.015982955638203
          ],
          [
           3.241451897170402
          ],
          [
           3.3865315564319896
          ],
          [
           3.4294440295588244
          ],
          [
           3.3758608850417082
          ],
          [
           3.2365788567370206
          ],
          [
           3.022394678500631
          ],
          [
           2.7442188922335826
          ],
          [
           2.423927895502111
          ],
          [
           2.1033322841730953
          ],
          [
           1.8263535350585514
          ],
          [
           1.6369131249701607
          ],
          [
           1.5775418984026628
          ],
          [
           1.650151971873674
          ],
          [
           1.8105679608439553
          ],
          [
           2.0121246205067522
          ],
          [
           2.2081567060560205
          ],
          [
           2.3549714484451734
          ],
          [
           2.4486145703368303
          ],
          [
           2.5134668510520406
          ],
          [
           2.5745187584189986
          ],
          [
           2.656760760266025
          ],
          [
           2.7810768484232296
          ],
          [
           2.938622493825493
          ],
          [
           3.1074678980654373
          ],
          [
           3.265626494811443
          ],
          [
           3.391111717732414
          ],
          [
           3.4653095581279123
          ],
          [
           3.483765144788304
          ],
          [
           3.4457388268430904
          ],
          [
           3.350490968279942
          ],
          [
           3.1973251781004515
          ],
          [
           3.001513200172236
          ],
          [
           2.818073789511289
          ],
          [
           2.708106296038548
          ],
          [
           2.732710069674752
          ],
          [
           2.9515533446083264
          ],
          [
           3.341669745391485
          ],
          [
           3.7538340594116697
          ],
          [
           4.028170612188049
          ],
          [
           4.004803729240704
          ],
          [
           3.532757556315133
          ],
          [
           2.6510443692341528
          ],
          [
           1.5808359478490421
          ],
          [
           0.5506372979086833
          ],
          [
           -0.21104657483882072
          ],
          [
           -0.4965242673959786
          ],
          [
           -0.3178968281046547
          ],
          [
           0.18079461577934985
          ],
          [
           0.8537133655237961
          ],
          [
           1.555022722398835
          ],
          [
           2.154733960019106
          ],
          [
           2.6165629204960017
          ],
          [
           2.9385405774490887
          ],
          [
           3.11874943476257
          ],
          [
           3.155272784060858
          ],
          [
           3.0542030991853917
          ],
          [
           2.84935093161609
          ],
          [
           2.580518876438885
          ],
          [
           2.2875095287399896
          ],
          [
           2.010064192366555
          ],
          [
           1.778364167562075
          ],
          [
           1.6027418640949234
          ],
          [
           1.491059458278779
          ],
          [
           1.4511791264269818
          ],
          [
           1.4902616088010543
          ],
          [
           1.5887119342103235
          ],
          [
           1.692472197792403
          ],
          [
           1.7452105849019344
          ],
          [
           1.6905952808937816
          ],
          [
           1.4769988389967699
          ],
          [
           1.1288776056942533
          ],
          [
           0.7323125653495428
          ],
          [
           0.3751569067535157
          ],
          [
           0.14526381869584803
          ],
          [
           0.11941401931146087
          ],
          [
           0.28056641347994493
          ],
          [
           0.5644315132191049
          ],
          [
           0.9063598949976297
          ],
          [
           1.2417021352842943
          ],
          [
           1.5166065499810213
          ],
          [
           1.7296601547916948
          ],
          [
           1.8953461823349043
          ],
          [
           2.028151407068616
          ],
          [
           2.142557122543098
          ],
          [
           2.2478171942151555
          ],
          [
           2.338227034678038
          ],
          [
           2.405423496506164
          ],
          [
           2.4410434322736356
          ],
          [
           2.4367507649857183
          ],
          [
           2.3864776895415187
          ],
          [
           2.288103150860049
          ],
          [
           2.1399014929686544
          ],
          [
           1.940147059894895
          ],
          [
           1.6883114525903342
          ],
          [
           1.4160700729604012
          ],
          [
           1.1901302991042875
          ],
          [
           1.0789636577990054
          ],
          [
           1.1510416758212274
          ],
          [
           1.4691462204452463
          ],
          [
           2.0244754191164
          ],
          [
           2.759321931025039
          ],
          [
           3.6150317982599627
          ],
          [
           4.532951062909442
          ],
          [
           5.454425767064832
          ],
          [
           6.320801952814438
          ],
          [
           7.0734256622475495
          ],
          [
           7.6536429374529344
          ],
          [
           8.00279982052121
          ]
         ]
        }
       ],
       "layout": {
        "autosize": false,
        "height": 300,
        "template": {
         "data": {
          "bar": [
           {
            "textfont": {
             "color": "#FFFFFF",
             "family": "Ubuntu",
             "size": 10
            },
            "textposition": "outside",
            "texttemplate": "%{value:$.2s}",
            "type": "bar"
           }
          ],
          "scatter": [
           {
            "line": {
             "width": 1.75
            },
            "marker": {
             "size": 3.5
            },
            "type": "scatter"
           }
          ]
         },
         "layout": {
          "autosize": false,
          "colorway": [
           "#4B4B4B",
           "#AF4035",
           "#4682B4",
           "#2C8B6D",
           "#FFA500",
           "#6C4839",
           "#9A7D4D",
           "#534D89",
           "#C95576",
           "#DE6535",
           "#304E68",
           "#3D6384",
           "#4D7DA8",
           "#6D9BC3",
           "#A7CBE8",
           "#353535",
           "#7F7F7F",
           "#A5A5A5",
           "#BFBFBF",
           "#D9D9D9"
          ],
          "dragmode": false,
          "font": {
           "family": "Ubuntu",
           "size": 10
          },
          "height": 250,
          "hidesources": true,
          "legend": {
           "entrywidth": 50,
           "font": {
            "color": "#808080",
            "family": "Ubuntu",
            "size": 10,
            "style": "normal",
            "weight": "normal"
           },
           "indentation": 20,
           "itemsizing": "trace",
           "itemwidth": 30,
           "orientation": "h",
           "title": {
            "font": {
             "color": "#4B4B4B",
             "family": "Ubuntu",
             "size": 12,
             "style": "normal",
             "weight": "bold"
            }
           },
           "tracegroupgap": 10,
           "x": 0,
           "xanchor": "left",
           "y": 1.25,
           "yanchor": "top"
          },
          "margin": {
           "b": 50,
           "l": 50,
           "pad": 120,
           "r": 50,
           "t": 10
          },
          "title": {
           "font": {
            "color": "#505050",
            "family": "Ubuntu",
            "size": 15
           },
           "x": 0.1,
           "y": 0.95
          },
          "width": 750,
          "xaxis": {
           "anchor": "free",
           "color": "#909090",
           "gridcolor": "#F9F9F9",
           "griddash": "1px",
           "gridwidth": 1,
           "linecolor": "#E1E1E1",
           "linewidth": 1,
           "position": 0,
           "showgrid": true,
           "showline": true,
           "showticklabels": true,
           "tickangle": 0,
           "tickcolor": "#FCFCFC",
           "ticklen": 5,
           "ticks": "outside",
           "title": {
            "font": {
             "color": "#808080"
            },
            "standoff": 10
           },
           "zeroline": false
          },
          "yaxis": {
           "anchor": "free",
           "color": "#909090",
           "gridcolor": "#F9F9F9",
           "griddash": "1px",
           "gridwidth": 1,
           "linecolor": "#E1E1E1",
           "linewidth": 1,
           "position": 0,
           "showgrid": true,
           "showline": true,
           "showticklabels": true,
           "tickangle": 0,
           "tickcolor": "#FCFCFC",
           "ticklen": 5,
           "ticks": "outside",
           "title": {
            "font": {
             "color": "#808080"
            },
            "standoff": 10
           },
           "zeroline": false
          }
         }
        },
        "width": 800,
        "xaxis": {
         "autorange": true,
         "range": [
          1959,
          1961
         ],
         "type": "linear"
        },
        "yaxis": {
         "autorange": true,
         "range": [
          -1,
          1
         ],
         "type": "multicategory"
        }
       }
      },
      "image/png": "[encoded data removed]",
      "text/html": [
       "<div>                            <div id=\"7db35716-d71c-4fa9-9562-717cd5c64e8c\" class=\"plotly-graph-div\" style=\"height:300px; width:800px;\"></div>            <script type=\"text/javascript\">                require([\"plotly\"], function(Plotly) {                    window.PLOTLYENV=window.PLOTLYENV || {};                                    if (document.getElementById(\"7db35716-d71c-4fa9-9562-717cd5c64e8c\")) {                    Plotly.newPlot(                        \"7db35716-d71c-4fa9-9562-717cd5c64e8c\",                        [{\"x\":[1960.0,1960.2073578595318,1960.4147157190635,1960.6220735785953,1960.8294314381271,1961.036789297659,1961.2441471571906,1961.4515050167224,1961.6588628762543,1961.8662207357859,1962.0735785953177,1962.2809364548496,1962.4882943143812,1962.695652173913,1962.9030100334448,1963.1103678929767,1963.3177257525083,1963.5250836120401,1963.732441471572,1963.9397993311036,1964.1471571906354,1964.3545150501673,1964.561872909699,1964.7692307692307,1964.9765886287626,1965.1839464882944,1965.391304347826,1965.5986622073578,1965.8060200668897,1966.0133779264213,1966.2207357859531,1966.428093645485,1966.6354515050168,1966.8428093645484,1967.0501672240803,1967.257525083612,1967.4648829431437,1967.6722408026756,1967.8795986622074,1968.0869565217392,1968.2943143812709,1968.5016722408027,1968.7090301003345,1968.9163879598661,1969.123745819398,1969.3311036789298,1969.5384615384614,1969.7458193979933,1969.953177257525,1970.160535117057,1970.3678929765886,1970.5752508361204,1970.7826086956522,1970.9899665551839,1971.1973244147157,1971.4046822742475,1971.6120401337794,1971.819397993311,1972.0267558528428,1972.2341137123747,1972.4414715719063,1972.6488294314381,1972.85618729097,1973.0635451505016,1973.2709030100334,1973.4782608695652,1973.685618729097,1973.8929765886287,1974.1003344481605,1974.3076923076924,1974.515050167224,1974.7224080267558,1974.9297658862877,1975.1371237458195,1975.3444816053511,1975.551839464883,1975.7591973244148,1975.9665551839464,1976.1739130434783,1976.38127090301,1976.5886287625417,1976.7959866220735,1977.0033444816054,1977.2107023411372,1977.4180602006688,1977.6254180602007,1977.8327759197325,1978.0401337792641,1978.247491638796,1978.4548494983278,1978.6622073578596,1978.8695652173913,1979.076923076923,1979.284280936455,1979.4916387959865,1979.6989966555184,1979.9063545150502,1980.1137123745818,1980.3210702341137,1980.5284280936455,1980.7357859531774,1980.943143812709,1981.1505016722408,1981.3578595317726,1981.5652173913043,1981.772575250836,1981.979933110368,1982.1872909698998,1982.3946488294314,1982.6020066889632,1982.809364548495,1983.0167224080267,1983.2240802675585,1983.4314381270904,1983.638795986622,1983.8461538461538,1984.0535117056857,1984.2608695652175,1984.468227424749,1984.675585284281,1984.8829431438128,1985.0903010033444,1985.2976588628762,1985.505016722408,1985.71237458194,1985.9197324414715,1986.1270903010034,1986.3344481605352,1986.5418060200668,1986.7491638795987,1986.9565217391305,1987.163879598662,1987.371237458194,1987.5785953177258,1987.7859531772576,1987.9933110367892,1988.200668896321,1988.408026755853,1988.6153846153845,1988.8227424749164,1989.0301003344482,1989.2374581939798,1989.4448160535117,1989.6521739130435,1989.8595317725753,1990.066889632107,1990.2742474916388,1990.4816053511706,1990.6889632107022,1990.896321070234,1991.103678929766,1991.3110367892978,1991.5183946488294,1991.7257525083612,1991.933110367893,1992.1404682274247,1992.3478260869565,1992.5551839464883,1992.7625418060202,1992.9698996655518,1993.1772575250836,1993.3846153846155,1993.591973244147,1993.799331103679,1994.0066889632108,1994.2140468227424,1994.4214046822742,1994.628762541806,1994.836120401338,1995.0434782608695,1995.2508361204013,1995.4581939799332,1995.6655518394648,1995.8729096989966,1996.0802675585285,1996.28762541806,1996.494983277592,1996.7023411371238,1996.9096989966556,1997.1170568561872,1997.324414715719,1997.531772575251,1997.7391304347825,1997.9464882943143,1998.1538461538462,1998.361204013378,1998.5685618729096,1998.7759197324415,1998.9832775919733,1999.190635451505,1999.3979933110368,1999.6053511705686,1999.8127090301005,2000.020066889632,2000.227424749164,2000.4347826086957,2000.6421404682274,2000.8494983277592,2001.056856187291,2001.2642140468226,2001.4715719063545,2001.6789297658863,2001.8862876254182,2002.0936454849498,2002.3010033444816,2002.5083612040135,2002.715719063545,2002.923076923077,2003.1304347826087,2003.3377926421404,2003.5451505016722,2003.752508361204,2003.9598662207359,2004.1672240802675,2004.3745819397993,2004.5819397993312,2004.7892976588628,2004.9966555183946,2005.2040133779265,2005.4113712374583,2005.61872909699,2005.8260869565217,2006.0334448160536,2006.2408026755852,2006.448160535117,2006.6555183946489,2006.8628762541807,2007.0702341137123,2007.2775919732442,2007.484949832776,2007.6923076923076,2007.8996655518395,2008.1070234113713,2008.314381270903,2008.5217391304348,2008.7290969899666,2008.9364548494984,2009.14381270903,2009.3511705685619,2009.5585284280937,2009.7658862876253,2009.9732441471572,2010.180602006689,2010.3879598662206,2010.5953177257525,2010.8026755852843,2011.0100334448161,2011.2173913043478,2011.4247491638796,2011.6321070234114,2011.839464882943,2012.046822742475,2012.2541806020067,2012.4615384615386,2012.6688963210702,2012.876254180602,2013.0836120401339,2013.2909698996655,2013.4983277591973,2013.7056856187291,2013.9130434782608,2014.1204013377926,2014.3277591973244,2014.5351170568563,2014.742474916388,2014.9498327759197,2015.1571906354516,2015.3645484949832,2015.571906354515,2015.7792642140469,2015.9866220735787,2016.1939799331103,2016.4013377926422,2016.608695652174,2016.8160535117056,2017.0234113712374,2017.2307692307693,2017.438127090301,2017.6454849498327,2017.8528428093646,2018.0602006688964,2018.267558528428,2018.4749163879599,2018.6822742474917,2018.8896321070233,2019.0969899665552,2019.304347826087,2019.5117056856188,2019.7190635451504,2019.9264214046823,2020.1337792642141,2020.3411371237457,2020.5484949832776,2020.7558528428094,2020.963210702341,2021.1705685618729,2021.3779264214047,2021.5852842809365,2021.7926421404682,2022.0],\"y\":[[1.45797598627791],[1.295328003297253],[1.182598232000979],[1.1125241264254901],[1.0778431406075792],[1.07129272858389],[1.085610344391041],[1.113533442065713],[1.1477994756445444],[1.1811458991641444],[1.2063946602283129],[1.2207329323208795],[1.2277373419834552],[1.2314923658978738],[1.236082480745948],[1.2453763840253862],[1.2589578899152298],[1.2724718532638812],[1.2814166882451443],[1.2812908090328414],[1.269546300776725],[1.2631361802265593],[1.290221018404657],[1.3790951416056778],[1.5580528761245909],[1.8447839969389106],[2.197311512100355],[2.5528070931974858],[2.8484205493918178],[3.021307794287807],[3.03602224329092],[2.9474966378958944],[2.8292738761612806],[2.754896856145655],[2.7976199199145078],[2.9928189422237543],[3.3006539805063277],[3.6724084258722614],[4.059365669430585],[4.413551372364305],[4.712802058190948],[4.96682118516746],[5.187282588914261],[5.385860105051915],[5.572926250937393],[5.739131017831634],[5.859812577568733],[5.909907682563227],[5.8643530852291965],[5.7022960878994295],[5.4367167239835155],[5.096890196207346],[4.712196179130846],[4.312014347314147],[3.927021690693706],[3.5938963385058162],[3.3510504586442953],[3.236896389553621],[3.2898323243204266],[3.5388367530305413],[3.987165717206381],[4.633724897871363],[5.477419976047537],[6.516497138777402],[7.700742409419789],[8.899214421619128],[9.973327197887471],[10.784494760736182],[11.198386923929542],[11.186388616862256],[10.830143178156616],[10.216458900792437],[9.43214407775061],[8.563437119988604],[7.689820614871398],[6.886355559494914],[6.228026375205842],[5.789817483350221],[5.630988629683671],[5.708012108111211],[5.936065940433474],[6.230216315017257],[6.50552952325475],[6.70283282628816],[6.861131541819032],[7.042815968031859],[7.310276403110667],[7.725765976322894],[8.319919746710486],[9.051539444028753],[9.869504278053112],[10.722693458558044],[11.559890067624794],[12.325409686826353],[12.957302452992597],[13.393149841921131],[13.570533329407333],[13.430870903257437],[12.986594677506666],[12.31272430966068],[11.486422219072296],[10.584850825095316],[9.679974216310981],[8.794665812931624],[7.924794127537293],[7.065947404951318],[6.213713889999898],[5.37184823116671],[4.587842879620498],[3.9237716621558727],[3.4417184498894904],[3.2037530968573327],[3.238274973453778],[3.4677830659634905],[3.794009440080976],[4.118686161501922],[4.343878442499459],[4.40891641273214],[4.323921247096748],[4.106930906469062],[3.775983351725083],[3.349927469179751],[2.873412658980743],[2.4216241156170524],[2.071513452729498],[1.9000322839589612],[1.9775166189307154],[2.280200587969213],[2.7142994012236525],[3.184361588025696],[3.594935677705549],[3.8625222302147044],[3.9947521150547316],[4.04122195131326],[4.051751552591426],[4.076160732490314],[4.1547119097343375],[4.285550895646795],[4.455225779856651],[4.650284298015871],[4.857269049069144],[5.060221253081182],[5.2366617749856585],[5.36306245709972],[5.415895141740742],[5.37189950555787],[5.225203297845785],[4.997672262623342],[4.71365255765525],[4.3974903407052395],[4.073370234259797],[3.7617615494070047],[3.4794182858371245],[3.242932907961316],[3.0688978801917024],[2.971594625668491],[2.9394606329395723],[2.944732644370634],[2.9593978567844355],[2.955443467003761],[2.909936382900827],[2.8315172072415304],[2.740939038503087],[2.6589798487785727],[2.6064174278553156],[2.5980564897607397],[2.6270107911612817],[2.681471825095225],[2.7496310846008205],[2.8196883561317754],[2.8814027807810922],[2.927919700825899],[2.9528285696239367],[2.9497188405330195],[2.9122693355893934],[2.837913343969471],[2.7291299683634076],[2.588753045122489],[2.419616410597943],[2.225167198776075],[2.0194545179380157],[1.8254853695657478],[1.6665483070326719],[1.565931883711674],[1.5446793208476064],[1.6037563222803923],[1.7335596417111099],[1.924391546932715],[2.1665543057377663],[2.44759973344312],[2.7410537828233887],[3.015982955638203],[3.241451897170402],[3.3865315564319896],[3.4294440295588244],[3.3758608850417082],[3.2365788567370206],[3.022394678500631],[2.7442188922335826],[2.423927895502111],[2.1033322841730953],[1.8263535350585514],[1.6369131249701607],[1.5775418984026628],[1.650151971873674],[1.8105679608439553],[2.0121246205067522],[2.2081567060560205],[2.3549714484451734],[2.4486145703368303],[2.5134668510520406],[2.5745187584189986],[2.656760760266025],[2.7810768484232296],[2.938622493825493],[3.1074678980654373],[3.265626494811443],[3.391111717732414],[3.4653095581279123],[3.483765144788304],[3.4457388268430904],[3.350490968279942],[3.1973251781004515],[3.001513200172236],[2.818073789511289],[2.708106296038548],[2.732710069674752],[2.9515533446083264],[3.341669745391485],[3.7538340594116697],[4.028170612188049],[4.004803729240704],[3.532757556315133],[2.6510443692341528],[1.5808359478490421],[0.5506372979086833],[-0.21104657483882072],[-0.4965242673959786],[-0.3178968281046547],[0.18079461577934985],[0.8537133655237961],[1.555022722398835],[2.154733960019106],[2.6165629204960017],[2.9385405774490887],[3.11874943476257],[3.155272784060858],[3.0542030991853917],[2.84935093161609],[2.580518876438885],[2.2875095287399896],[2.010064192366555],[1.778364167562075],[1.6027418640949234],[1.491059458278779],[1.4511791264269818],[1.4902616088010543],[1.5887119342103235],[1.692472197792403],[1.7452105849019344],[1.6905952808937816],[1.4769988389967699],[1.1288776056942533],[0.7323125653495428],[0.3751569067535157],[0.14526381869584803],[0.11941401931146087],[0.28056641347994493],[0.5644315132191049],[0.9063598949976297],[1.2417021352842943],[1.5166065499810213],[1.7296601547916948],[1.8953461823349043],[2.028151407068616],[2.142557122543098],[2.2478171942151555],[2.338227034678038],[2.405423496506164],[2.4410434322736356],[2.4367507649857183],[2.3864776895415187],[2.288103150860049],[2.1399014929686544],[1.940147059894895],[1.6883114525903342],[1.4160700729604012],[1.1901302991042875],[1.0789636577990054],[1.1510416758212274],[1.4691462204452463],[2.0244754191164],[2.759321931025039],[3.6150317982599627],[4.532951062909442],[5.454425767064832],[6.320801952814438],[7.0734256622475495],[7.6536429374529344],[8.00279982052121]],\"type\":\"scatter\"}],                        {\"template\":{\"data\":{\"bar\":[{\"textfont\":{\"color\":\"#FFFFFF\",\"family\":\"Ubuntu\",\"size\":10},\"textposition\":\"outside\",\"texttemplate\":\"%{value:$.2s}\",\"type\":\"bar\"}],\"scatter\":[{\"line\":{\"width\":1.75},\"marker\":{\"size\":3.5},\"type\":\"scatter\"}]},\"layout\":{\"autosize\":false,\"colorway\":[\"#4B4B4B\",\"#AF4035\",\"#4682B4\",\"#2C8B6D\",\"#FFA500\",\"#6C4839\",\"#9A7D4D\",\"#534D89\",\"#C95576\",\"#DE6535\",\"#304E68\",\"#3D6384\",\"#4D7DA8\",\"#6D9BC3\",\"#A7CBE8\",\"#353535\",\"#7F7F7F\",\"#A5A5A5\",\"#BFBFBF\",\"#D9D9D9\"],\"dragmode\":false,\"font\":{\"family\":\"Ubuntu\",\"size\":10},\"height\":250,\"hidesources\":true,\"legend\":{\"entrywidth\":50,\"font\":{\"color\":\"#808080\",\"family\":\"Ubuntu\",\"size\":10,\"style\":\"normal\",\"weight\":\"normal\"},\"indentation\":20,\"itemsizing\":\"trace\",\"itemwidth\":30,\"orientation\":\"h\",\"title\":{\"font\":{\"color\":\"#4B4B4B\",\"family\":\"Ubuntu\",\"size\":12,\"style\":\"normal\",\"weight\":\"bold\"}},\"tracegroupgap\":10,\"x\":0,\"xanchor\":\"left\",\"y\":1.25,\"yanchor\":\"top\"},\"margin\":{\"b\":50,\"l\":50,\"pad\":120,\"r\":50,\"t\":10},\"title\":{\"font\":{\"color\":\"#505050\",\"family\":\"Ubuntu\",\"size\":15},\"x\":0.1,\"y\":0.95},\"width\":750,\"xaxis\":{\"anchor\":\"free\",\"color\":\"#909090\",\"gridcolor\":\"#F9F9F9\",\"griddash\":\"1px\",\"gridwidth\":1,\"linecolor\":\"#E1E1E1\",\"linewidth\":1,\"position\":0,\"showgrid\":true,\"showline\":true,\"showticklabels\":true,\"tickangle\":0,\"tickcolor\":\"#FCFCFC\",\"ticklen\":5,\"ticks\":\"outside\",\"title\":{\"font\":{\"color\":\"#808080\"},\"standoff\":10},\"zeroline\":false},\"yaxis\":{\"anchor\":\"free\",\"color\":\"#909090\",\"gridcolor\":\"#F9F9F9\",\"griddash\":\"1px\",\"gridwidth\":1,\"linecolor\":\"#E1E1E1\",\"linewidth\":1,\"position\":0,\"showgrid\":true,\"showline\":true,\"showticklabels\":true,\"tickangle\":0,\"tickcolor\":\"#FCFCFC\",\"ticklen\":5,\"ticks\":\"outside\",\"title\":{\"font\":{\"color\":\"#808080\"},\"standoff\":10},\"zeroline\":false}}},\"autosize\":false,\"width\":800,\"height\":300},                        {\"responsive\": true}                    ).then(function(){\n",
       "                            \n",
       "var gd = document.getElementById('7db35716-d71c-4fa9-9562-717cd5c64e8c');\n",
       "var x = new MutationObserver(function (mutations, observer) {{\n",
       "        var display = window.getComputedStyle(gd).display;\n",
       "        if (!display || display === 'none') {{\n",
       "            console.log([gd, 'removed!']);\n",
       "            Plotly.purge(gd);\n",
       "            observer.disconnect();\n",
       "        }}\n",
       "}});\n",
       "\n",
       "// Listen for the removal of the full notebook cells\n",
       "var notebookContainer = gd.closest('#notebook-container');\n",
       "if (notebookContainer) {{\n",
       "    x.observe(notebookContainer, {childList: true});\n",
       "}}\n",
       "\n",
       "// Listen for the clearing of the current output cell\n",
       "var outputEl = gd.closest('.output');\n",
       "if (outputEl) {{\n",
       "    x.observe(outputEl, {childList: true});\n",
       "}}\n",
       "\n",
       "                        })                };                });            </script>        </div>"
      ]
     },
     "metadata": {},
     "output_type": "display_data"
    }
   ],
   "source": [
    "fig = pl_figure(figsize=(800, 300))\n",
    "\n",
    "pl_plot(\n",
    "    go.Scatter(\n",
    "        x=smoothed(data[data['United States'].notna()]['United States']).index,\n",
    "        y=smoothed(data[data['United States'].notna()]['United States']).values,\n",
    "        ), fig)\n",
    "\n",
    "fig.show()"
   ]
  },
  {
   "cell_type": "code",
   "execution_count": 219,
   "id": "d5b5a864-6963-4480-9832-bfcaccfaa4af",
   "metadata": {},
   "outputs": [
    {
     "data": {
      "text/plain": [
       "[<matplotlib.lines.Line2D at 0x12ba06690>]"
      ]
     },
     "execution_count": 219,
     "metadata": {},
     "output_type": "execute_result"
    },
    {
     "data": {
      "image/png": "[encoded data removed]",
      "text/plain": [
       "<Figure size 900x250 with 1 Axes>"
      ]
     },
     "metadata": {},
     "output_type": "display_data"
    }
   ],
   "source": [
    "plt.plot(\n",
    "    smoothed(data[data['United States'].notna()]['United States'])\n",
    ")"
   ]
  },
  {
   "cell_type": "code",
   "execution_count": null,
   "id": "2fa9b25e-7785-4089-aed1-dee42abd8fda",
   "metadata": {},
   "outputs": [],
   "source": []
  },
  {
   "cell_type": "code",
   "execution_count": null,
   "id": "0f49389c-f764-4ed6-a7f0-787351d8855f",
   "metadata": {},
   "outputs": [],
   "source": []
  },
  {
   "cell_type": "code",
   "execution_count": null,
   "id": "226a2de0-32de-45a6-aa3c-ab71dbe37036",
   "metadata": {},
   "outputs": [],
   "source": [
    "pl_plot"
   ]
  },
  {
   "cell_type": "code",
   "execution_count": null,
   "id": "48c77726-3126-405c-9da3-fd183b8f6184",
   "metadata": {},
   "outputs": [],
   "source": []
  },
  {
   "cell_type": "code",
   "execution_count": 214,
   "id": "46b98752-37ac-4735-8401-ae534a568f8b",
   "metadata": {},
   "outputs": [
    {
     "data": {
      "text/plain": [
       "Index([            1960.0, 1960.2073578595318, 1960.4147157190635,\n",
       "       1960.6220735785953, 1960.8294314381271,  1961.036789297659,\n",
       "       1961.2441471571906, 1961.4515050167224, 1961.6588628762543,\n",
       "       1961.8662207357859,\n",
       "       ...\n",
       "       2020.1337792642141, 2020.3411371237457, 2020.5484949832776,\n",
       "       2020.7558528428094,  2020.963210702341, 2021.1705685618729,\n",
       "       2021.3779264214047, 2021.5852842809365, 2021.7926421404682,\n",
       "                   2022.0],\n",
       "      dtype='float64', length=300)"
      ]
     },
     "execution_count": 214,
     "metadata": {},
     "output_type": "execute_result"
    }
   ],
   "source": [
    "smoothed(data[data['United States'].notna()]['United States']).index"
   ]
  },
  {
   "cell_type": "code",
   "execution_count": 215,
   "id": "2981f10e-e4a7-4d3b-a7ca-8861fda9ee82",
   "metadata": {},
   "outputs": [
    {
     "data": {
      "text/html": [
       "<div>\n",
       "<style scoped>\n",
       "    .dataframe tbody tr th:only-of-type {\n",
       "        vertical-align: middle;\n",
       "    }\n",
       "\n",
       "    .dataframe tbody tr th {\n",
       "        vertical-align: top;\n",
       "    }\n",
       "\n",
       "    .dataframe thead th {\n",
       "        text-align: right;\n",
       "    }\n",
       "</style>\n",
       "<table border=\"1\" class=\"dataframe\">\n",
       "  <thead>\n",
       "    <tr style=\"text-align: right;\">\n",
       "      <th></th>\n",
       "      <th>United States</th>\n",
       "    </tr>\n",
       "  </thead>\n",
       "  <tbody>\n",
       "    <tr>\n",
       "      <th>1960.000000</th>\n",
       "      <td>1.457976</td>\n",
       "    </tr>\n",
       "    <tr>\n",
       "      <th>1960.207358</th>\n",
       "      <td>1.295328</td>\n",
       "    </tr>\n",
       "    <tr>\n",
       "      <th>1960.414716</th>\n",
       "      <td>1.182598</td>\n",
       "    </tr>\n",
       "    <tr>\n",
       "      <th>1960.622074</th>\n",
       "      <td>1.112524</td>\n",
       "    </tr>\n",
       "    <tr>\n",
       "      <th>1960.829431</th>\n",
       "      <td>1.077843</td>\n",
       "    </tr>\n",
       "    <tr>\n",
       "      <th>...</th>\n",
       "      <td>...</td>\n",
       "    </tr>\n",
       "    <tr>\n",
       "      <th>2021.170569</th>\n",
       "      <td>5.454426</td>\n",
       "    </tr>\n",
       "    <tr>\n",
       "      <th>2021.377926</th>\n",
       "      <td>6.320802</td>\n",
       "    </tr>\n",
       "    <tr>\n",
       "      <th>2021.585284</th>\n",
       "      <td>7.073426</td>\n",
       "    </tr>\n",
       "    <tr>\n",
       "      <th>2021.792642</th>\n",
       "      <td>7.653643</td>\n",
       "    </tr>\n",
       "    <tr>\n",
       "      <th>2022.000000</th>\n",
       "      <td>8.002800</td>\n",
       "    </tr>\n",
       "  </tbody>\n",
       "</table>\n",
       "<p>300 rows × 1 columns</p>\n",
       "</div>"
      ],
      "text/plain": [
       "             United States\n",
       "1960.000000       1.457976\n",
       "1960.207358       1.295328\n",
       "1960.414716       1.182598\n",
       "1960.622074       1.112524\n",
       "1960.829431       1.077843\n",
       "...                    ...\n",
       "2021.170569       5.454426\n",
       "2021.377926       6.320802\n",
       "2021.585284       7.073426\n",
       "2021.792642       7.653643\n",
       "2022.000000       8.002800\n",
       "\n",
       "[300 rows x 1 columns]"
      ]
     },
     "execution_count": 215,
     "metadata": {},
     "output_type": "execute_result"
    }
   ],
   "source": [
    "smoothed(data[data['United States'].notna()]['United States'])"
   ]
  },
  {
   "cell_type": "code",
   "execution_count": null,
   "id": "430d319e-028d-4b79-b8e6-9eb413471e92",
   "metadata": {},
   "outputs": [],
   "source": []
  },
  {
   "cell_type": "code",
   "execution_count": null,
   "id": "fb8603f8-3abc-44aa-b422-dc672e63968e",
   "metadata": {},
   "outputs": [],
   "source": []
  },
  {
   "cell_type": "code",
   "execution_count": null,
   "id": "60a656f9-002d-4fae-87e4-444dc7d3dcd8",
   "metadata": {},
   "outputs": [],
   "source": []
  },
  {
   "cell_type": "code",
   "execution_count": null,
   "id": "37777daa-0de3-4730-a5f1-bc46a646cf3e",
   "metadata": {},
   "outputs": [],
   "source": []
  },
  {
   "cell_type": "markdown",
   "id": "794f717f-23ec-4f90-bace-9c7d6f403493",
   "metadata": {},
   "source": [
    "### Execution time"
   ]
  },
  {
   "cell_type": "code",
   "execution_count": 17,
   "id": "f9aa45c6-e653-4b65-9349-af30e6963a2c",
   "metadata": {},
   "outputs": [
    {
     "name": "stdout",
     "output_type": "stream",
     "text": [
      "Execution time: 0:00:12\n"
     ]
    }
   ],
   "source": [
    "stopwatch_stop(start)"
   ]
  }
 ],
 "metadata": {
  "kernelspec": {
   "display_name": "economy-rus",
   "language": "python",
   "name": "economy-rus"
  },
  "language_info": {
   "codemirror_mode": {
    "name": "ipython",
    "version": 3
   },
   "file_extension": ".py",
   "mimetype": "text/x-python",
   "name": "python",
   "nbconvert_exporter": "python",
   "pygments_lexer": "ipython3",
   "version": "3.12.3"
  }
 },
 "nbformat": 4,
 "nbformat_minor": 5
}
